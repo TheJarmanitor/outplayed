{
 "cells": [
  {
   "cell_type": "code",
   "execution_count": 17,
   "metadata": {},
   "outputs": [],
   "source": [
    "import pandas as pd\n",
    "import statsmodels.api as sm\n",
    "import numpy as np\n",
    "import seaborn as sns\n",
    "import matplotlib.pyplot as plt\n",
    "from sklearn.preprocessing import MinMaxScaler\n",
    "from sklearn.metrics import r2_score"
   ]
  },
  {
   "cell_type": "code",
   "execution_count": 18,
   "metadata": {},
   "outputs": [],
   "source": [
    "df = pd.read_csv('../data/player_stats_trends.csv')\n",
    "tournament_stats = pd.read_csv('../data/tournament_stats.csv')\n",
    "goals = pd.read_csv('../data/goals.csv')\n",
    "awards = pd.read_csv('../data/awards.csv')"
   ]
  },
  {
   "cell_type": "code",
   "execution_count": 19,
   "metadata": {},
   "outputs": [],
   "source": [
    "awards['Year'] = awards['Season'].apply(lambda x: float(str(x)[-2:]))\n",
    "awards = awards.drop(columns=['Season', 'Club/Country'])\n",
    "awards = awards.groupby('Award').filter(lambda x: len(x) >= 5)\n",
    "awards = awards[~awards['Award'].isin([\"Winner Ballon d'Or\", 'Footballer of the Year', 'UEFA Best Player in Europe', \"The Best FIFA Men's Player\", 'Player of the Year', 'Top goal scorer', 'African Footballer of the Year', 'TM-Player of the season'])]\n",
    "\n",
    "awards = pd.get_dummies(awards, columns=['Award'], prefix='', prefix_sep='')\n",
    "\n",
    "for col in awards.columns:\n",
    "    if col not in ['Player', 'Year']:\n",
    "        awards[col] = awards[col].astype(int)\n",
    "awards = awards.groupby(['Player', 'Year']).sum().reset_index()\n"
   ]
  },
  {
   "cell_type": "code",
   "execution_count": 20,
   "metadata": {},
   "outputs": [],
   "source": [
    "def goal_fixer(goals):\n",
    "    try:\n",
    "        return int(goals)\n",
    "    except:\n",
    "        return 0\n",
    "def run_model(X, y):\n",
    "    glm = sm.GLM(endog=y, exog= X, family=sm.families.Gaussian())\n",
    "    X = sm.add_constant(X)\n",
    "    glm_results = glm.fit()\n",
    "    return glm_results\n",
    "def remove_p(X, glm_results, p):\n",
    "    to_remove = []\n",
    "    for i in glm_results.pvalues.index:\n",
    "        if glm_results.pvalues[i] > p:\n",
    "            to_remove.append(i)\n",
    "        elif np.isnan(glm_results.pvalues[i]):\n",
    "            to_remove.append(i)\n",
    "    X = X.drop(columns=to_remove)\n",
    "    return X"
   ]
  },
  {
   "cell_type": "code",
   "execution_count": null,
   "metadata": {},
   "outputs": [],
   "source": []
  },
  {
   "cell_type": "code",
   "execution_count": 21,
   "metadata": {},
   "outputs": [
    {
     "name": "stderr",
     "output_type": "stream",
     "text": [
      "C:\\Users\\User\\AppData\\Local\\Temp\\ipykernel_28312\\1659856986.py:5: FutureWarning: The default value of regex will change from True to False in a future version. In addition, single character regular expressions will *not* be treated as literal strings when regex=True.\n",
      "  tournament_stats['Minutes played']= tournament_stats['Minutes played'].str.replace(\"'\", '').str.replace('.', '')\n"
     ]
    }
   ],
   "source": [
    "tournament_stats['Year'] = tournament_stats['Season'].apply(lambda x: float(x[-2:]))\n",
    "tournament_stats = tournament_stats.drop('Season', axis=1)\n",
    "tournament_stats = tournament_stats.query('Year >= 8 & Year <= 23')\n",
    "tournament_stats['Goals'] = tournament_stats['Goals'].apply(lambda x: goal_fixer(x))\n",
    "tournament_stats['Minutes played']= tournament_stats['Minutes played'].str.replace(\"'\", '').str.replace('.', '')\n",
    "for col in tournament_stats.columns:\n",
    "    if col not in ['Player', 'Competition', 'Club', 'Year']:\n",
    "        try:\n",
    "            tournament_stats[col] = tournament_stats[col].str.replace('-', '0').astype(float)\n",
    "        except:\n",
    "            pass \n",
    "\n",
    "comp_goals = tournament_stats.pivot_table(index=['Year', 'Player'], columns='Competition', aggfunc='sum')['Goals'].replace(np.nan, 0).reset_index()\n",
    "comp_goals = comp_goals.rename(columns=lambda x: x + '_Goals')\n",
    "comp_goals.rename(columns={'Year_Goals': 'Year', 'Player_Goals' : 'Player'}, inplace=True)\n",
    "\n",
    "comp_ass = tournament_stats.pivot_table(index=['Year', 'Player'], columns='Competition', aggfunc='sum')['Assists'].replace(np.nan, 0).reset_index()\n",
    "comp_ass = comp_ass.rename(columns=lambda x: x + '_ass')\n",
    "comp_ass.rename(columns={'Year_ass': 'Year', 'Player_ass' : 'Player'}, inplace=True)\n",
    "\n",
    "Goals = []\n",
    "for i in comp_goals.iterrows():\n",
    "    rs = 0\n",
    "    for j in i[1].index:\n",
    "        if j not in ['Player', 'Year']:\n",
    "            rs += i[1][j]\n",
    "    Goals.append(rs)\n",
    "comp_goals['Goals'] = Goals\n",
    "\n",
    "Goals = []\n",
    "for i in comp_ass.iterrows():\n",
    "    rs = 0\n",
    "    for j in i[1].index:\n",
    "        if j not in ['Player', 'Year']:\n",
    "            rs += i[1][j]\n",
    "    Goals.append(rs)\n",
    "comp_ass['Assists'] = Goals\n",
    "\n",
    "# comp_mins = tournament_stats.pivot_table(index=['Year', 'Player'], columns='Competition', aggfunc='sum')['Minutes played'].replace(np.nan, 0).reset_index()\n",
    "# comp_mins = comp_mins.rename(columns=lambda x: x + '_Minutes')\n",
    "# comp_mins.rename(columns={'Year_Minutes': 'Year', 'Player_Minutes' : 'Player'}, inplace=True)"
   ]
  },
  {
   "cell_type": "code",
   "execution_count": 22,
   "metadata": {},
   "outputs": [],
   "source": [
    "df = df.drop(columns=['P1', 'P2', 'P3', 'P4', 'P5', 'Votes', 'RankPts', 'Percent', 'Voted', 'Season', 'Goals', 'Minutes played', 'Assists'])"
   ]
  },
  {
   "cell_type": "code",
   "execution_count": 23,
   "metadata": {},
   "outputs": [],
   "source": [
    "for i in df.columns:\n",
    "    if i  not in ['Player', 'Nationality', 'Club']:\n",
    "        df[i] = df[i].astype(float)"
   ]
  },
  {
   "cell_type": "code",
   "execution_count": 24,
   "metadata": {},
   "outputs": [
    {
     "name": "stderr",
     "output_type": "stream",
     "text": [
      "C:\\Users\\User\\AppData\\Local\\Temp\\ipykernel_28312\\3089184607.py:12: SettingWithCopyWarning: \n",
      "A value is trying to be set on a copy of a slice from a DataFrame.\n",
      "Try using .loc[row_indexer,col_indexer] = value instead\n",
      "\n",
      "See the caveats in the documentation: https://pandas.pydata.org/pandas-docs/stable/user_guide/indexing.html#returning-a-view-versus-a-copy\n",
      "  df_temp['Goals_Scaled'] = scaler.fit_transform(df_temp['Goals'].values.reshape(-1, 1))\n",
      "C:\\Users\\User\\AppData\\Local\\Temp\\ipykernel_28312\\3089184607.py:13: SettingWithCopyWarning: \n",
      "A value is trying to be set on a copy of a slice from a DataFrame.\n",
      "Try using .loc[row_indexer,col_indexer] = value instead\n",
      "\n",
      "See the caveats in the documentation: https://pandas.pydata.org/pandas-docs/stable/user_guide/indexing.html#returning-a-view-versus-a-copy\n",
      "  df_temp['Ass_Scaled'] = scaler.fit_transform(df_temp['Assists'].values.reshape(-1, 1))\n",
      "C:\\Users\\User\\AppData\\Local\\Temp\\ipykernel_28312\\3089184607.py:12: SettingWithCopyWarning: \n",
      "A value is trying to be set on a copy of a slice from a DataFrame.\n",
      "Try using .loc[row_indexer,col_indexer] = value instead\n",
      "\n",
      "See the caveats in the documentation: https://pandas.pydata.org/pandas-docs/stable/user_guide/indexing.html#returning-a-view-versus-a-copy\n",
      "  df_temp['Goals_Scaled'] = scaler.fit_transform(df_temp['Goals'].values.reshape(-1, 1))\n",
      "C:\\Users\\User\\AppData\\Local\\Temp\\ipykernel_28312\\3089184607.py:13: SettingWithCopyWarning: \n",
      "A value is trying to be set on a copy of a slice from a DataFrame.\n",
      "Try using .loc[row_indexer,col_indexer] = value instead\n",
      "\n",
      "See the caveats in the documentation: https://pandas.pydata.org/pandas-docs/stable/user_guide/indexing.html#returning-a-view-versus-a-copy\n",
      "  df_temp['Ass_Scaled'] = scaler.fit_transform(df_temp['Assists'].values.reshape(-1, 1))\n",
      "C:\\Users\\User\\AppData\\Local\\Temp\\ipykernel_28312\\3089184607.py:12: SettingWithCopyWarning: \n",
      "A value is trying to be set on a copy of a slice from a DataFrame.\n",
      "Try using .loc[row_indexer,col_indexer] = value instead\n",
      "\n",
      "See the caveats in the documentation: https://pandas.pydata.org/pandas-docs/stable/user_guide/indexing.html#returning-a-view-versus-a-copy\n",
      "  df_temp['Goals_Scaled'] = scaler.fit_transform(df_temp['Goals'].values.reshape(-1, 1))\n",
      "C:\\Users\\User\\AppData\\Local\\Temp\\ipykernel_28312\\3089184607.py:13: SettingWithCopyWarning: \n",
      "A value is trying to be set on a copy of a slice from a DataFrame.\n",
      "Try using .loc[row_indexer,col_indexer] = value instead\n",
      "\n",
      "See the caveats in the documentation: https://pandas.pydata.org/pandas-docs/stable/user_guide/indexing.html#returning-a-view-versus-a-copy\n",
      "  df_temp['Ass_Scaled'] = scaler.fit_transform(df_temp['Assists'].values.reshape(-1, 1))\n",
      "C:\\Users\\User\\AppData\\Local\\Temp\\ipykernel_28312\\3089184607.py:12: SettingWithCopyWarning: \n",
      "A value is trying to be set on a copy of a slice from a DataFrame.\n",
      "Try using .loc[row_indexer,col_indexer] = value instead\n",
      "\n",
      "See the caveats in the documentation: https://pandas.pydata.org/pandas-docs/stable/user_guide/indexing.html#returning-a-view-versus-a-copy\n",
      "  df_temp['Goals_Scaled'] = scaler.fit_transform(df_temp['Goals'].values.reshape(-1, 1))\n",
      "C:\\Users\\User\\AppData\\Local\\Temp\\ipykernel_28312\\3089184607.py:13: SettingWithCopyWarning: \n",
      "A value is trying to be set on a copy of a slice from a DataFrame.\n",
      "Try using .loc[row_indexer,col_indexer] = value instead\n",
      "\n",
      "See the caveats in the documentation: https://pandas.pydata.org/pandas-docs/stable/user_guide/indexing.html#returning-a-view-versus-a-copy\n",
      "  df_temp['Ass_Scaled'] = scaler.fit_transform(df_temp['Assists'].values.reshape(-1, 1))\n",
      "C:\\Users\\User\\AppData\\Local\\Temp\\ipykernel_28312\\3089184607.py:12: SettingWithCopyWarning: \n",
      "A value is trying to be set on a copy of a slice from a DataFrame.\n",
      "Try using .loc[row_indexer,col_indexer] = value instead\n",
      "\n",
      "See the caveats in the documentation: https://pandas.pydata.org/pandas-docs/stable/user_guide/indexing.html#returning-a-view-versus-a-copy\n",
      "  df_temp['Goals_Scaled'] = scaler.fit_transform(df_temp['Goals'].values.reshape(-1, 1))\n",
      "C:\\Users\\User\\AppData\\Local\\Temp\\ipykernel_28312\\3089184607.py:13: SettingWithCopyWarning: \n",
      "A value is trying to be set on a copy of a slice from a DataFrame.\n",
      "Try using .loc[row_indexer,col_indexer] = value instead\n",
      "\n",
      "See the caveats in the documentation: https://pandas.pydata.org/pandas-docs/stable/user_guide/indexing.html#returning-a-view-versus-a-copy\n",
      "  df_temp['Ass_Scaled'] = scaler.fit_transform(df_temp['Assists'].values.reshape(-1, 1))\n",
      "C:\\Users\\User\\AppData\\Local\\Temp\\ipykernel_28312\\3089184607.py:12: SettingWithCopyWarning: \n",
      "A value is trying to be set on a copy of a slice from a DataFrame.\n",
      "Try using .loc[row_indexer,col_indexer] = value instead\n",
      "\n",
      "See the caveats in the documentation: https://pandas.pydata.org/pandas-docs/stable/user_guide/indexing.html#returning-a-view-versus-a-copy\n",
      "  df_temp['Goals_Scaled'] = scaler.fit_transform(df_temp['Goals'].values.reshape(-1, 1))\n",
      "C:\\Users\\User\\AppData\\Local\\Temp\\ipykernel_28312\\3089184607.py:13: SettingWithCopyWarning: \n",
      "A value is trying to be set on a copy of a slice from a DataFrame.\n",
      "Try using .loc[row_indexer,col_indexer] = value instead\n",
      "\n",
      "See the caveats in the documentation: https://pandas.pydata.org/pandas-docs/stable/user_guide/indexing.html#returning-a-view-versus-a-copy\n",
      "  df_temp['Ass_Scaled'] = scaler.fit_transform(df_temp['Assists'].values.reshape(-1, 1))\n",
      "C:\\Users\\User\\AppData\\Local\\Temp\\ipykernel_28312\\3089184607.py:12: SettingWithCopyWarning: \n",
      "A value is trying to be set on a copy of a slice from a DataFrame.\n",
      "Try using .loc[row_indexer,col_indexer] = value instead\n",
      "\n",
      "See the caveats in the documentation: https://pandas.pydata.org/pandas-docs/stable/user_guide/indexing.html#returning-a-view-versus-a-copy\n",
      "  df_temp['Goals_Scaled'] = scaler.fit_transform(df_temp['Goals'].values.reshape(-1, 1))\n",
      "C:\\Users\\User\\AppData\\Local\\Temp\\ipykernel_28312\\3089184607.py:13: SettingWithCopyWarning: \n",
      "A value is trying to be set on a copy of a slice from a DataFrame.\n",
      "Try using .loc[row_indexer,col_indexer] = value instead\n",
      "\n",
      "See the caveats in the documentation: https://pandas.pydata.org/pandas-docs/stable/user_guide/indexing.html#returning-a-view-versus-a-copy\n",
      "  df_temp['Ass_Scaled'] = scaler.fit_transform(df_temp['Assists'].values.reshape(-1, 1))\n",
      "C:\\Users\\User\\AppData\\Local\\Temp\\ipykernel_28312\\3089184607.py:12: SettingWithCopyWarning: \n",
      "A value is trying to be set on a copy of a slice from a DataFrame.\n",
      "Try using .loc[row_indexer,col_indexer] = value instead\n",
      "\n",
      "See the caveats in the documentation: https://pandas.pydata.org/pandas-docs/stable/user_guide/indexing.html#returning-a-view-versus-a-copy\n",
      "  df_temp['Goals_Scaled'] = scaler.fit_transform(df_temp['Goals'].values.reshape(-1, 1))\n",
      "C:\\Users\\User\\AppData\\Local\\Temp\\ipykernel_28312\\3089184607.py:13: SettingWithCopyWarning: \n",
      "A value is trying to be set on a copy of a slice from a DataFrame.\n",
      "Try using .loc[row_indexer,col_indexer] = value instead\n",
      "\n",
      "See the caveats in the documentation: https://pandas.pydata.org/pandas-docs/stable/user_guide/indexing.html#returning-a-view-versus-a-copy\n",
      "  df_temp['Ass_Scaled'] = scaler.fit_transform(df_temp['Assists'].values.reshape(-1, 1))\n",
      "C:\\Users\\User\\AppData\\Local\\Temp\\ipykernel_28312\\3089184607.py:12: SettingWithCopyWarning: \n",
      "A value is trying to be set on a copy of a slice from a DataFrame.\n",
      "Try using .loc[row_indexer,col_indexer] = value instead\n",
      "\n",
      "See the caveats in the documentation: https://pandas.pydata.org/pandas-docs/stable/user_guide/indexing.html#returning-a-view-versus-a-copy\n",
      "  df_temp['Goals_Scaled'] = scaler.fit_transform(df_temp['Goals'].values.reshape(-1, 1))\n",
      "C:\\Users\\User\\AppData\\Local\\Temp\\ipykernel_28312\\3089184607.py:13: SettingWithCopyWarning: \n",
      "A value is trying to be set on a copy of a slice from a DataFrame.\n",
      "Try using .loc[row_indexer,col_indexer] = value instead\n",
      "\n",
      "See the caveats in the documentation: https://pandas.pydata.org/pandas-docs/stable/user_guide/indexing.html#returning-a-view-versus-a-copy\n",
      "  df_temp['Ass_Scaled'] = scaler.fit_transform(df_temp['Assists'].values.reshape(-1, 1))\n",
      "C:\\Users\\User\\AppData\\Local\\Temp\\ipykernel_28312\\3089184607.py:12: SettingWithCopyWarning: \n",
      "A value is trying to be set on a copy of a slice from a DataFrame.\n",
      "Try using .loc[row_indexer,col_indexer] = value instead\n",
      "\n",
      "See the caveats in the documentation: https://pandas.pydata.org/pandas-docs/stable/user_guide/indexing.html#returning-a-view-versus-a-copy\n",
      "  df_temp['Goals_Scaled'] = scaler.fit_transform(df_temp['Goals'].values.reshape(-1, 1))\n",
      "C:\\Users\\User\\AppData\\Local\\Temp\\ipykernel_28312\\3089184607.py:13: SettingWithCopyWarning: \n",
      "A value is trying to be set on a copy of a slice from a DataFrame.\n",
      "Try using .loc[row_indexer,col_indexer] = value instead\n",
      "\n",
      "See the caveats in the documentation: https://pandas.pydata.org/pandas-docs/stable/user_guide/indexing.html#returning-a-view-versus-a-copy\n",
      "  df_temp['Ass_Scaled'] = scaler.fit_transform(df_temp['Assists'].values.reshape(-1, 1))\n"
     ]
    },
    {
     "name": "stderr",
     "output_type": "stream",
     "text": [
      "C:\\Users\\User\\AppData\\Local\\Temp\\ipykernel_28312\\3089184607.py:12: SettingWithCopyWarning: \n",
      "A value is trying to be set on a copy of a slice from a DataFrame.\n",
      "Try using .loc[row_indexer,col_indexer] = value instead\n",
      "\n",
      "See the caveats in the documentation: https://pandas.pydata.org/pandas-docs/stable/user_guide/indexing.html#returning-a-view-versus-a-copy\n",
      "  df_temp['Goals_Scaled'] = scaler.fit_transform(df_temp['Goals'].values.reshape(-1, 1))\n",
      "C:\\Users\\User\\AppData\\Local\\Temp\\ipykernel_28312\\3089184607.py:13: SettingWithCopyWarning: \n",
      "A value is trying to be set on a copy of a slice from a DataFrame.\n",
      "Try using .loc[row_indexer,col_indexer] = value instead\n",
      "\n",
      "See the caveats in the documentation: https://pandas.pydata.org/pandas-docs/stable/user_guide/indexing.html#returning-a-view-versus-a-copy\n",
      "  df_temp['Ass_Scaled'] = scaler.fit_transform(df_temp['Assists'].values.reshape(-1, 1))\n",
      "C:\\Users\\User\\AppData\\Local\\Temp\\ipykernel_28312\\3089184607.py:12: SettingWithCopyWarning: \n",
      "A value is trying to be set on a copy of a slice from a DataFrame.\n",
      "Try using .loc[row_indexer,col_indexer] = value instead\n",
      "\n",
      "See the caveats in the documentation: https://pandas.pydata.org/pandas-docs/stable/user_guide/indexing.html#returning-a-view-versus-a-copy\n",
      "  df_temp['Goals_Scaled'] = scaler.fit_transform(df_temp['Goals'].values.reshape(-1, 1))\n",
      "C:\\Users\\User\\AppData\\Local\\Temp\\ipykernel_28312\\3089184607.py:13: SettingWithCopyWarning: \n",
      "A value is trying to be set on a copy of a slice from a DataFrame.\n",
      "Try using .loc[row_indexer,col_indexer] = value instead\n",
      "\n",
      "See the caveats in the documentation: https://pandas.pydata.org/pandas-docs/stable/user_guide/indexing.html#returning-a-view-versus-a-copy\n",
      "  df_temp['Ass_Scaled'] = scaler.fit_transform(df_temp['Assists'].values.reshape(-1, 1))\n",
      "C:\\Users\\User\\AppData\\Local\\Temp\\ipykernel_28312\\3089184607.py:12: SettingWithCopyWarning: \n",
      "A value is trying to be set on a copy of a slice from a DataFrame.\n",
      "Try using .loc[row_indexer,col_indexer] = value instead\n",
      "\n",
      "See the caveats in the documentation: https://pandas.pydata.org/pandas-docs/stable/user_guide/indexing.html#returning-a-view-versus-a-copy\n",
      "  df_temp['Goals_Scaled'] = scaler.fit_transform(df_temp['Goals'].values.reshape(-1, 1))\n",
      "C:\\Users\\User\\AppData\\Local\\Temp\\ipykernel_28312\\3089184607.py:13: SettingWithCopyWarning: \n",
      "A value is trying to be set on a copy of a slice from a DataFrame.\n",
      "Try using .loc[row_indexer,col_indexer] = value instead\n",
      "\n",
      "See the caveats in the documentation: https://pandas.pydata.org/pandas-docs/stable/user_guide/indexing.html#returning-a-view-versus-a-copy\n",
      "  df_temp['Ass_Scaled'] = scaler.fit_transform(df_temp['Assists'].values.reshape(-1, 1))\n",
      "C:\\Users\\User\\AppData\\Local\\Temp\\ipykernel_28312\\3089184607.py:12: SettingWithCopyWarning: \n",
      "A value is trying to be set on a copy of a slice from a DataFrame.\n",
      "Try using .loc[row_indexer,col_indexer] = value instead\n",
      "\n",
      "See the caveats in the documentation: https://pandas.pydata.org/pandas-docs/stable/user_guide/indexing.html#returning-a-view-versus-a-copy\n",
      "  df_temp['Goals_Scaled'] = scaler.fit_transform(df_temp['Goals'].values.reshape(-1, 1))\n",
      "C:\\Users\\User\\AppData\\Local\\Temp\\ipykernel_28312\\3089184607.py:13: SettingWithCopyWarning: \n",
      "A value is trying to be set on a copy of a slice from a DataFrame.\n",
      "Try using .loc[row_indexer,col_indexer] = value instead\n",
      "\n",
      "See the caveats in the documentation: https://pandas.pydata.org/pandas-docs/stable/user_guide/indexing.html#returning-a-view-versus-a-copy\n",
      "  df_temp['Ass_Scaled'] = scaler.fit_transform(df_temp['Assists'].values.reshape(-1, 1))\n",
      "C:\\Users\\User\\AppData\\Local\\Temp\\ipykernel_28312\\3089184607.py:12: SettingWithCopyWarning: \n",
      "A value is trying to be set on a copy of a slice from a DataFrame.\n",
      "Try using .loc[row_indexer,col_indexer] = value instead\n",
      "\n",
      "See the caveats in the documentation: https://pandas.pydata.org/pandas-docs/stable/user_guide/indexing.html#returning-a-view-versus-a-copy\n",
      "  df_temp['Goals_Scaled'] = scaler.fit_transform(df_temp['Goals'].values.reshape(-1, 1))\n",
      "C:\\Users\\User\\AppData\\Local\\Temp\\ipykernel_28312\\3089184607.py:13: SettingWithCopyWarning: \n",
      "A value is trying to be set on a copy of a slice from a DataFrame.\n",
      "Try using .loc[row_indexer,col_indexer] = value instead\n",
      "\n",
      "See the caveats in the documentation: https://pandas.pydata.org/pandas-docs/stable/user_guide/indexing.html#returning-a-view-versus-a-copy\n",
      "  df_temp['Ass_Scaled'] = scaler.fit_transform(df_temp['Assists'].values.reshape(-1, 1))\n"
     ]
    }
   ],
   "source": [
    "df = df.merge(comp_goals, on=['Year', 'Player'], how='left')\n",
    "df = df.merge(awards, on=['Year', 'Player'], how='left')\n",
    "# df = df.merge(comp_mins, on=['Year', 'Player'], how='left')\n",
    "df = df.merge(comp_ass, on=['Year', 'Player'], how='left')\n",
    "\n",
    "dfs = []\n",
    "for i in range(8, 24):\n",
    "    scaler = MinMaxScaler()\n",
    "    if  i == 20:\n",
    "        continue\n",
    "    df_temp = df.query('Year == @i')\n",
    "    df_temp['Goals_Scaled'] = scaler.fit_transform(df_temp['Goals'].values.reshape(-1, 1))\n",
    "    df_temp['Ass_Scaled'] = scaler.fit_transform(df_temp['Assists'].values.reshape(-1, 1))\n",
    "\n",
    "    dfs.append(df_temp)\n",
    "df = pd.concat(dfs)\n",
    "\n",
    "df.fillna(0, inplace=True)\n",
    "df = df.groupby(['Player', 'Year']).sum().reset_index()"
   ]
  },
  {
   "cell_type": "code",
   "execution_count": 36,
   "metadata": {},
   "outputs": [],
   "source": [
    "df = sm.add_constant(df)\n",
    "\n",
    "# # Tab out after use\n",
    "# df = df.query('Share > 0')\n",
    "# df['Share'] = np.log(df['Share'])\n",
    "\n",
    "train = df.query('Year < 23')\n",
    "test = df.query('Year == 23')\n",
    "train.set_index(['Player', 'Year'], inplace=True)\n",
    "test.set_index(['Player', 'Year'], inplace=True)\n",
    "\n",
    "X_train, y_train = train.drop(columns=['Share' , 'Rank', 'Points', 'Month']), train['Share']\n",
    "X_test, y_test = test.drop(columns=['Share', 'Rank', 'Points', 'Month']), test['Share']\n",
    "\n",
    "glm = sm.GLM(endog=y_train, exog= X_train, family=sm.families.Gaussian())\n",
    "glm_results = glm.fit()"
   ]
  },
  {
   "cell_type": "code",
   "execution_count": 37,
   "metadata": {},
   "outputs": [],
   "source": [
    "for i in range(2):\n",
    "    X_train = remove_p(X_train, glm_results, 0.8)\n",
    "    glm_results = run_model(X_train, y_train)\n",
    "for i in range(2):\n",
    "    X_train = remove_p(X_train, glm_results, 0.65)\n",
    "    glm_results = run_model(X_train, y_train)\n",
    "for i in range(2):\n",
    "    X_train = remove_p(X_train, glm_results, 0.5)\n",
    "    glm_results = run_model(X_train, y_train)\n",
    "for i in range(2):\n",
    "    X_train = remove_p(X_train, glm_results, 0.2)\n",
    "    glm_results = run_model(X_train, y_train)\n",
    "for i in range(2):\n",
    "    X_train = remove_p(X_train, glm_results, 0.05)\n",
    "    glm_results = run_model(X_train, y_train)"
   ]
  },
  {
   "cell_type": "code",
   "execution_count": 38,
   "metadata": {},
   "outputs": [
    {
     "data": {
      "text/plain": [
       "15"
      ]
     },
     "execution_count": 38,
     "metadata": {},
     "output_type": "execute_result"
    }
   ],
   "source": [
    "len(set(df['Year']))"
   ]
  },
  {
   "cell_type": "code",
   "execution_count": 39,
   "metadata": {},
   "outputs": [
    {
     "data": {
      "text/html": [
       "<table class=\"simpletable\">\n",
       "<caption>Generalized Linear Model Regression Results</caption>\n",
       "<tr>\n",
       "  <th>Dep. Variable:</th>         <td>Share</td>      <th>  No. Observations:  </th>  <td>   333</td>  \n",
       "</tr>\n",
       "<tr>\n",
       "  <th>Model:</th>                  <td>GLM</td>       <th>  Df Residuals:      </th>  <td>   323</td>  \n",
       "</tr>\n",
       "<tr>\n",
       "  <th>Model Family:</th>        <td>Gaussian</td>     <th>  Df Model:          </th>  <td>     9</td>  \n",
       "</tr>\n",
       "<tr>\n",
       "  <th>Link Function:</th>       <td>identity</td>     <th>  Scale:             </th> <td>0.0031008</td>\n",
       "</tr>\n",
       "<tr>\n",
       "  <th>Method:</th>                <td>IRLS</td>       <th>  Log-Likelihood:    </th> <td>  494.29</td> \n",
       "</tr>\n",
       "<tr>\n",
       "  <th>Date:</th>            <td>Thu, 04 Jan 2024</td> <th>  Deviance:          </th> <td>  1.0016</td> \n",
       "</tr>\n",
       "<tr>\n",
       "  <th>Time:</th>                <td>08:37:01</td>     <th>  Pearson chi2:      </th>  <td>  1.00</td>  \n",
       "</tr>\n",
       "<tr>\n",
       "  <th>No. Iterations:</th>          <td>3</td>        <th>  Pseudo R-squ. (CS):</th>  <td>0.6962</td>  \n",
       "</tr>\n",
       "<tr>\n",
       "  <th>Covariance Type:</th>     <td>nonrobust</td>    <th>                     </th>     <td> </td>    \n",
       "</tr>\n",
       "</table>\n",
       "<table class=\"simpletable\">\n",
       "<tr>\n",
       "             <td></td>                <th>coef</th>     <th>std err</th>      <th>z</th>      <th>P>|z|</th>  <th>[0.025</th>    <th>0.975]</th>  \n",
       "</tr>\n",
       "<tr>\n",
       "  <th>const</th>                   <td>   -0.0221</td> <td>    0.005</td> <td>   -4.242</td> <td> 0.000</td> <td>   -0.032</td> <td>   -0.012</td>\n",
       "</tr>\n",
       "<tr>\n",
       "  <th>Goals conceded</th>          <td>    0.0041</td> <td>    0.001</td> <td>    3.570</td> <td> 0.000</td> <td>    0.002</td> <td>    0.006</td>\n",
       "</tr>\n",
       "<tr>\n",
       "  <th>Champions League_Goals</th>  <td>    0.0087</td> <td>    0.001</td> <td>    8.192</td> <td> 0.000</td> <td>    0.007</td> <td>    0.011</td>\n",
       "</tr>\n",
       "<tr>\n",
       "  <th>LaLiga_Goals</th>            <td>    0.0026</td> <td>    0.000</td> <td>    6.795</td> <td> 0.000</td> <td>    0.002</td> <td>    0.003</td>\n",
       "</tr>\n",
       "<tr>\n",
       "  <th>Premier League_Goals</th>    <td>    0.0009</td> <td>    0.000</td> <td>    2.055</td> <td> 0.040</td> <td> 4.35e-05</td> <td>    0.002</td>\n",
       "</tr>\n",
       "<tr>\n",
       "  <th>Supercopa_Goals</th>         <td>    0.0410</td> <td>    0.009</td> <td>    4.466</td> <td> 0.000</td> <td>    0.023</td> <td>    0.059</td>\n",
       "</tr>\n",
       "<tr>\n",
       "  <th>Champions League winner</th> <td>    0.0391</td> <td>    0.008</td> <td>    4.970</td> <td> 0.000</td> <td>    0.024</td> <td>    0.055</td>\n",
       "</tr>\n",
       "<tr>\n",
       "  <th>European champion</th>       <td>    0.0307</td> <td>    0.015</td> <td>    2.069</td> <td> 0.039</td> <td>    0.002</td> <td>    0.060</td>\n",
       "</tr>\n",
       "<tr>\n",
       "  <th>Olympic medalist</th>        <td>    0.0675</td> <td>    0.029</td> <td>    2.365</td> <td> 0.018</td> <td>    0.012</td> <td>    0.123</td>\n",
       "</tr>\n",
       "<tr>\n",
       "  <th>World Cup winner</th>        <td>    0.0468</td> <td>    0.015</td> <td>    3.225</td> <td> 0.001</td> <td>    0.018</td> <td>    0.075</td>\n",
       "</tr>\n",
       "</table>"
      ],
      "text/plain": [
       "<class 'statsmodels.iolib.summary.Summary'>\n",
       "\"\"\"\n",
       "                 Generalized Linear Model Regression Results                  \n",
       "==============================================================================\n",
       "Dep. Variable:                  Share   No. Observations:                  333\n",
       "Model:                            GLM   Df Residuals:                      323\n",
       "Model Family:                Gaussian   Df Model:                            9\n",
       "Link Function:               identity   Scale:                       0.0031008\n",
       "Method:                          IRLS   Log-Likelihood:                 494.29\n",
       "Date:                Thu, 04 Jan 2024   Deviance:                       1.0016\n",
       "Time:                        08:37:01   Pearson chi2:                     1.00\n",
       "No. Iterations:                     3   Pseudo R-squ. (CS):             0.6962\n",
       "Covariance Type:            nonrobust                                         \n",
       "===========================================================================================\n",
       "                              coef    std err          z      P>|z|      [0.025      0.975]\n",
       "-------------------------------------------------------------------------------------------\n",
       "const                      -0.0221      0.005     -4.242      0.000      -0.032      -0.012\n",
       "Goals conceded              0.0041      0.001      3.570      0.000       0.002       0.006\n",
       "Champions League_Goals      0.0087      0.001      8.192      0.000       0.007       0.011\n",
       "LaLiga_Goals                0.0026      0.000      6.795      0.000       0.002       0.003\n",
       "Premier League_Goals        0.0009      0.000      2.055      0.040    4.35e-05       0.002\n",
       "Supercopa_Goals             0.0410      0.009      4.466      0.000       0.023       0.059\n",
       "Champions League winner     0.0391      0.008      4.970      0.000       0.024       0.055\n",
       "European champion           0.0307      0.015      2.069      0.039       0.002       0.060\n",
       "Olympic medalist            0.0675      0.029      2.365      0.018       0.012       0.123\n",
       "World Cup winner            0.0468      0.015      3.225      0.001       0.018       0.075\n",
       "===========================================================================================\n",
       "\"\"\""
      ]
     },
     "execution_count": 39,
     "metadata": {},
     "output_type": "execute_result"
    }
   ],
   "source": [
    "glm_results.summary()"
   ]
  },
  {
   "cell_type": "code",
   "execution_count": 40,
   "metadata": {},
   "outputs": [],
   "source": [
    "X_test = X_test[X_train.columns]"
   ]
  },
  {
   "cell_type": "code",
   "execution_count": 41,
   "metadata": {},
   "outputs": [],
   "source": [
    "preds = glm_results.predict(X_test)\n",
    "preds = scaler.fit_transform(preds.values.reshape(-1, 1))\n",
    "y_test = scaler.fit_transform(y_test.values.reshape(-1, 1))\n",
    "\n",
    "results = []\n",
    "for i, j, k in zip(X_test.index, y_test, preds):\n",
    "    results.append([i[0], j[0], k[0]])\n",
    "results = pd.DataFrame(results, columns=['Player', 'Actual', 'Predicted'])"
   ]
  },
  {
   "cell_type": "code",
   "execution_count": 42,
   "metadata": {},
   "outputs": [
    {
     "data": {
      "text/html": [
       "<div>\n",
       "<style scoped>\n",
       "    .dataframe tbody tr th:only-of-type {\n",
       "        vertical-align: middle;\n",
       "    }\n",
       "\n",
       "    .dataframe tbody tr th {\n",
       "        vertical-align: top;\n",
       "    }\n",
       "\n",
       "    .dataframe thead th {\n",
       "        text-align: right;\n",
       "    }\n",
       "</style>\n",
       "<table border=\"1\" class=\"dataframe\">\n",
       "  <thead>\n",
       "    <tr style=\"text-align: right;\">\n",
       "      <th></th>\n",
       "      <th>Player</th>\n",
       "      <th>Actual</th>\n",
       "      <th>Predicted</th>\n",
       "    </tr>\n",
       "  </thead>\n",
       "  <tbody>\n",
       "    <tr>\n",
       "      <th>22</th>\n",
       "      <td>Robert Lewandowski</td>\n",
       "      <td>0.013061</td>\n",
       "      <td>1.000000</td>\n",
       "    </tr>\n",
       "    <tr>\n",
       "      <th>4</th>\n",
       "      <td>Erling Haaland</td>\n",
       "      <td>0.386270</td>\n",
       "      <td>0.959437</td>\n",
       "    </tr>\n",
       "    <tr>\n",
       "      <th>10</th>\n",
       "      <td>Karim Benzema</td>\n",
       "      <td>0.006531</td>\n",
       "      <td>0.897046</td>\n",
       "    </tr>\n",
       "    <tr>\n",
       "      <th>19</th>\n",
       "      <td>Mohamed Salah</td>\n",
       "      <td>0.014017</td>\n",
       "      <td>0.473202</td>\n",
       "    </tr>\n",
       "    <tr>\n",
       "      <th>26</th>\n",
       "      <td>Vinícius Júnior</td>\n",
       "      <td>0.053042</td>\n",
       "      <td>0.469045</td>\n",
       "    </tr>\n",
       "    <tr>\n",
       "      <th>9</th>\n",
       "      <td>Julián Álvarez</td>\n",
       "      <td>0.030264</td>\n",
       "      <td>0.398393</td>\n",
       "    </tr>\n",
       "    <tr>\n",
       "      <th>16</th>\n",
       "      <td>Lionel Messi</td>\n",
       "      <td>1.000000</td>\n",
       "      <td>0.376287</td>\n",
       "    </tr>\n",
       "    <tr>\n",
       "      <th>27</th>\n",
       "      <td>Yassine Bounou</td>\n",
       "      <td>0.010831</td>\n",
       "      <td>0.376160</td>\n",
       "    </tr>\n",
       "    <tr>\n",
       "      <th>2</th>\n",
       "      <td>Bernardo Silva</td>\n",
       "      <td>0.021663</td>\n",
       "      <td>0.372889</td>\n",
       "    </tr>\n",
       "    <tr>\n",
       "      <th>11</th>\n",
       "      <td>Kevin De Bruyne</td>\n",
       "      <td>0.108155</td>\n",
       "      <td>0.341155</td>\n",
       "    </tr>\n",
       "    <tr>\n",
       "      <th>14</th>\n",
       "      <td>Kylian Mbappé</td>\n",
       "      <td>0.292131</td>\n",
       "      <td>0.329251</td>\n",
       "    </tr>\n",
       "    <tr>\n",
       "      <th>23</th>\n",
       "      <td>Rodri</td>\n",
       "      <td>0.061644</td>\n",
       "      <td>0.315651</td>\n",
       "    </tr>\n",
       "    <tr>\n",
       "      <th>28</th>\n",
       "      <td>İlkay Gündoğan</td>\n",
       "      <td>0.008601</td>\n",
       "      <td>0.299220</td>\n",
       "    </tr>\n",
       "    <tr>\n",
       "      <th>24</th>\n",
       "      <td>Rúben Dias</td>\n",
       "      <td>0.000000</td>\n",
       "      <td>0.258414</td>\n",
       "    </tr>\n",
       "    <tr>\n",
       "      <th>1</th>\n",
       "      <td>Antoine Griezmann</td>\n",
       "      <td>0.004301</td>\n",
       "      <td>0.256728</td>\n",
       "    </tr>\n",
       "    <tr>\n",
       "      <th>0</th>\n",
       "      <td>André Onana</td>\n",
       "      <td>0.002230</td>\n",
       "      <td>0.243398</td>\n",
       "    </tr>\n",
       "    <tr>\n",
       "      <th>25</th>\n",
       "      <td>Victor Osimhen</td>\n",
       "      <td>0.025964</td>\n",
       "      <td>0.235179</td>\n",
       "    </tr>\n",
       "    <tr>\n",
       "      <th>5</th>\n",
       "      <td>Harry Kane</td>\n",
       "      <td>0.004301</td>\n",
       "      <td>0.200060</td>\n",
       "    </tr>\n",
       "    <tr>\n",
       "      <th>8</th>\n",
       "      <td>Jude Bellingham</td>\n",
       "      <td>0.005416</td>\n",
       "      <td>0.188143</td>\n",
       "    </tr>\n",
       "    <tr>\n",
       "      <th>17</th>\n",
       "      <td>Luka Modrić</td>\n",
       "      <td>0.020548</td>\n",
       "      <td>0.149990</td>\n",
       "    </tr>\n",
       "    <tr>\n",
       "      <th>15</th>\n",
       "      <td>Lautaro Martínez</td>\n",
       "      <td>0.004301</td>\n",
       "      <td>0.141108</td>\n",
       "    </tr>\n",
       "    <tr>\n",
       "      <th>20</th>\n",
       "      <td>Nicolò Barella</td>\n",
       "      <td>0.000000</td>\n",
       "      <td>0.141108</td>\n",
       "    </tr>\n",
       "    <tr>\n",
       "      <th>12</th>\n",
       "      <td>Khvicha Kvaratskhelia</td>\n",
       "      <td>0.006531</td>\n",
       "      <td>0.094072</td>\n",
       "    </tr>\n",
       "    <tr>\n",
       "      <th>21</th>\n",
       "      <td>Randal Kolo Muani</td>\n",
       "      <td>0.000000</td>\n",
       "      <td>0.094072</td>\n",
       "    </tr>\n",
       "    <tr>\n",
       "      <th>7</th>\n",
       "      <td>Joško Gvardiol</td>\n",
       "      <td>0.001115</td>\n",
       "      <td>0.094072</td>\n",
       "    </tr>\n",
       "    <tr>\n",
       "      <th>18</th>\n",
       "      <td>Martin Ødegaard</td>\n",
       "      <td>0.000000</td>\n",
       "      <td>0.076512</td>\n",
       "    </tr>\n",
       "    <tr>\n",
       "      <th>3</th>\n",
       "      <td>Bukayo Saka</td>\n",
       "      <td>0.001115</td>\n",
       "      <td>0.071411</td>\n",
       "    </tr>\n",
       "    <tr>\n",
       "      <th>13</th>\n",
       "      <td>Kim Min-jae</td>\n",
       "      <td>0.003186</td>\n",
       "      <td>0.000000</td>\n",
       "    </tr>\n",
       "    <tr>\n",
       "      <th>6</th>\n",
       "      <td>Jamal Musiala</td>\n",
       "      <td>0.000000</td>\n",
       "      <td>0.000000</td>\n",
       "    </tr>\n",
       "  </tbody>\n",
       "</table>\n",
       "</div>"
      ],
      "text/plain": [
       "                   Player    Actual  Predicted\n",
       "22     Robert Lewandowski  0.013061   1.000000\n",
       "4          Erling Haaland  0.386270   0.959437\n",
       "10          Karim Benzema  0.006531   0.897046\n",
       "19          Mohamed Salah  0.014017   0.473202\n",
       "26        Vinícius Júnior  0.053042   0.469045\n",
       "9          Julián Álvarez  0.030264   0.398393\n",
       "16           Lionel Messi  1.000000   0.376287\n",
       "27         Yassine Bounou  0.010831   0.376160\n",
       "2          Bernardo Silva  0.021663   0.372889\n",
       "11        Kevin De Bruyne  0.108155   0.341155\n",
       "14          Kylian Mbappé  0.292131   0.329251\n",
       "23                  Rodri  0.061644   0.315651\n",
       "28         İlkay Gündoğan  0.008601   0.299220\n",
       "24             Rúben Dias  0.000000   0.258414\n",
       "1       Antoine Griezmann  0.004301   0.256728\n",
       "0             André Onana  0.002230   0.243398\n",
       "25         Victor Osimhen  0.025964   0.235179\n",
       "5              Harry Kane  0.004301   0.200060\n",
       "8         Jude Bellingham  0.005416   0.188143\n",
       "17            Luka Modrić  0.020548   0.149990\n",
       "15       Lautaro Martínez  0.004301   0.141108\n",
       "20         Nicolò Barella  0.000000   0.141108\n",
       "12  Khvicha Kvaratskhelia  0.006531   0.094072\n",
       "21      Randal Kolo Muani  0.000000   0.094072\n",
       "7          Joško Gvardiol  0.001115   0.094072\n",
       "18        Martin Ødegaard  0.000000   0.076512\n",
       "3             Bukayo Saka  0.001115   0.071411\n",
       "13            Kim Min-jae  0.003186   0.000000\n",
       "6           Jamal Musiala  0.000000   0.000000"
      ]
     },
     "execution_count": 42,
     "metadata": {},
     "output_type": "execute_result"
    }
   ],
   "source": [
    "results.sort_values('Predicted', ascending=False)"
   ]
  },
  {
   "cell_type": "code",
   "execution_count": 32,
   "metadata": {},
   "outputs": [
    {
     "name": "stdout",
     "output_type": "stream",
     "text": [
      "0\n",
      "1\n",
      "2\n",
      "3\n"
     ]
    },
    {
     "name": "stderr",
     "output_type": "stream",
     "text": [
      "\n",
      "KeyboardInterrupt\n",
      "\n"
     ]
    }
   ],
   "source": [
    "df = sm.add_constant(df)\n",
    "results = []\n",
    "variables = []\n",
    "for i in range(1000):\n",
    "    print(i)\n",
    "    df2 = df.copy()\n",
    "    df2 = df2.sample(frac = 1, replace=True, random_state=i) \n",
    "    train = df2.query('Year < 23')\n",
    "    test = df2.query('Year == 23')\n",
    "    train.set_index(['Player', 'Year'], inplace=True)\n",
    "    test.set_index(['Player', 'Year'], inplace=True)\n",
    "\n",
    "    X_train, y_train = train.drop(columns=['Share', 'Rank', 'Points', 'Month']), train['Share']\n",
    "    X_test, y_test = test.drop(columns=['Share', 'Rank', 'Points', 'Month']), test['Share']\n",
    "\n",
    "    glm = sm.GLM(endog=y_train, exog= X_train, family=sm.families.Gaussian())\n",
    "    glm_results = glm.fit()\n",
    "    for i in range(2):\n",
    "        X_train = remove_p(X_train, glm_results, 0.8)\n",
    "        glm_results = run_model(X_train, y_train)\n",
    "    for i in range(2):\n",
    "        X_train = remove_p(X_train, glm_results, 0.65)\n",
    "        glm_results = run_model(X_train, y_train)\n",
    "    for i in range(2):\n",
    "        X_train = remove_p(X_train, glm_results, 0.5)\n",
    "        glm_results = run_model(X_train, y_train)\n",
    "    for i in range(2):\n",
    "        X_train = remove_p(X_train, glm_results, 0.2)\n",
    "        glm_results = run_model(X_train, y_train)\n",
    "    for i in range(2):\n",
    "        X_train = remove_p(X_train, glm_results, 0.05)\n",
    "        glm_results = run_model(X_train, y_train)\n",
    "    results.append(glm_results.pseudo_rsquared())\n",
    "    for j in X_train.columns:\n",
    "        variables.append(j)"
   ]
  },
  {
   "cell_type": "code",
   "execution_count": 33,
   "metadata": {},
   "outputs": [
    {
     "data": {
      "text/plain": [
       "<AxesSubplot:ylabel='Count'>"
      ]
     },
     "execution_count": 33,
     "metadata": {},
     "output_type": "execute_result"
    },
    {
     "data": {
      "image/png": "[encoded data removed]",
      "text/plain": [
       "<Figure size 432x288 with 1 Axes>"
      ]
     },
     "metadata": {
      "needs_background": "light"
     },
     "output_type": "display_data"
    }
   ],
   "source": [
    "sns.histplot(results, bins=20)"
   ]
  },
  {
   "cell_type": "code",
   "execution_count": 34,
   "metadata": {},
   "outputs": [
    {
     "name": "stdout",
     "output_type": "stream",
     "text": [
      "['const', 'Sesond yellow cards', 'Goals conceded', 'Club_World_Cup_appearances', 'UEFA-Cup_Qualifikation_appearances', 'UI_Cup_appearances', 'Europa_League_appearances', 'Trend', 'Champions League_Goals', 'Club World Cup_Goals', 'Copa del Rey_Goals', 'DFB-Pokal_Goals', 'Eredivisie_Goals', 'KNVB beker_Goals', 'Supercopa_Goals', 'Supercoppa Italiana_Goals', 'UEFA-Cup Qualifikation_Goals', 'Copa América winner', 'Dutch champion', 'FIFA Club World Cup winner', 'FIFA Puskás Award', 'French league cup winner', 'German Super Cup winner', 'Italian Super Cup winner', 'Olympic medalist', 'World Cup winner', 'Club World Cup_ass', 'Coupe de la Ligue_ass', 'Eredivisie_ass', 'UEFA-Cup Qualifikation_ass', 'Goals_Scaled', 'const', 'Goals conceded', 'Champions League_Goals', 'LaLiga_Goals', 'Premier League_Goals', 'Serie A_Goals', 'Supercopa_Goals', 'Champions League winner', 'Copa América winner', 'European champion', 'German Super Cup winner', 'Italian champion', 'Spanish Super Cup winner', 'World Cup winner', 'Champions League_ass', 'Club World Cup_ass', 'Europa League_ass', 'Premier Liga_ass', 'Serie A_ass', 'UEFA Cup_ass', 'const', 'Yellow cards', 'Goals conceded', 'UEFA_Super_Cup_appearances', 'A-League Men_Goals', 'Beloften Eredivisie_Goals', 'Bundesliga_Goals', 'Champions League_Goals', 'Champions League Qu._Goals', 'Copa Bicentenario_Goals', 'Copa del Rey_Goals', 'DFB-Pokal_Goals', 'LaLiga_Goals', 'Premier League_Goals', 'Champions League winner', 'Copa América winner', 'European champion', 'FIFA Club World Cup winner', 'FIFA Puskás Award', 'German Champion', 'Spanish cup winner', 'World Cup winner', 'Club World Cup_ass', 'Supercopa_ass', 'Ass_Scaled']\n"
     ]
    }
   ],
   "source": [
    "#print(results)\n",
    "print(variables)"
   ]
  },
  {
   "cell_type": "code",
   "execution_count": 43,
   "metadata": {},
   "outputs": [
    {
     "name": "stdout",
     "output_type": "stream",
     "text": [
      "[-6, 0, -8, -6, -7, 1, 1, -9, 0, -10, 7, 11, 5, 1, -8, 13, -2, 3, -2, 2, -7, 6, -2, -3, -1, 4, 3, 14, 0]\n",
      "[1, 2, 3, 4, 5, 6, 7, 8, 9, 10, 11, 12, 13, 14, 15, 16, 17, 18, 19, 20, 21, 22, 23, 24, 25, 26, 27, 28, 29]\n",
      "[7, 2, 11, 10, 12, 5, 6, 17, 9, 20, 4, 1, 8, 13, 23, 3, 19, 15, 21, 18, 28, 16, 25, 27, 26, 22, 24, 14, 29]\n"
     ]
    }
   ],
   "source": [
    "from collections import defaultdict\n",
    "\n",
    "#d =\n",
    "\n",
    "\n",
    "results_pred = results.sort_values('Predicted', ascending=False)\n",
    "results_actual = results.sort_values('Actual', ascending=False)\n",
    "\n",
    "\n",
    "ranked_dict =  defaultdict(list)\n",
    "for i, j in enumerate(results_actual[\"Player\"].values):\n",
    "    ranked_dict[j] = [i+1]\n",
    "    \n",
    "#print(ranked_dict)    \n",
    "for m, z in  enumerate(results_pred[\"Player\"].values):\n",
    "    ranked_dict[z].append(m+1)\n",
    "\n",
    "d = []  \n",
    "actual = []\n",
    "predicted = []\n",
    "for player, ranks in ranked_dict.items(): \n",
    "    diff = ranks[0]-ranks[1]\n",
    "    d.append(diff)\n",
    "    actual.append(ranks[0])\n",
    "    predicted.append(ranks[1])\n",
    "\n",
    "print(d)\n",
    "print(actual)\n",
    "print(predicted)"
   ]
  },
  {
   "cell_type": "code",
   "execution_count": null,
   "metadata": {},
   "outputs": [],
   "source": []
  },
  {
   "cell_type": "markdown",
   "metadata": {},
   "source": [
    "### WILCONXON Signed rank test"
   ]
  },
  {
   "cell_type": "code",
   "execution_count": 44,
   "metadata": {},
   "outputs": [
    {
     "data": {
      "text/plain": [
       "(167.0, 0.8288547709143317)"
      ]
     },
     "execution_count": 44,
     "metadata": {},
     "output_type": "execute_result"
    }
   ],
   "source": [
    "from scipy.stats import wilcoxon\n",
    "res = wilcoxon(d, alternative='two-sided')\n",
    "res.statistic, res.pvalue"
   ]
  },
  {
   "cell_type": "markdown",
   "metadata": {},
   "source": [
    "### MANN-WHITNEY U-test"
   ]
  },
  {
   "cell_type": "code",
   "execution_count": 45,
   "metadata": {},
   "outputs": [
    {
     "name": "stdout",
     "output_type": "stream",
     "text": [
      "420.5\n",
      "1.0062040074241658\n"
     ]
    }
   ],
   "source": [
    "from scipy.stats import mannwhitneyu\n",
    "from scipy.stats import norm\n",
    "U1, p = mannwhitneyu(actual, predicted, method=\"exact\")\n",
    "\n",
    "nx, ny = len(actual), len(predicted)\n",
    "U2 = nx*ny - U1\n",
    "print(U2)\n",
    "\n",
    "U = min(U1, U2)\n",
    "N = nx + ny\n",
    "z = (U - nx*ny/2 + 0.5) / np.sqrt(nx*ny * (N + 1)/ 12)\n",
    "p = 2 * norm.cdf(z)  # use CDF to get p-value from smaller statistic\n",
    "print(p)"
   ]
  },
  {
   "cell_type": "code",
   "execution_count": 46,
   "metadata": {},
   "outputs": [
    {
     "name": "stdout",
     "output_type": "stream",
     "text": [
      "MannwhitneyuResult(statistic=420.5, pvalue=1.0)\n"
     ]
    }
   ],
   "source": [
    "res = mannwhitneyu(actual, predicted, alternative=\"two-sided\", method=\"exact\")\n",
    "print(res)"
   ]
  },
  {
   "cell_type": "markdown",
   "metadata": {},
   "source": [
    "### SPEARMAN'S rank correlation Test"
   ]
  },
  {
   "cell_type": "code",
   "execution_count": 47,
   "metadata": {},
   "outputs": [
    {
     "name": "stdout",
     "output_type": "stream",
     "text": [
      "Spearmans correlation coefficient: 0.720\n"
     ]
    }
   ],
   "source": [
    "from scipy.stats import spearmanr\n",
    "\n",
    "coef, p = spearmanr(actual, predicted)\n",
    "print('Spearmans correlation coefficient: %.3f' % coef)"
   ]
  },
  {
   "cell_type": "code",
   "execution_count": 48,
   "metadata": {},
   "outputs": [
    {
     "data": {
      "image/png": "[encoded data removed]",
      "text/plain": [
       "<Figure size 576x432 with 1 Axes>"
      ]
     },
     "metadata": {
      "needs_background": "light"
     },
     "output_type": "display_data"
    }
   ],
   "source": [
    "# Plotting the differences using a scatter plot\n",
    "plt.figure(figsize=(8, 6))\n",
    "plt.scatter(results['Actual'], results['Predicted'], color='orange')\n",
    "plt.plot([0, 1], [0, 1], linestyle='--', color='lightgray')  # Diagonal line for reference\n",
    "plt.xlabel('Actual Share of Votes')\n",
    "plt.ylabel('Predicted Share of Votes Relatively to Winner')\n",
    "plt.title('Actual vs Predicted; Share of Votes Relatively to the Winner (GLM Regression)')\n",
    "plt.axis('equal')  # Set equal scaling for both axes\n",
    "plt.tight_layout()\n",
    "plt.show()"
   ]
  },
  {
   "cell_type": "code",
   "execution_count": 49,
   "metadata": {},
   "outputs": [
    {
     "data": {
      "image/png": "[encoded data removed]",
      "text/plain": [
       "<Figure size 576x432 with 1 Axes>"
      ]
     },
     "metadata": {
      "needs_background": "light"
     },
     "output_type": "display_data"
    }
   ],
   "source": [
    "# Calculate the differences between actual and predicted rankings\n",
    "differences = results['Actual'] - results['Predicted']\n",
    "means = (results['Actual'] + results['Predicted']) / 2\n",
    "\n",
    "# Plotting a Bland-Altman style plot for the differences\n",
    "plt.figure(figsize=(8, 6))\n",
    "plt.scatter(means, differences, color='green')\n",
    "plt.axhline(y=0, color='gray', linestyle='--')  # Add a horizontal line at y=0 for reference\n",
    "plt.xlabel('Mean of Actual and Predicted Rankings')\n",
    "plt.ylabel('Difference (Actual - Predicted)')\n",
    "plt.title('Bland-Altman-style Plot of Differences')\n",
    "plt.tight_layout()\n",
    "plt.show()"
   ]
  },
  {
   "cell_type": "code",
   "execution_count": 50,
   "metadata": {},
   "outputs": [
    {
     "name": "stdout",
     "output_type": "stream",
     "text": [
      "['Onana', 'Griezmann', 'Silva', 'Saka', 'Haaland', 'Kane', 'Musiala', 'Gvardiol', 'Bellingham', 'Álvarez', 'Benzema', 'Bruyne', 'Kvaratskhelia', 'Min-jae', 'Mbappé', 'Martínez', 'Messi', 'Modrić', 'Ødegaard', 'Salah', 'Barella', 'Muani', 'Lewandowski', 'Rodri', 'Dias', 'Osimhen', 'Júnior', 'Bounou', 'Gündoğan']\n"
     ]
    }
   ],
   "source": [
    "last_names = []\n",
    "for i in list(results[\"Player\"].values): \n",
    "    last_names.append(i.split(' ')[-1])\n",
    "print(last_names)"
   ]
  },
  {
   "cell_type": "code",
   "execution_count": 51,
   "metadata": {},
   "outputs": [
    {
     "data": {
      "image/png": "[encoded data removed]",
      "text/plain": [
       "<Figure size 720x720 with 1 Axes>"
      ]
     },
     "metadata": {
      "needs_background": "light"
     },
     "output_type": "display_data"
    }
   ],
   "source": [
    "plt.figure(figsize = (10,10))\n",
    "\n",
    "plt.plot(results[\"Actual\"], color = \"red\", label = \"Actual\")\n",
    "plt.plot(results[\"Predicted\"], color =\"blue\", label = \"Predicted\")\n",
    "plt.title(\"Actual vs Predicted; Share of Votes relative to the Winner (GLM Regression)\")\n",
    "plt.ylabel(\"Share of Votes\")\n",
    "#plt.xlabel(\"Player Indexes\")\n",
    "plt.xticks(np.arange(0, len(last_names)), last_names, rotation = 90)\n",
    "plt.legend()\n",
    "plt.show()\n",
    "\n"
   ]
  },
  {
   "cell_type": "code",
   "execution_count": 52,
   "metadata": {},
   "outputs": [],
   "source": [
    "# df[['Player', 'Year','Share']].to_csv('../data/graphs/share.csv', index=False)"
   ]
  },
  {
   "cell_type": "code",
   "execution_count": 97,
   "metadata": {},
   "outputs": [
    {
     "name": "stdout",
     "output_type": "stream",
     "text": [
      " Volume in drive C is Windows-SSD\n",
      " Volume Serial Number is C4CE-7D5D\n",
      "\n",
      " Directory of C:\\Users\\User\\OneDrive\\Dokumenter\\Dokumenter\\MsC_ITU\\Advanced_Applied_Statistics\\outplayed\\notebooks\n",
      "\n",
      "01/03/2024  08:42 PM    <DIR>          .\n",
      "01/03/2024  08:02 PM    <DIR>          ..\n",
      "01/03/2024  12:21 PM    <DIR>          .ipynb_checkpoints\n",
      "12/29/2023  02:07 PM            29,576 baseline_glm.ipynb\n",
      "01/03/2024  08:42 PM             1,077 bayesian_df.txt\n",
      "01/02/2024  11:08 AM         3,494,824 Bootstrapping_for_project.ipynb\n",
      "01/03/2024  04:12 PM            51,970 Christians GLM model.ipynb\n",
      "12/27/2023  02:54 PM            20,533 data_gathering.ipynb\n",
      "01/03/2024  08:03 PM           925,296 glm_testing.ipynb\n",
      "12/29/2023  02:20 PM            69,109 player_modeling.ipynb\n",
      "12/29/2023  02:09 PM            91,154 tournament_exploratory.ipynb\n",
      "12/27/2023  09:37 AM             6,373 trends.ipynb\n",
      "               9 File(s)      4,689,912 bytes\n",
      "               3 Dir(s)  108,147,859,456 bytes free\n"
     ]
    }
   ],
   "source": [
    "!dir"
   ]
  },
  {
   "cell_type": "code",
   "execution_count": 10,
   "metadata": {},
   "outputs": [],
   "source": [
    "import pandas as pd\n",
    "import numpy as np"
   ]
  },
  {
   "cell_type": "code",
   "execution_count": 53,
   "metadata": {},
   "outputs": [
    {
     "name": "stdout",
     "output_type": "stream",
     "text": [
      "                   Player  Year   Share  Pred_avg  N_Pred_avg   N_Share\n",
      "0      Robert Lewandowski  23.0  0.0082  0.150598    1.000000  0.013061\n",
      "1           Karim Benzema  23.0  0.0041  0.149393    0.991999  0.006531\n",
      "2          Erling Haaland  23.0  0.2425  0.011252    0.074715  0.386270\n",
      "3           Mohamed Salah  23.0  0.0088  0.007196    0.047783  0.014017\n",
      "4              Harry Kane  23.0  0.0027  0.007152    0.047491  0.004301\n",
      "5         Vinícius Júnior  23.0  0.0333  0.006350    0.042165  0.053042\n",
      "6       Antoine Griezmann  23.0  0.0027  0.006027    0.040020  0.004301\n",
      "7          Julián Álvarez  23.0  0.0190  0.004756    0.031581  0.030264\n",
      "8         Martin Ødegaard  23.0  0.0000  0.004552    0.030226  0.000000\n",
      "9             Bukayo Saka  23.0  0.0007  0.004396    0.029190  0.001115\n",
      "10           Lionel Messi  23.0  0.6278  0.004222    0.028035  1.000000\n",
      "11        Kevin De Bruyne  23.0  0.0679  0.004190    0.027822  0.108155\n",
      "12         Yassine Bounou  23.0  0.0068  0.004141    0.027497  0.010831\n",
      "13         İlkay Gündoğan  23.0  0.0054  0.004095    0.027192  0.008601\n",
      "14         Bernardo Silva  23.0  0.0136  0.003973    0.026381  0.021663\n",
      "15          Kylian Mbappé  23.0  0.1834  0.003970    0.026362  0.292131\n",
      "16            Luka Modrić  23.0  0.0129  0.003661    0.024310  0.020548\n",
      "17         Victor Osimhen  23.0  0.0163  0.003465    0.023008  0.025964\n",
      "18            André Onana  23.0  0.0014  0.003457    0.022955  0.002230\n",
      "19                  Rodri  23.0  0.0387  0.003408    0.022630  0.061644\n",
      "20        Jude Bellingham  23.0  0.0034  0.003213    0.021335  0.005416\n",
      "21       Lautaro Martínez  23.0  0.0027  0.002961    0.019662  0.004301\n",
      "22         Nicolò Barella  23.0  0.0000  0.002961    0.019662  0.000000\n",
      "23             Rúben Dias  23.0  0.0000  0.002842    0.018871  0.000000\n",
      "24  Khvicha Kvaratskhelia  23.0  0.0041  0.002709    0.017988  0.006531\n",
      "25      Randal Kolo Muani  23.0  0.0000  0.002709    0.017988  0.000000\n",
      "26         Joško Gvardiol  23.0  0.0007  0.002709    0.017988  0.001115\n",
      "27            Kim Min-jae  23.0  0.0020  0.002204    0.014635  0.003186\n",
      "28          Jamal Musiala  23.0  0.0000  0.002204    0.014635  0.000000\n"
     ]
    },
    {
     "name": "stderr",
     "output_type": "stream",
     "text": [
      "C:\\Users\\User\\AppData\\Local\\Temp\\ipykernel_28312\\3996400354.py:12: SettingWithCopyWarning: \n",
      "A value is trying to be set on a copy of a slice from a DataFrame.\n",
      "Try using .loc[row_indexer,col_indexer] = value instead\n",
      "\n",
      "See the caveats in the documentation: https://pandas.pydata.org/pandas-docs/stable/user_guide/indexing.html#returning-a-view-versus-a-copy\n",
      "  df_bayesian.iloc[1:]['Share']  = pd.to_numeric(df_bayesian.iloc[1:]['Share'] , errors='coerce')\n",
      "C:\\Users\\User\\AppData\\Local\\Temp\\ipykernel_28312\\3996400354.py:13: SettingWithCopyWarning: \n",
      "A value is trying to be set on a copy of a slice from a DataFrame.\n",
      "Try using .loc[row_indexer,col_indexer] = value instead\n",
      "\n",
      "See the caveats in the documentation: https://pandas.pydata.org/pandas-docs/stable/user_guide/indexing.html#returning-a-view-versus-a-copy\n",
      "  df_bayesian.iloc[1:]['Pred_avg'] = pd.to_numeric(df_bayesian.iloc[1:]['Pred_avg'], errors='coerce')\n"
     ]
    }
   ],
   "source": [
    "# read text file into pandas DataFrame\n",
    "\n",
    "#column_names = [\"Player\", \"Year\", \"Share\", \"Pred_avg\"]  # Replace with your column names\n",
    "\n",
    "# Read the file and specify the column names\n",
    "df_bayesian = pd.read_csv(\"bayesian_df.txt\", sep=\"\\t\", header = 0)#, names=column_names)\n",
    "# display DataFrame\n",
    "#print(df_bayesian)\n",
    "#pred_avg = df_bayesian.iloc[1:][\"Unnamed: 2\"]\n",
    "#share = df_bayesian.iloc[1:][\"Unnamed: 1\"]\n",
    "# Convert the column to numeric values\n",
    "df_bayesian.iloc[1:]['Share']  = pd.to_numeric(df_bayesian.iloc[1:]['Share'] , errors='coerce')\n",
    "df_bayesian.iloc[1:]['Pred_avg'] = pd.to_numeric(df_bayesian.iloc[1:]['Pred_avg'], errors='coerce')\n",
    "\n",
    "# Convert the values to floats\n",
    "values = np.array(df_bayesian[\"Pred_avg\"].values, dtype=float)\n",
    "\n",
    "# Normalize the values relative to the first one\n",
    "normalized_values_pred = values / values[0]\n",
    "\n",
    "# Print the normalized values\n",
    "df_bayesian[\"N_Pred_avg\"] = normalized_values_pred\n",
    "\n",
    "\n",
    "#Convert the values to floats\n",
    "values_Share = np.array(df_bayesian[\"Share\"].values, dtype=float)\n",
    "\n",
    "# Normalize the values relative to the first one\n",
    "normalized_values_share = values_Share / max(values_Share)\n",
    "\n",
    "# Print the normalized values\n",
    "df_bayesian[\"N_Share\"] = normalized_values_share\n",
    "print(df_bayesian)\n",
    "\n",
    "# Sort the DataFrame based on the converted column\n",
    "#sorted_df = df_baysian.iloc[1:].sort_values(by='Unnamed: 2', ascending=False)\n",
    "#print(sorted_df)\n",
    "# Sort the DataFrame based on the converted column\n",
    "#sorted_df = df_baysian.iloc[1:].sort_values(by='Unnamed: 2', ascending=True)\n",
    "\n",
    "# Display the sorted DataFrame\n",
    "#print(sorted_df)\n",
    "\n",
    "\n",
    "#pred_avg = [eval(i) for i in df_baysian[\"Unnamed: 2\"].values[1:]]\n",
    "#share = [eval(i) for i in df_baysian[\"Unnamed: 1\"].values[1:]]"
   ]
  },
  {
   "cell_type": "code",
   "execution_count": 58,
   "metadata": {},
   "outputs": [
    {
     "name": "stdout",
     "output_type": "stream",
     "text": [
      "                   Player  Year   Share  Pred_avg  N_Pred_avg   N_Share\n",
      "0      Robert Lewandowski  23.0  0.0082  0.150598    1.000000  0.013061\n",
      "1           Karim Benzema  23.0  0.0041  0.149393    0.991999  0.006531\n",
      "2          Erling Haaland  23.0  0.2425  0.011252    0.074715  0.386270\n",
      "3           Mohamed Salah  23.0  0.0088  0.007196    0.047783  0.014017\n",
      "4              Harry Kane  23.0  0.0027  0.007152    0.047491  0.004301\n",
      "5         Vinícius Júnior  23.0  0.0333  0.006350    0.042165  0.053042\n",
      "6       Antoine Griezmann  23.0  0.0027  0.006027    0.040020  0.004301\n",
      "7          Julián Álvarez  23.0  0.0190  0.004756    0.031581  0.030264\n",
      "8         Martin Ødegaard  23.0  0.0000  0.004552    0.030226  0.000000\n",
      "9             Bukayo Saka  23.0  0.0007  0.004396    0.029190  0.001115\n",
      "10           Lionel Messi  23.0  0.6278  0.004222    0.028035  1.000000\n",
      "11        Kevin De Bruyne  23.0  0.0679  0.004190    0.027822  0.108155\n",
      "12         Yassine Bounou  23.0  0.0068  0.004141    0.027497  0.010831\n",
      "13         İlkay Gündoğan  23.0  0.0054  0.004095    0.027192  0.008601\n",
      "14         Bernardo Silva  23.0  0.0136  0.003973    0.026381  0.021663\n",
      "15          Kylian Mbappé  23.0  0.1834  0.003970    0.026362  0.292131\n",
      "16            Luka Modrić  23.0  0.0129  0.003661    0.024310  0.020548\n",
      "17         Victor Osimhen  23.0  0.0163  0.003465    0.023008  0.025964\n",
      "18            André Onana  23.0  0.0014  0.003457    0.022955  0.002230\n",
      "19                  Rodri  23.0  0.0387  0.003408    0.022630  0.061644\n",
      "20        Jude Bellingham  23.0  0.0034  0.003213    0.021335  0.005416\n",
      "21       Lautaro Martínez  23.0  0.0027  0.002961    0.019662  0.004301\n",
      "22         Nicolò Barella  23.0  0.0000  0.002961    0.019662  0.000000\n",
      "23             Rúben Dias  23.0  0.0000  0.002842    0.018871  0.000000\n",
      "24  Khvicha Kvaratskhelia  23.0  0.0041  0.002709    0.017988  0.006531\n",
      "25      Randal Kolo Muani  23.0  0.0000  0.002709    0.017988  0.000000\n",
      "26         Joško Gvardiol  23.0  0.0007  0.002709    0.017988  0.001115\n",
      "27            Kim Min-jae  23.0  0.0020  0.002204    0.014635  0.003186\n",
      "28          Jamal Musiala  23.0  0.0000  0.002204    0.014635  0.000000\n"
     ]
    }
   ],
   "source": [
    "print(df_bayesian)"
   ]
  },
  {
   "cell_type": "code",
   "execution_count": 67,
   "metadata": {},
   "outputs": [
    {
     "name": "stdout",
     "output_type": "stream",
     "text": [
      "                   Player  Year   Share  Pred_avg  N_Pred_avg   N_Share\n",
      "18            André Onana  23.0  0.0014  0.003457    0.022955  0.002230\n",
      "6       Antoine Griezmann  23.0  0.0027  0.006027    0.040020  0.004301\n",
      "14         Bernardo Silva  23.0  0.0136  0.003973    0.026381  0.021663\n",
      "9             Bukayo Saka  23.0  0.0007  0.004396    0.029190  0.001115\n",
      "2          Erling Haaland  23.0  0.2425  0.011252    0.074715  0.386270\n",
      "4              Harry Kane  23.0  0.0027  0.007152    0.047491  0.004301\n",
      "28          Jamal Musiala  23.0  0.0000  0.002204    0.014635  0.000000\n",
      "26         Joško Gvardiol  23.0  0.0007  0.002709    0.017988  0.001115\n",
      "20        Jude Bellingham  23.0  0.0034  0.003213    0.021335  0.005416\n",
      "7          Julián Álvarez  23.0  0.0190  0.004756    0.031581  0.030264\n",
      "1           Karim Benzema  23.0  0.0041  0.149393    0.991999  0.006531\n",
      "11        Kevin De Bruyne  23.0  0.0679  0.004190    0.027822  0.108155\n",
      "24  Khvicha Kvaratskhelia  23.0  0.0041  0.002709    0.017988  0.006531\n",
      "27            Kim Min-jae  23.0  0.0020  0.002204    0.014635  0.003186\n",
      "15          Kylian Mbappé  23.0  0.1834  0.003970    0.026362  0.292131\n",
      "21       Lautaro Martínez  23.0  0.0027  0.002961    0.019662  0.004301\n",
      "10           Lionel Messi  23.0  0.6278  0.004222    0.028035  1.000000\n",
      "16            Luka Modrić  23.0  0.0129  0.003661    0.024310  0.020548\n",
      "8         Martin Ødegaard  23.0  0.0000  0.004552    0.030226  0.000000\n",
      "3           Mohamed Salah  23.0  0.0088  0.007196    0.047783  0.014017\n",
      "22         Nicolò Barella  23.0  0.0000  0.002961    0.019662  0.000000\n",
      "25      Randal Kolo Muani  23.0  0.0000  0.002709    0.017988  0.000000\n",
      "0      Robert Lewandowski  23.0  0.0082  0.150598    1.000000  0.013061\n",
      "19                  Rodri  23.0  0.0387  0.003408    0.022630  0.061644\n",
      "23             Rúben Dias  23.0  0.0000  0.002842    0.018871  0.000000\n",
      "17         Victor Osimhen  23.0  0.0163  0.003465    0.023008  0.025964\n",
      "5         Vinícius Júnior  23.0  0.0333  0.006350    0.042165  0.053042\n",
      "12         Yassine Bounou  23.0  0.0068  0.004141    0.027497  0.010831\n",
      "13         İlkay Gündoğan  23.0  0.0054  0.004095    0.027192  0.008601\n"
     ]
    }
   ],
   "source": [
    "sorted_N_Share = df_bayesian.sort_values('Player', ascending=True)\n",
    "print(sorted_N_Share)"
   ]
  },
  {
   "cell_type": "code",
   "execution_count": 55,
   "metadata": {},
   "outputs": [
    {
     "name": "stdout",
     "output_type": "stream",
     "text": [
      "                   Player    Actual  Predicted\n",
      "16           Lionel Messi  1.000000   0.376287\n",
      "4          Erling Haaland  0.386270   0.959437\n",
      "14          Kylian Mbappé  0.292131   0.329251\n",
      "11        Kevin De Bruyne  0.108155   0.341155\n",
      "23                  Rodri  0.061644   0.315651\n",
      "26        Vinícius Júnior  0.053042   0.469045\n",
      "9          Julián Álvarez  0.030264   0.398393\n",
      "25         Victor Osimhen  0.025964   0.235179\n",
      "2          Bernardo Silva  0.021663   0.372889\n",
      "17            Luka Modrić  0.020548   0.149990\n",
      "19          Mohamed Salah  0.014017   0.473202\n",
      "22     Robert Lewandowski  0.013061   1.000000\n",
      "27         Yassine Bounou  0.010831   0.376160\n",
      "28         İlkay Gündoğan  0.008601   0.299220\n",
      "12  Khvicha Kvaratskhelia  0.006531   0.094072\n",
      "10          Karim Benzema  0.006531   0.897046\n",
      "8         Jude Bellingham  0.005416   0.188143\n",
      "1       Antoine Griezmann  0.004301   0.256728\n",
      "15       Lautaro Martínez  0.004301   0.141108\n",
      "5              Harry Kane  0.004301   0.200060\n",
      "13            Kim Min-jae  0.003186   0.000000\n",
      "0             André Onana  0.002230   0.243398\n",
      "7          Joško Gvardiol  0.001115   0.094072\n",
      "3             Bukayo Saka  0.001115   0.071411\n",
      "18        Martin Ødegaard  0.000000   0.076512\n",
      "20         Nicolò Barella  0.000000   0.141108\n",
      "21      Randal Kolo Muani  0.000000   0.094072\n",
      "24             Rúben Dias  0.000000   0.258414\n",
      "6           Jamal Musiala  0.000000   0.000000\n"
     ]
    }
   ],
   "source": [
    "print(results_actual)"
   ]
  },
  {
   "cell_type": "code",
   "execution_count": 70,
   "metadata": {},
   "outputs": [
    {
     "name": "stdout",
     "output_type": "stream",
     "text": [
      "defaultdict(<class 'list'>, {'Lionel Messi': [1, 7, 11], 'Erling Haaland': [2, 2, 3], 'Kylian Mbappé': [3, 11, 16], 'Kevin De Bruyne': [4, 10, 12], 'Rodri': [5, 12, 20], 'Vinícius Júnior': [6, 5, 6], 'Julián Álvarez': [7, 6, 8], 'Victor Osimhen': [8, 17, 18], 'Bernardo Silva': [9, 9, 15], 'Luka Modrić': [10, 20, 17], 'Mohamed Salah': [11, 4, 4], 'Robert Lewandowski': [12, 1, 1], 'Yassine Bounou': [13, 8, 13], 'İlkay Gündoğan': [14, 13, 14], 'Khvicha Kvaratskhelia': [15, 23, 25], 'Karim Benzema': [16, 3, 2], 'Jude Bellingham': [17, 19, 21], 'Antoine Griezmann': [18, 15, 7], 'Lautaro Martínez': [19, 21, 22], 'Harry Kane': [20, 18, 5], 'Kim Min-jae': [21, 28, 28], 'André Onana': [22, 16, 19], 'Joško Gvardiol': [23, 25, 27], 'Bukayo Saka': [24, 27, 10], 'Martin Ødegaard': [25, 26, 9], 'Nicolò Barella': [26, 22, 23], 'Randal Kolo Muani': [27, 24, 26], 'Rúben Dias': [28, 14, 24], 'Jamal Musiala': [29, 29, 29]})\n"
     ]
    }
   ],
   "source": [
    "print(ranked_dict)"
   ]
  },
  {
   "cell_type": "code",
   "execution_count": 72,
   "metadata": {},
   "outputs": [
    {
     "name": "stdout",
     "output_type": "stream",
     "text": [
      "defaultdict(<class 'list'>, {'Lionel Messi': [1, 7, 11], 'Erling Haaland': [2, 2, 3], 'Kylian Mbappé': [3, 11, 16], 'Kevin De Bruyne': [4, 10, 12], 'Rodri': [5, 12, 20], 'Vinícius Júnior': [6, 5, 6], 'Julián Álvarez': [7, 6, 8], 'Victor Osimhen': [8, 17, 18], 'Bernardo Silva': [9, 9, 15], 'Luka Modrić': [10, 20, 17], 'Mohamed Salah': [11, 4, 4], 'Robert Lewandowski': [12, 1, 1], 'Yassine Bounou': [13, 8, 13], 'İlkay Gündoğan': [14, 13, 14], 'Khvicha Kvaratskhelia': [15, 23, 25], 'Karim Benzema': [16, 3, 2], 'Jude Bellingham': [17, 19, 21], 'Antoine Griezmann': [18, 15, 7], 'Lautaro Martínez': [19, 21, 22], 'Harry Kane': [20, 18, 5], 'Kim Min-jae': [21, 28, 28], 'André Onana': [22, 16, 19], 'Joško Gvardiol': [23, 25, 27], 'Bukayo Saka': [24, 27, 10], 'Martin Ødegaard': [25, 26, 9], 'Nicolò Barella': [26, 22, 23], 'Randal Kolo Muani': [27, 24, 26], 'Rúben Dias': [28, 14, 24], 'Jamal Musiala': [29, 29, 29]})\n",
      "\n",
      "\n",
      "\n",
      "[1, 2, 3, 4, 5, 6, 7, 8, 9, 10, 11, 12, 13, 14, 15, 16, 17, 18, 19, 20, 21, 22, 23, 24, 25, 26, 27, 28, 29]\n",
      "[-10, -1, -13, -8, -15, 0, -1, -10, -6, -7, 7, 11, 0, 0, -10, 14, -4, 11, -3, 15, -7, 3, -4, 14, 16, 3, 1, 4, 0]\n",
      "[11, 3, 16, 12, 20, 6, 8, 18, 15, 17, 4, 1, 13, 14, 25, 2, 21, 7, 22, 5, 28, 19, 27, 10, 9, 23, 26, 24, 29]\n"
     ]
    }
   ],
   "source": [
    "from collections import defaultdict\n",
    "\n",
    "#d =\n",
    "\n",
    "\n",
    "results_pred = results.sort_values('Predicted', ascending=False)\n",
    "results_actual = results.sort_values('Actual', ascending=False)\n",
    "\n",
    "\n",
    "ranked_dict =  defaultdict(list)\n",
    "for i, j in enumerate(results_actual[\"Player\"].values):\n",
    "    ranked_dict[j] = [i+1]\n",
    "    \n",
    "#print(ranked_dict)    \n",
    "for m, z in  enumerate(results_pred[\"Player\"].values):\n",
    "    ranked_dict[z].append(m+1)\n",
    "\n",
    "for q, n in  enumerate(df_bayesian[\"Player\"]):\n",
    "    ranked_dict[n].append(q+1)    \n",
    "    \n",
    "print(ranked_dict)    \n",
    "    \n",
    "d = []\n",
    "\n",
    "d_second = []\n",
    "\n",
    "actual = []\n",
    "predicted = []\n",
    "predicted_2 = []\n",
    "for player, ranks in ranked_dict.items(): \n",
    "    diff = ranks[0]-ranks[1]\n",
    "    \n",
    "    d.append(diff)\n",
    "    actual.append(ranks[0])\n",
    "    predicted.append(ranks[1])\n",
    "    \n",
    "    diff_second = ranks[0]-ranks[2]\n",
    "    predicted_2.append(ranks[2])\n",
    "    d_second.append(diff_second)\n",
    "    \n",
    "    \n",
    "print()\n",
    "#print(d)\n",
    "#print(actual)\n",
    "#print(predicted)\n",
    "print()\n",
    "print()\n",
    "print(actual)\n",
    "print(d_second)\n",
    "print(predicted_2)\n",
    "\n"
   ]
  },
  {
   "cell_type": "markdown",
   "metadata": {},
   "source": [
    "### Wilconxon Bayesian"
   ]
  },
  {
   "cell_type": "code",
   "execution_count": 73,
   "metadata": {},
   "outputs": [
    {
     "data": {
      "text/plain": [
       "(160.5, 0.9570388050551122)"
      ]
     },
     "execution_count": 73,
     "metadata": {},
     "output_type": "execute_result"
    }
   ],
   "source": [
    "from scipy.stats import wilcoxon\n",
    "res = wilcoxon(d_second, alternative='two-sided')\n",
    "res.statistic, res.pvalue"
   ]
  },
  {
   "cell_type": "markdown",
   "metadata": {},
   "source": [
    "### Spearmans Rank Correlation Test Bayesian "
   ]
  },
  {
   "cell_type": "code",
   "execution_count": 74,
   "metadata": {},
   "outputs": [
    {
     "name": "stdout",
     "output_type": "stream",
     "text": [
      "Spearmans correlation coefficient: 0.474\n"
     ]
    }
   ],
   "source": [
    "from scipy.stats import spearmanr\n",
    "\n",
    "coef, p = spearmanr(actual, predicted_2)\n",
    "print('Spearmans correlation coefficient: %.3f' % coef)"
   ]
  },
  {
   "cell_type": "code",
   "execution_count": null,
   "metadata": {},
   "outputs": [],
   "source": []
  },
  {
   "cell_type": "code",
   "execution_count": 68,
   "metadata": {},
   "outputs": [],
   "source": [
    "#print(sorted_N_Share[\"N_Pred_avg\"].values)\n",
    "#print(results)"
   ]
  },
  {
   "cell_type": "code",
   "execution_count": 79,
   "metadata": {},
   "outputs": [
    {
     "data": {
      "image/png": "[encoded data removed]",
      "text/plain": [
       "<Figure size 720x720 with 1 Axes>"
      ]
     },
     "metadata": {
      "needs_background": "light"
     },
     "output_type": "display_data"
    }
   ],
   "source": [
    "plt.figure(figsize = (10,10))\n",
    "\n",
    "plt.plot(results[\"Actual\"], color = \"red\", label = \"Actual\")\n",
    "plt.plot(results[\"Predicted\"], color =\"blue\", label = \"Predicted GLM\")\n",
    "plt.plot(sorted_N_Share[\"N_Pred_avg\"].values, color = \"green\", label = \"Predicted Bayesian\")\n",
    "\n",
    "\n",
    "plt.plot()\n",
    "plt.title(\"Actual vs Predicted; Share of Votes relative to the Winner\")\n",
    "plt.ylabel(\"Share of Votes\")\n",
    "#plt.xlabel(\"Player Indexes\")\n",
    "plt.xticks(np.arange(0, len(last_names)), last_names, rotation = 90)\n",
    "plt.legend()\n",
    "plt.show()\n",
    "\n"
   ]
  },
  {
   "cell_type": "code",
   "execution_count": 78,
   "metadata": {},
   "outputs": [
    {
     "data": {
      "image/png": "[encoded data removed]",
      "text/plain": [
       "<Figure size 576x432 with 1 Axes>"
      ]
     },
     "metadata": {
      "needs_background": "light"
     },
     "output_type": "display_data"
    }
   ],
   "source": [
    "# Plotting the differences using a scatter plot\n",
    "plt.figure(figsize=(8, 6))\n",
    "plt.scatter(results['Actual'], results['Predicted'], color='orange', label = \"GLM\")\n",
    "plt.scatter(results['Actual'], sorted_N_Share[\"N_Pred_avg\"].values, color='green', label = \"Bayesian\")\n",
    "plt.plot([0, 1], [0, 1], linestyle='--', color='lightgray')  # Diagonal line for reference\n",
    "plt.xlabel('Actual Share of Votes')\n",
    "plt.ylabel('Predicted Share of Votes Relatively to Winner')\n",
    "plt.title('Actual vs Predicted; Share of Votes Relatively to the Winner')\n",
    "plt.axis('equal')  # Set equal scaling for both axes\n",
    "plt.legend()\n",
    "plt.tight_layout()\n",
    "plt.show()"
   ]
  },
  {
   "cell_type": "code",
   "execution_count": null,
   "metadata": {},
   "outputs": [],
   "source": [
    "plt.figure(figsize = (10,10))\n",
    "\n",
    "plt.plot(results[\"Actual\"], color = \"red\", label = \"Actual\")\n",
    "plt.plot(results[\"Predicted\"], color =\"blue\", label = \"Predicted\")\n",
    "plt.title(\"Actual vs Predicted; Share of Votes relative to the Winner (GLM Regression)\")\n",
    "plt.ylabel(\"Share of Votes\")\n",
    "#plt.xlabel(\"Player Indexes\")\n",
    "plt.xticks(np.arange(0, len(last_names)), last_names, rotation = 90)\n",
    "plt.legend()\n",
    "plt.show()\n",
    "\n"
   ]
  },
  {
   "cell_type": "code",
   "execution_count": 64,
   "metadata": {},
   "outputs": [
    {
     "data": {
      "image/png": "[encoded data removed]",
      "text/plain": [
       "<Figure size 432x288 with 1 Axes>"
      ]
     },
     "metadata": {
      "needs_background": "light"
     },
     "output_type": "display_data"
    }
   ],
   "source": [
    "sns.kdeplot(df['Share'])\n",
    "plt.show()"
   ]
  },
  {
   "cell_type": "code",
   "execution_count": 23,
   "metadata": {},
   "outputs": [
    {
     "ename": "OSError",
     "evalue": "'seaborn-v0_8-bright' not found in the style library and input is not a valid URL or path; see `style.available` for list of available styles",
     "output_type": "error",
     "traceback": [
      "\u001b[1;31m---------------------------------------------------------------------------\u001b[0m",
      "\u001b[1;31mFileNotFoundError\u001b[0m                         Traceback (most recent call last)",
      "File \u001b[1;32m~\\anaconda3\\lib\\site-packages\\matplotlib\\style\\core.py:127\u001b[0m, in \u001b[0;36muse\u001b[1;34m(style)\u001b[0m\n\u001b[0;32m    126\u001b[0m \u001b[38;5;28;01mtry\u001b[39;00m:\n\u001b[1;32m--> 127\u001b[0m     rc \u001b[38;5;241m=\u001b[39m \u001b[43mrc_params_from_file\u001b[49m\u001b[43m(\u001b[49m\u001b[43mstyle\u001b[49m\u001b[43m,\u001b[49m\u001b[43m \u001b[49m\u001b[43muse_default_template\u001b[49m\u001b[38;5;241;43m=\u001b[39;49m\u001b[38;5;28;43;01mFalse\u001b[39;49;00m\u001b[43m)\u001b[49m\n\u001b[0;32m    128\u001b[0m     _apply_style(rc)\n",
      "File \u001b[1;32m~\\anaconda3\\lib\\site-packages\\matplotlib\\__init__.py:852\u001b[0m, in \u001b[0;36mrc_params_from_file\u001b[1;34m(fname, fail_on_error, use_default_template)\u001b[0m\n\u001b[0;32m    838\u001b[0m \u001b[38;5;250m\u001b[39m\u001b[38;5;124;03m\"\"\"\u001b[39;00m\n\u001b[0;32m    839\u001b[0m \u001b[38;5;124;03mConstruct a `RcParams` from file *fname*.\u001b[39;00m\n\u001b[0;32m    840\u001b[0m \n\u001b[1;32m   (...)\u001b[0m\n\u001b[0;32m    850\u001b[0m \u001b[38;5;124;03m    parameters specified in the file. (Useful for updating dicts.)\u001b[39;00m\n\u001b[0;32m    851\u001b[0m \u001b[38;5;124;03m\"\"\"\u001b[39;00m\n\u001b[1;32m--> 852\u001b[0m config_from_file \u001b[38;5;241m=\u001b[39m \u001b[43m_rc_params_in_file\u001b[49m\u001b[43m(\u001b[49m\u001b[43mfname\u001b[49m\u001b[43m,\u001b[49m\u001b[43m \u001b[49m\u001b[43mfail_on_error\u001b[49m\u001b[38;5;241;43m=\u001b[39;49m\u001b[43mfail_on_error\u001b[49m\u001b[43m)\u001b[49m\n\u001b[0;32m    854\u001b[0m \u001b[38;5;28;01mif\u001b[39;00m \u001b[38;5;129;01mnot\u001b[39;00m use_default_template:\n",
      "File \u001b[1;32m~\\anaconda3\\lib\\site-packages\\matplotlib\\__init__.py:778\u001b[0m, in \u001b[0;36m_rc_params_in_file\u001b[1;34m(fname, transform, fail_on_error)\u001b[0m\n\u001b[0;32m    777\u001b[0m rc_temp \u001b[38;5;241m=\u001b[39m {}\n\u001b[1;32m--> 778\u001b[0m \u001b[38;5;28;01mwith\u001b[39;00m _open_file_or_url(fname) \u001b[38;5;28;01mas\u001b[39;00m fd:\n\u001b[0;32m    779\u001b[0m     \u001b[38;5;28;01mtry\u001b[39;00m:\n",
      "File \u001b[1;32m~\\anaconda3\\lib\\contextlib.py:119\u001b[0m, in \u001b[0;36m_GeneratorContextManager.__enter__\u001b[1;34m(self)\u001b[0m\n\u001b[0;32m    118\u001b[0m \u001b[38;5;28;01mtry\u001b[39;00m:\n\u001b[1;32m--> 119\u001b[0m     \u001b[38;5;28;01mreturn\u001b[39;00m \u001b[38;5;28;43mnext\u001b[39;49m\u001b[43m(\u001b[49m\u001b[38;5;28;43mself\u001b[39;49m\u001b[38;5;241;43m.\u001b[39;49m\u001b[43mgen\u001b[49m\u001b[43m)\u001b[49m\n\u001b[0;32m    120\u001b[0m \u001b[38;5;28;01mexcept\u001b[39;00m \u001b[38;5;167;01mStopIteration\u001b[39;00m:\n",
      "File \u001b[1;32m~\\anaconda3\\lib\\site-packages\\matplotlib\\__init__.py:755\u001b[0m, in \u001b[0;36m_open_file_or_url\u001b[1;34m(fname)\u001b[0m\n\u001b[0;32m    754\u001b[0m     encoding \u001b[38;5;241m=\u001b[39m \u001b[38;5;124m\"\u001b[39m\u001b[38;5;124mutf-8\u001b[39m\u001b[38;5;124m\"\u001b[39m\n\u001b[1;32m--> 755\u001b[0m \u001b[38;5;28;01mwith\u001b[39;00m \u001b[38;5;28;43mopen\u001b[39;49m\u001b[43m(\u001b[49m\u001b[43mfname\u001b[49m\u001b[43m,\u001b[49m\u001b[43m \u001b[49m\u001b[43mencoding\u001b[49m\u001b[38;5;241;43m=\u001b[39;49m\u001b[43mencoding\u001b[49m\u001b[43m)\u001b[49m \u001b[38;5;28;01mas\u001b[39;00m f:\n\u001b[0;32m    756\u001b[0m     \u001b[38;5;28;01myield\u001b[39;00m f\n",
      "\u001b[1;31mFileNotFoundError\u001b[0m: [Errno 2] No such file or directory: 'seaborn-v0_8-bright'",
      "\nThe above exception was the direct cause of the following exception:\n",
      "\u001b[1;31mOSError\u001b[0m                                   Traceback (most recent call last)",
      "Input \u001b[1;32mIn [23]\u001b[0m, in \u001b[0;36m<cell line: 2>\u001b[1;34m()\u001b[0m\n\u001b[0;32m      1\u001b[0m \u001b[38;5;28;01mfrom\u001b[39;00m \u001b[38;5;21;01mmatplotlib\u001b[39;00m \u001b[38;5;28;01mimport\u001b[39;00m style\n\u001b[1;32m----> 2\u001b[0m \u001b[43mstyle\u001b[49m\u001b[38;5;241;43m.\u001b[39;49m\u001b[43muse\u001b[49m\u001b[43m(\u001b[49m\u001b[38;5;124;43m'\u001b[39;49m\u001b[38;5;124;43mseaborn-v0_8-bright\u001b[39;49m\u001b[38;5;124;43m'\u001b[39;49m\u001b[43m)\u001b[49m\n",
      "File \u001b[1;32m~\\anaconda3\\lib\\site-packages\\matplotlib\\style\\core.py:130\u001b[0m, in \u001b[0;36muse\u001b[1;34m(style)\u001b[0m\n\u001b[0;32m    128\u001b[0m     _apply_style(rc)\n\u001b[0;32m    129\u001b[0m \u001b[38;5;28;01mexcept\u001b[39;00m \u001b[38;5;167;01mIOError\u001b[39;00m \u001b[38;5;28;01mas\u001b[39;00m err:\n\u001b[1;32m--> 130\u001b[0m     \u001b[38;5;28;01mraise\u001b[39;00m \u001b[38;5;167;01mIOError\u001b[39;00m(\n\u001b[0;32m    131\u001b[0m         \u001b[38;5;124m\"\u001b[39m\u001b[38;5;132;01m{!r}\u001b[39;00m\u001b[38;5;124m not found in the style library and input is not a \u001b[39m\u001b[38;5;124m\"\u001b[39m\n\u001b[0;32m    132\u001b[0m         \u001b[38;5;124m\"\u001b[39m\u001b[38;5;124mvalid URL or path; see `style.available` for list of \u001b[39m\u001b[38;5;124m\"\u001b[39m\n\u001b[0;32m    133\u001b[0m         \u001b[38;5;124m\"\u001b[39m\u001b[38;5;124mavailable styles\u001b[39m\u001b[38;5;124m\"\u001b[39m\u001b[38;5;241m.\u001b[39mformat(style)) \u001b[38;5;28;01mfrom\u001b[39;00m \u001b[38;5;21;01merr\u001b[39;00m\n",
      "\u001b[1;31mOSError\u001b[0m: 'seaborn-v0_8-bright' not found in the style library and input is not a valid URL or path; see `style.available` for list of available styles"
     ]
    }
   ],
   "source": [
    "from matplotlib import style\n",
    "style.use('seaborn-v0_8-bright')"
   ]
  },
  {
   "cell_type": "code",
   "execution_count": null,
   "metadata": {},
   "outputs": [],
   "source": [
    "style.available"
   ]
  },
  {
   "cell_type": "code",
   "execution_count": null,
   "metadata": {},
   "outputs": [],
   "source": []
  }
 ],
 "metadata": {
  "kernelspec": {
   "display_name": "Python 3 (ipykernel)",
   "language": "python",
   "name": "python3"
  },
  "language_info": {
   "codemirror_mode": {
    "name": "ipython",
    "version": 3
   },
   "file_extension": ".py",
   "mimetype": "text/x-python",
   "name": "python",
   "nbconvert_exporter": "python",
   "pygments_lexer": "ipython3",
   "version": "3.9.12"
  }
 },
 "nbformat": 4,
 "nbformat_minor": 2
}
