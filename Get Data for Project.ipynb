{
 "cells": [
  {
   "cell_type": "markdown",
   "id": "1379c9ca",
   "metadata": {},
   "source": [
    "# Data from Transfermarkt"
   ]
  },
  {
   "cell_type": "code",
   "execution_count": null,
   "id": "3212a0df",
   "metadata": {},
   "outputs": [],
   "source": [
    "#https://www.transfermarkt.com/lionel-messi/torenachminute/spieler/28003/saison//verein/0/liga/0/wettbewerb//pos/0/trainer_id/0/plus/1\n",
    "import pandas as pd\n",
    "import requests # http requests\n",
    "import re # regular expressions\n",
    "from bs4 import BeautifulSoup # xml parsing\n",
    "\n"
   ]
  },
  {
   "cell_type": "code",
   "execution_count": null,
   "id": "57be79e8",
   "metadata": {},
   "outputs": [],
   "source": [
    "import requests\n",
    "from bs4 import BeautifulSoup\n",
    "import pandas as pd\n",
    "\n",
    "def get_data_from_div(url):\n",
    "    headers = {\n",
    "        'User-Agent': 'Mozilla/5.0 (Windows NT 10.0; Win64; x64) AppleWebKit/537.36 (KHTML, like Gecko) Chrome/94.0.4606.81 Safari/537.36'\n",
    "    }\n",
    "\n",
    "    response = requests.get(url, headers=headers)\n",
    "    data = []\n",
    "    if response.status_code == 200:\n",
    "        soup = BeautifulSoup(response.content, 'html.parser')\n",
    "        \n",
    "        # Find the div with class 'responsive-table'\n",
    "        div = soup.find('div', {'class': 'responsive-table'})\n",
    "        \n",
    "        if div:\n",
    "            # Extract headers\n",
    "            headers = div.find_all('th')\n",
    "            header_texts = [header.get_text(strip=True) for header in headers]\n",
    "            header_texts.append('Club')  # Adding 'Club' as a header\n",
    "            \n",
    "            # Extract contents\n",
    "            rows = div.find_all('tr')\n",
    "            for row in rows[2:]:  # Skipping the first row as it's the header row\n",
    "                player_data = {}\n",
    "                \n",
    "                cells = row.find_all('td')\n",
    "                cell_texts = [cell.get_text(strip=True) for cell in cells]\n",
    "                \n",
    "                # Checking if the row is complete (same length as headers)\n",
    "                if len(cell_texts) == len(header_texts) - 1:\n",
    "                    for index, header in enumerate(header_texts[:-1]):\n",
    "                        player_data[header] = cell_texts[index]\n",
    "                    \n",
    "                    # Extracting the club name from the 'title' attribute\n",
    "                    club_tag = cells[3].find('a')\n",
    "                    if club_tag and 'title' in club_tag.attrs:\n",
    "                        club_name = club_tag['title']\n",
    "                        player_data['Club'] = club_name\n",
    "                    \n",
    "                    season_year = cell_texts[0][-2:]\n",
    "                    if int(season_year) >= 8:\n",
    "                        data.append(player_data)\n",
    "                \n",
    "        else:\n",
    "            print('Div not found.')\n",
    "    else:\n",
    "        print('Failed to fetch data.')\n",
    "    \n",
    "    return data\n",
    "\n",
    "messi = \"https://www.transfermarkt.com/lionel-messi/torenachminute/spieler/28003/saison//verein/0/liga/0/wettbewerb//pos/0/trainer_id/0/plus/1\"\n",
    "ronaldo = \"https://www.transfermarkt.com/cristiano-ronaldo/torenachminute/spieler/8198/saison//verein/0/liga/0/wettbewerb//pos/0/trainer_id/0/plus/1\"\n",
    "result_messi = get_data_from_div(messi)\n",
    "\n",
    "result_ronaldo = get_data_from_div(ronaldo)\n",
    "\n",
    "# Convert to DataFrame\n",
    "df_messi = pd.DataFrame(result_messi)\n",
    "df_ronaldo = pd.DataFrame(result_ronaldo)\n",
    "\n",
    "#print(df_messi)\n",
    "#print(df_ronaldo)"
   ]
  },
  {
   "cell_type": "code",
   "execution_count": null,
   "id": "75703eae",
   "metadata": {},
   "outputs": [],
   "source": [
    "def get_tourna_stats(url):\n",
    "    '''Gets tournament stats given player url'''\n",
    "    headers = {\n",
    "        'User-Agent': 'Mozilla/5.0 (Windows NT 10.0; Win64; x64) AppleWebKit/537.36 (KHTML, like Gecko) Chrome/94.0.4606.81 Safari/537.36'\n",
    "    }\n",
    "\n",
    "    response = requests.get(url, headers=headers)\n",
    "    data = []\n",
    "\n",
    "    if response.status_code == 200:\n",
    "        soup = BeautifulSoup(response.content, 'html.parser')\n",
    "\n",
    "        # find all divs where class=responsive-table to get national, domestic, and international tables\n",
    "        divs = soup.find_all('div', {'class': 'responsive-table'})\n",
    "\n",
    "        print(len(divs))\n",
    "        for idx, div in enumerate(divs):\n",
    "            # defining headers in order\n",
    "            header_texts = ['Season', 'Competition', 'Club', 'Appearances', 'Goals', 'Assists', 'Yellow Cards', 'Second yellow cards', 'Red cards', 'Minutes played']\n",
    "\n",
    "            # extract contents\n",
    "            rows = div.find_all('tr')\n",
    "            for row in rows[2:]:#[1:]:  # Skipping the first row as it's the header row\n",
    "                player_data = {}\n",
    "                cells = row.find_all('td')\n",
    "                cell_texts = [cell.get_text(strip=True) for cell in cells]\n",
    "                del cell_texts[1] # remove empty cell due to league image\n",
    "\n",
    "                # Extracting the club name from the 'title' attribute\n",
    "                club_tag = cells[3].find('a')\n",
    "                if club_tag and 'title' in club_tag.attrs:\n",
    "                    club_name = club_tag['title']\n",
    "                    cell_texts[2] = club_name\n",
    "\n",
    "                # add is_national etc.\n",
    "                header_texts.extend(['is_national', 'is_domestic', 'is_international'])\n",
    "                if idx == 0:\n",
    "                    cell_texts.extend([1, 0, 0])\n",
    "                elif idx == 1:\n",
    "                    cell_texts.extend([0, 1, 0])\n",
    "                else:\n",
    "                    cell_texts.extend([0, 0, 1])\n",
    "                \n",
    "                # add data\n",
    "                for key, val in zip(header_texts, cell_texts):\n",
    "                    player_data[key] = val\n",
    "\n",
    "                season_year = cell_texts[0][-2:]\n",
    "                if int(season_year) >= 8:\n",
    "                    data.append(player_data)\n",
    "    \n",
    "    else:\n",
    "        print('Failed to fetch data.')\n",
    "    \n",
    "    return data"
   ]
  },
  {
   "cell_type": "code",
   "execution_count": null,
   "id": "c00be82d",
   "metadata": {},
   "outputs": [],
   "source": [
    "player_id = 8198 # ronaldo id\n",
    "# player_id = 139208\n",
    "url = f'https://www.transfermarkt.com/mario-mandzukic/detaillierteleistungsdaten/spieler/{player_id}'\n",
    "df = pd.DataFrame(get_tourna_stats(url))\n",
    "df"
   ]
  },
  {
   "cell_type": "code",
   "execution_count": null,
   "id": "b4e6c4ec",
   "metadata": {},
   "outputs": [],
   "source": [
    "def get_trophy_stats(url):\n",
    "    '''Gets award stats given player url'''\n",
    "    headers = {\n",
    "        'User-Agent': 'Mozilla/5.0 (Windows NT 10.0; Win64; x64) AppleWebKit/537.36 (KHTML, like Gecko) Chrome/94.0.4606.81 Safari/537.36'\n",
    "    }\n",
    "\n",
    "    response = requests.get(url, headers=headers)\n",
    "    data = []\n",
    "\n",
    "    if response.status_code == 200:\n",
    "        soup = BeautifulSoup(response.content, 'html.parser')\n",
    "\n",
    "        # find all divs where class=responsive-table to get national, domestic, and international tables\n",
    "        divs = soup.find_all('div', {'class': 'large-6 columns'})\n",
    "\n",
    "        for idx, div in enumerate(divs):\n",
    "            # defining headers in order\n",
    "            header_texts = ['Season', 'Award']\n",
    "\n",
    "            # extracting award header\n",
    "            header_parts = div.find('h2').get_text(strip=True).split(' ')\n",
    "            header_relevant_parts = header_parts[1:]\n",
    "            header = ''\n",
    "            for i in header_relevant_parts:\n",
    "                header += i + ' '\n",
    "            header = header.strip(' ')\n",
    "            \n",
    "            # extracting seasons/years awarded to player\n",
    "            rows = div.find_all('tr')\n",
    "            for row in rows:\n",
    "                player_data = {}\n",
    "\n",
    "                # rows can be just season, or season, club image, club\n",
    "                cells = row.find_all('td')\n",
    "                cell_texts = [cell.get_text(strip=True) for cell in cells]\n",
    "\n",
    "                # if season is whole year use only last two digits\n",
    "                season = cell_texts[0]\n",
    "                if len(season) == 4:\n",
    "                    season = season[-2:]\n",
    "                cell_texts[0] = season\n",
    "\n",
    "                # grab club/country if present and add data\n",
    "                if len(cell_texts) > 1:\n",
    "                    club_country = cell_texts[2]\n",
    "                    player_data['Season'] = season\n",
    "                    player_data['Club/Country'] = club_country\n",
    "                    player_data['Award'] = header\n",
    "                else:\n",
    "                    player_data['Season'] = season\n",
    "                    player_data['Award'] = header\n",
    "\n",
    "                # keep only relevant years\n",
    "                if int(season[-2:]) >= 8:\n",
    "                    data.append(player_data)\n",
    "                    \n",
    "                    \n",
    "\n",
    "            # for row in rows[2:]:#[1:]:  # Skipping the first row as it's the header row\n",
    "            #     player_data = {}\n",
    "            #     cells = row.find_all('td')\n",
    "            #     cell_texts = [cell.get_text(strip=True) for cell in cells]\n",
    "            #     del cell_texts[1] # remove empty cell due to league image\n",
    "\n",
    "            #     # Extracting the club name from the 'title' attribute\n",
    "            #     club_tag = cells[3].find('a')\n",
    "                # if club_tag and 'title' in club_tag.attrs:\n",
    "                #     club_name = club_tag['title']\n",
    "                #     cell_texts[2] = club_name\n",
    "\n",
    "                # # add is_national etc.\n",
    "                # header_texts.extend(['is_national', 'is_domestic', 'is_international'])\n",
    "                # if idx == 0:\n",
    "                #     cell_texts.extend([1, 0, 0])\n",
    "                # elif idx == 1:\n",
    "                #     cell_texts.extend([0, 1, 0])\n",
    "                # else:\n",
    "                #     cell_texts.extend([0, 0, 1])\n",
    "                \n",
    "                # # add data\n",
    "                # for key, val in zip(header_texts, cell_texts):\n",
    "                #     player_data[key] = val\n",
    "\n",
    "                # season_year = cell_texts[0][-2:]\n",
    "                # if int(season_year) >= 8:\n",
    "                #     data.append(player_data)\n",
    "            #break\n",
    "    \n",
    "    else:\n",
    "        print('Failed to fetch data.')\n",
    "    \n",
    "    return data"
   ]
  },
  {
   "cell_type": "code",
   "execution_count": null,
   "id": "43fb486f",
   "metadata": {},
   "outputs": [],
   "source": [
    "player_id = 8198 # ronaldo id\n",
    "# player_id = 139208\n",
    "url = f'https://www.transfermarkt.com/mario-mandzukic/erfolge/spieler/{player_id}'\n",
    "print(url)\n",
    "df = pd.DataFrame(get_trophy_stats(url))\n",
    "df"
   ]
  },
  {
   "cell_type": "code",
   "execution_count": null,
   "id": "875374c6",
   "metadata": {},
   "outputs": [],
   "source": [
    "df_ronaldo"
   ]
  },
  {
   "cell_type": "code",
   "execution_count": null,
   "id": "8e52f0df",
   "metadata": {},
   "outputs": [],
   "source": [
    "balondor_df = pd.read_csv(\"data/BallonDOr_combined.csv\")\n",
    "balondor_df"
   ]
  },
  {
   "cell_type": "code",
   "execution_count": null,
   "id": "d4b8c1e9",
   "metadata": {},
   "outputs": [],
   "source": []
  },
  {
   "cell_type": "code",
   "execution_count": null,
   "id": "024a3213",
   "metadata": {},
   "outputs": [],
   "source": [
    "#ballon_dor_df = pd.read_csv(r\"BallonDOr.csv\")\n",
    "#print(ballon_dor_df[\"Year\"]==2013)\n",
    "excel_file = pd.read_csv(\"data/BallonDOr_combined.csv\")\n",
    "excel_file.loc[excel_file[\"Year\"]>=2008]"
   ]
  },
  {
   "cell_type": "code",
   "execution_count": null,
   "id": "632c69e5",
   "metadata": {},
   "outputs": [],
   "source": [
    "#print(ballon_dor_df[\"Year\"])\n",
    "ballon_2008_2018 = excel_file.loc[excel_file[\"Year\"]>=2008]\n",
    "\n",
    "p_08_18 = ballon_2008_2018[\"Player\"].unique()\n",
    "print(p_08_18)"
   ]
  },
  {
   "cell_type": "code",
   "execution_count": null,
   "id": "b9fba35c",
   "metadata": {},
   "outputs": [],
   "source": [
    "print(p_08_18[8])"
   ]
  },
  {
   "cell_type": "code",
   "execution_count": null,
   "id": "aaecb943",
   "metadata": {},
   "outputs": [],
   "source": [
    "#!pip install --upgrade Selenium\n",
    "#!pip install --upgrade ChromeDriver"
   ]
  },
  {
   "cell_type": "code",
   "execution_count": null,
   "id": "6e509b8f",
   "metadata": {},
   "outputs": [],
   "source": [
    "print(p_08_18[8].lower())"
   ]
  },
  {
   "cell_type": "code",
   "execution_count": null,
   "id": "b953f298",
   "metadata": {},
   "outputs": [],
   "source": []
  },
  {
   "cell_type": "code",
   "execution_count": null,
   "id": "1e176027",
   "metadata": {},
   "outputs": [],
   "source": [
    "import unicodedata\n",
    "\n",
    "lower_list = []\n",
    "\n",
    "for i in p_08_18:\n",
    "    #j = i.split()\n",
    "    #q = \"-\".join(j)\n",
    "    j = i.lower()\n",
    "    \n",
    "    slug =  unicodedata.normalize('NFD', j).encode('ascii', 'ignore').decode('ascii')\n",
    "    #print(slug)\n",
    "    lower_list.append(slug)\n",
    "    \n",
    "    \n",
    "print(lower_list)"
   ]
  },
  {
   "cell_type": "code",
   "execution_count": null,
   "id": "0d60dd0c",
   "metadata": {},
   "outputs": [],
   "source": [
    "print(lower_list[8])"
   ]
  },
  {
   "cell_type": "code",
   "execution_count": null,
   "id": "7e9dbe54",
   "metadata": {},
   "outputs": [],
   "source": [
    "#Player name, player_id\n",
    "#Manually scraped becuase it takes more than 180h+ for jupyter notebook/code and risk of memory error if interent fails \n",
    "my_dict = {\"cristiano ronaldo\": 8198, \"lionel messi\": 28003, \"fernando torres\": 7767, \"iker casillas\": 3979,\"xavi\": 7607, \n",
    "           \"andrei arshavin\":15378, \"david villa\": 7980, \"kaka\": 3366, \"zlatan ibrahimovic\": 3455, \"steven gerrard\":3109,\n",
    "          \"marcos senna\": 7840, \"emmanuel adebayor\":8883, \"wayne rooney\": 3332, \"sergio aguero\": 26399,\n",
    "           \"frank lampard\": 3169,\"franck ribery\":22068, \"samuel eto'o\": 4257, \"gianluigi buffon\": 5023, \n",
    "           \"cesc fabregas\":8806, \"michael ballack\": 63, \"sergio ramos\": 25557, \"nemanja vidic\": 19726, \n",
    "           \"didier drogba\": 3924, \"edwin van der sar\": 3516, \"ruud van nistelrooy\": 3407,\"andres iniesta\": 7600, \n",
    "           \"edin dzeko\":28396, \"ryan giggs\": 3406, \"thierry henry\": 3207, \"luis fabiano clemente\": 19802,\n",
    "           \"diego forlan\": 3408, \"yoann gourcuff\":18912, \"julio cesar soares espindola\": 22412, \"maicon\": 18301,\n",
    "           \"diego ribas da cunha\": 4248, \"john terry\": 3160, \"yaya toure\": 13091,\"wesley sneijder\": 4673, \n",
    "           \"xabi alonso\":7476, \"carles puyol\": 7594, \"mesut ozil\": 35664, \"arjen robben\":4360, \"thomas muller\": 58358,\n",
    "          \"bastian schweinsteiger\": 2514, \"asamoah gyan\": 26802,\"julio cesar\": 22412, \"miroslav klose\": 10,\n",
    "           \"philipp lahm\": 2219, \"dani alves\": 15951,\"luis suarez diaz\":44352,\"neymar\": 68290, \"eric abidal\": 5283, \n",
    "          \"karim benzema\": 18922, \"nani\": 33706, \"gerard pique\": 18944, \"radamel falcao\": 39152, \"andrea pirlo\": 5817,\n",
    "          \"robin van persie\": 4380,\"manuel neuer\": 17259, \"sergio busquets\": 65230, \"mario balotelli\":45416, \n",
    "          \"gareth bale\": 39381, \"robert lewandowski\": 38253, \"edinson cavani\": 48280, \"thiago silva\":29241, \n",
    "          \"eden hazard\": 50202, \"james rodriguez\": 88103, \"toni kroos\": 31909, \"angel di maria\": 45320, \n",
    "           \"diego costa\": 44779, \"mario gotze\": 74842, \"javier mascherano\": 19981,\"thibaut courtois\": 108390, \n",
    "           \"paul pogba\": 122153, \"alexis sanchez\":40433, \"arturo vidal\": 37666, \"kevin de bruyne\": 88755,\n",
    "           \"ivan rakitic\": 32467, \"antoine griezmann\": 125781, \"riyad mahrez\": 171424, \"jamie vardy\":197838,\n",
    "           \"pepe\": 14132, \"pierre-emerick aubameyang\": 58864, \"rui patricio\":45026, \"luka modric\": 27992, \n",
    "           \"dimitri payet\":37647, \"paulo dybala\":206050, \"diego godin\": 54928, \"gonzalo higuain\":39153,\"koke\": 74229,\n",
    "           \"hugo lloris\": 17965, \"kylian mbappe\": 342229, \"n'golo kante\":225083, \"harry kane\":132098,\"isco\":85288,\n",
    "           \"marcelo\": 44501, \"david de gea\": 59377, \"leonardo bonucci\": 39983, \"sadio mane\": 200512, \"jan oblak\": 121483,\n",
    "           \"mats hummels\": 39728, \"philippe coutinho\": 80444, \"dries mertens\": 56416, \"mohamed salah\":148455, \n",
    "           \"raphael varane\": 164770, \"roberto firmino\":131789, \"alisson\": 105470, \"mario mandzukic\":34572, \n",
    "           \"virgil van dijk\": 139208, \"bernardo silva\": 241641,\"frenkie de jong\":326330, \"raheem sterling\":134425, \n",
    "           \"matthijs de ligt\": 326031, \"trent alexander-arnold\": 314353, \"dusan tadic\": 36139, \"son heung-min\":91845,\n",
    "           \"kalidou koulibaly\": 93128, \"marc-andre ter stegen\": 74857, \"georginio wijnaldum\": 49499, \"joao felix\":462250,\n",
    "           \"marquinhos\": 181767, \"donny van de beek\": 288255, \"jorginho\": 102017, \"gianluigi donnarumma\":315858,\n",
    "           \"erling haaland\": 418560, \"romelu lukaku\":96341, \"giorgio chiellini\": 29260, \"luis suarez\":44352, \n",
    "           \"simon kjr\":48859, \"simon kjaer\": 48859, \"mason mount\": 346483, \"bruno fernandes\": 240306, \n",
    "           \"lautaro martinez\":406625, \"pedri\": 683840, \"phil foden\": 406635, \"gerard moreno\": 177467, \n",
    "           \"nicolo barella\": 255942, \"ruben dias\": 258004, \"cesar azpilicueta\": 57500, \"vinicius junior\": 371998,\n",
    "           \"sebastien haller\":181375, \"fabinho\": 225693, \"rafael leao\": 357164, \"casemiro\": 16306,\n",
    "           \"luis diaz\": 480692, \"dusan vlahovic\": 357498, \"joao cancelo\": 182712, \"joshua kimmich\": 161056,\n",
    "           \"mike maignan\": 182906, \"christopher nkunku\": 344381, \"darwin nunez\": 546543, \"antonio rudiger\": 86202,\n",
    "           \"rodri\": 357565, \"julian alvarez\": 576024, \"victor osimhen\": 401923, \"yassine bounou\":207834, \"buno\": 207834,\n",
    "           \"ilkay gundogan\":53622, \"emiliano martinez\":111873, \"khvicha kvaratskhelia\": 502670, \"jude bellingham\":581678,\n",
    "           \"kim min-jae\":503482, \"kim min jae\":503482, \"andre onana\": 234509, \"bukayo saka\":433177, \n",
    "           \"josko gvardiol\":475959, \"josko gvardiol\":475959, \"jamal musiala\":580195, \"randal kolo muani\":487969,\n",
    "           \"martin degaard\": 316264, \"martin-odegaard\":316264}\n",
    "\n",
    "##Took 1h and 30 min"
   ]
  },
  {
   "cell_type": "code",
   "execution_count": null,
   "id": "d7fdb128",
   "metadata": {},
   "outputs": [],
   "source": [
    "print(len(my_dict.keys()))"
   ]
  },
  {
   "cell_type": "code",
   "execution_count": null,
   "id": "90a193f5",
   "metadata": {},
   "outputs": [],
   "source": [
    "len(ballon_2008_2018['Player'].unique())"
   ]
  },
  {
   "cell_type": "code",
   "execution_count": null,
   "id": "928cadb2",
   "metadata": {},
   "outputs": [],
   "source": [
    "len(balondor_df['Player'].unique())"
   ]
  },
  {
   "cell_type": "code",
   "execution_count": null,
   "id": "ca5a52fa",
   "metadata": {},
   "outputs": [],
   "source": [
    "### All the following strings are formatted with player_id in the actual code \n",
    "# Details_stats = \"https://www.transfermarkt.com/lionel-messi/torenachminute/spieler/8198/saison//verein/0/liga/0/wettbewerb//pos/0/trainer_id/0/plus/1\"\n",
    "    #Season, Competition Club, 15min intervals of scored goals, Ekstra time, Total amount of goals \n",
    "    \n",
    "    \n",
    "# Trophies = https://www.transfermarkt.com/mario-mandzukic/erfolge/spieler/34572\n",
    "    # Kind of trophies, which year/season the specific kind of trophy was won in.\n",
    "\n",
    "\n",
    "# National team = https://www.transfermarkt.com/mario-mandzukic/nationalmannschaft/spieler/34572/verein_id/3556/hauptwettbewerb//wettbewerb_id//start/2007-11-17/ende/2018-07-15/nurEinsatz/0/plus/1\n",
    "    #Kind of match in which tournament, Club, Opponant, Date, Result, Goals, Assists, Own goals, \n",
    "    # Minute for what kind of card was given to the player, minutes played of the match\n",
    "\n",
    "# Stats per tournament = https://www.transfermarkt.com/mario-mandzukic/detaillierteleistungsdaten/spieler/34572\n",
    "    #Competition, Club name, appearances for the club, Goals, asissists, cards, Minutes Played\n",
    "    #The aboed are mentioned for each type of legue (National legue, Domestic cups and International cups)\n",
    "\n",
    "# Stats per club = https://www.transfermarkt.com/mario-mandzukic/leistungsdatenverein/spieler/34572\n",
    "    #Club name, appearances for the club, Goals, asissists, cards, Minutes Played, \n",
    "    #The above are mentioned for each league the player played in \n",
    "\n",
    "\n",
    "players = []\n",
    "player_dfs = []\n",
    "tourna_dfs = []\n",
    "trophy_dfs = []\n",
    "for year in range(2008,2024): \n",
    "    #print(year)\n",
    "    m = ballon_2008_2018.loc[ballon_2008_2018[\"Year\"]== year]\n",
    "    \n",
    "    for i in m[\"Player\"].values: \n",
    "        slug =  unicodedata.normalize('NFD', i).encode('ascii', 'ignore').decode('ascii')\n",
    "        lowered = slug.lower()\n",
    "        try:\n",
    "            if lowered not in players:\n",
    "                players.append(lowered)\n",
    "                player_id = my_dict[lowered]\n",
    "                print(lowered, player_id)\n",
    "                new_url = f\"https://www.transfermarkt.com/lionel-messi/torenachminute/spieler/{player_id}/saison//verein/0/liga/0/wettbewerb//pos/0/trainer_id/0/plus/1\"\n",
    "        \n",
    "                #print(lowered, my_dict[lowered])\n",
    "                \n",
    "                result_player = get_data_from_div(new_url)\n",
    "                df_player = pd.DataFrame(result_player)\n",
    "                df_player['Competition'] = df_player['reihenfolge ASC, saison_id DESC, verein_id ASC']\n",
    "                df_player.drop('reihenfolge ASC, saison_id DESC, verein_id ASC', axis=1, inplace=True)\n",
    "                df_player['Player'] = [i] * df_player.shape[0]\n",
    "                player_dfs.append(df_player)\n",
    "\n",
    "                tourna_url = f'https://www.transfermarkt.com/mario-mandzukic/detaillierteleistungsdaten/spieler/{player_id}'\n",
    "                df_tourna = pd.DataFrame(get_tourna_stats(tourna_url))\n",
    "                df_tourna['Player'] = [i] * df_tourna.shape[0]\n",
    "                tourna_dfs.append(df_tourna)\n",
    "\n",
    "                trophy_url = f'https://www.transfermarkt.com/mario-mandzukic/erfolge/spieler/{player_id}'\n",
    "                df_trophy = pd.DataFrame(get_trophy_stats(trophy_url))\n",
    "                df_trophy['Player'] = [i] * df_trophy.shape[0]\n",
    "                trophy_dfs.append(df_trophy)\n",
    "\n",
    "\n",
    "                #print(df_player)\n",
    "               # break\n",
    "                \n",
    "        except: \n",
    "            pass\n",
    "       # break\n",
    "        #result_zlatan = get_data_from_div(zlatan)\n",
    "\n",
    "        # Convert to DataFrame\n",
    "        #df_zlatan = pd.DataFrame(result_zlatan)\n",
    "        "
   ]
  },
  {
   "cell_type": "code",
   "execution_count": null,
   "id": "4a344a29",
   "metadata": {},
   "outputs": [],
   "source": []
  },
  {
   "cell_type": "code",
   "execution_count": null,
   "id": "1665e3f6",
   "metadata": {},
   "outputs": [],
   "source": [
    "# season date should end with the last two year digits (8, 9, 10, ..., 23)"
   ]
  },
  {
   "cell_type": "code",
   "execution_count": null,
   "id": "bec69b64",
   "metadata": {},
   "outputs": [],
   "source": [
    "print(tourna_dfs.shape[0])\n",
    "print(player_dfs)"
   ]
  },
  {
   "cell_type": "code",
   "execution_count": null,
   "id": "6e1b459e",
   "metadata": {},
   "outputs": [],
   "source": [
    "for i in tourna_dfs:\n",
    "    print(len(i.columns))"
   ]
  },
  {
   "cell_type": "code",
   "execution_count": null,
   "id": "9b1ed7f5",
   "metadata": {},
   "outputs": [],
   "source": [
    "# joining all tourna dfs\n",
    "df = pd.concat(tourna_dfs)"
   ]
  },
  {
   "cell_type": "code",
   "execution_count": null,
   "id": "809a0c41",
   "metadata": {},
   "outputs": [],
   "source": [
    "df.to_csv('data/tournament_stats.csv', index=False)"
   ]
  },
  {
   "cell_type": "code",
   "execution_count": null,
   "id": "72689328",
   "metadata": {},
   "outputs": [],
   "source": [
    "for i in trophy_dfs:\n",
    "    print(i.columns)"
   ]
  },
  {
   "cell_type": "code",
   "execution_count": null,
   "id": "7d761964",
   "metadata": {},
   "outputs": [],
   "source": [
    "# joining all trophy dfs\n",
    "df = pd.concat(trophy_dfs)\n",
    "df.to_csv('data/awards.csv', index=False)"
   ]
  },
  {
   "cell_type": "code",
   "execution_count": null,
   "id": "f503df98",
   "metadata": {},
   "outputs": [],
   "source": [
    "for i in player_dfs:\n",
    "    print(i.columns)"
   ]
  },
  {
   "cell_type": "code",
   "execution_count": null,
   "id": "85335ef4",
   "metadata": {},
   "outputs": [],
   "source": [
    "# joining all player dfs\n",
    "df = pd.concat(player_dfs)\n",
    "\n",
    "# replace NaN values in Extra time column\n",
    "df['Extra time'] = df['Extra time'].fillna('-')"
   ]
  },
  {
   "cell_type": "code",
   "execution_count": null,
   "id": "0155b46b",
   "metadata": {},
   "outputs": [],
   "source": [
    "df.to_csv('data/goals.csv', index=False)"
   ]
  },
  {
   "cell_type": "code",
   "execution_count": null,
   "id": "78f553ce",
   "metadata": {},
   "outputs": [],
   "source": [
    "len(df_read['Competition'].unique())"
   ]
  },
  {
   "cell_type": "code",
   "execution_count": null,
   "id": "82247b71",
   "metadata": {},
   "outputs": [],
   "source": [
    "len(df_read['Club'].unique())"
   ]
  },
  {
   "cell_type": "code",
   "execution_count": null,
   "id": "db24542f",
   "metadata": {},
   "outputs": [],
   "source": [
    "print(df_read['Competition'].unique())"
   ]
  },
  {
   "cell_type": "code",
   "execution_count": null,
   "id": "a1df002e",
   "metadata": {},
   "outputs": [],
   "source": [
    "df_read = pd.read_csv('data/details_stats.csv')\n",
    "df_read"
   ]
  },
  {
   "cell_type": "code",
   "execution_count": null,
   "id": "73654daf",
   "metadata": {},
   "outputs": [],
   "source": [
    "df_player\n",
    "# df_player = df_player.iloc[1:]\n",
    "df_player['Competition'] = df_player['reihenfolge ASC, saison_id DESC, verein_id ASC']\n",
    "df_player.drop('reihenfolge ASC, saison_id DESC, verein_id ASC', axis=1, inplace=True)\n",
    "df_player"
   ]
  },
  {
   "cell_type": "code",
   "execution_count": null,
   "id": "0193f889",
   "metadata": {},
   "outputs": [],
   "source": [
    "#Zlatan Ibrahimović\n",
    "base_url = \"https://www.transfermarkt.com/zlatan-ibrahimovic/profil/spieler/1\"\n",
    "p = base_url.split(\"/\")[-4]\n",
    "print(\" \".join(p.split(\"-\")))"
   ]
  },
  {
   "cell_type": "code",
   "execution_count": null,
   "id": "64197c04",
   "metadata": {},
   "outputs": [],
   "source": [
    "99800/60/24/10"
   ]
  },
  {
   "cell_type": "code",
   "execution_count": null,
   "id": "6a65d1e5",
   "metadata": {},
   "outputs": [],
   "source": [
    "\"\"\"\n",
    "from selenium import webdriver\n",
    "\n",
    "base_url = \"https://www.transfermarkt.com/silvio-adzic/profil/spieler/\"\n",
    "# Initialize the Chrome WebDriver\n",
    "browser = webdriver.Chrome()\n",
    "\n",
    "\n",
    "important_player_ids = {}\n",
    "\n",
    "for player_id in range(0, 99998):\n",
    "    url = base_url + str(player_id)\n",
    "    try:\n",
    "        browser.get(url)\n",
    "        \n",
    "        # Wait for a certain time (you can use other waits if needed)\n",
    "        browser.implicitly_wait(0.1)\n",
    "\n",
    "        # Get the current URL after the delay\n",
    "        final_url = browser.current_url\n",
    "\n",
    "        #print(final_url)\n",
    "        p = final_url.split(\"/\")[-4]\n",
    "        string = \" \".join(p.split(\"-\"))\n",
    "        #print(string, lower_list[8])\n",
    "        \n",
    "        if string in lower_list:\n",
    "            print(string)\n",
    "            # If found, perform actions or extract information here...\n",
    "            \n",
    "            # Stop the loop if Zlatan Ibrahimovic is found\n",
    "            important_player_ids[p] = player_id\n",
    "            \n",
    "        \n",
    "    except Exception as e:\n",
    "        print(\"Exception occurred:\", str(e))\n",
    "    finally:\n",
    "        # Close the browser after all iterations are done\n",
    "        if player_id == 99997:  # Check if it's the last iteration\n",
    "            browser.quit()\n",
    "        # To avoid quitting the browser prematurely in other iterations\n",
    "\n",
    "print(important_player_ids)\n",
    "print(lower_list)\n",
    "\"\"\""
   ]
  },
  {
   "cell_type": "code",
   "execution_count": null,
   "id": "40ff2bed",
   "metadata": {},
   "outputs": [],
   "source": []
  },
  {
   "cell_type": "code",
   "execution_count": null,
   "id": "5640552f",
   "metadata": {},
   "outputs": [],
   "source": []
  },
  {
   "cell_type": "code",
   "execution_count": null,
   "id": "82645160",
   "metadata": {},
   "outputs": [],
   "source": []
  },
  {
   "cell_type": "code",
   "execution_count": null,
   "id": "d3db1fe7",
   "metadata": {},
   "outputs": [],
   "source": [
    "zlatan = \"https://www.transfermarkt.com/Zlatan-Ibrahimović/torenachminute/spieler/28003/saison//verein/0/liga/0/wettbewerb//pos/0/trainer_id/0/plus/1\"\n",
    "\n",
    "result_zlatan = get_data_from_div(zlatan)\n",
    "\n",
    "# Convert to DataFrame\n",
    "df_zlatan = pd.DataFrame(result_zlatan)\n",
    "\n",
    "\n",
    "neymar = \"https://www.transfermarkt.com/Neymar/torenachminute/spieler/28003/saison//verein/0/liga/0/wettbewerb//pos/0/trainer_id/0/plus/1\"\n",
    "\n",
    "result_neymar = get_data_from_div(neymar)\n",
    "\n",
    "# Convert to DataFrame\n",
    "df_neymar = pd.DataFrame(result_neymar)\n",
    "\n",
    "\n"
   ]
  },
  {
   "cell_type": "code",
   "execution_count": null,
   "id": "db7a2ce6",
   "metadata": {},
   "outputs": [],
   "source": [
    "print(df_neymar)"
   ]
  }
 ],
 "metadata": {
  "kernelspec": {
   "display_name": "Python 3 (ipykernel)",
   "language": "python",
   "name": "python3"
  },
  "language_info": {
   "codemirror_mode": {
    "name": "ipython",
    "version": 3
   },
   "file_extension": ".py",
   "mimetype": "text/x-python",
   "name": "python",
   "nbconvert_exporter": "python",
   "pygments_lexer": "ipython3",
   "version": "3.10.12"
  }
 },
 "nbformat": 4,
 "nbformat_minor": 5
}
