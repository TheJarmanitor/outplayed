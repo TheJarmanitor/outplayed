{
 "cells": [
  {
   "cell_type": "markdown",
   "id": "1379c9ca",
   "metadata": {},
   "source": [
    "# Data from Transfermarkt"
   ]
  },
  {
   "cell_type": "code",
   "execution_count": 1,
   "id": "3212a0df",
   "metadata": {},
   "outputs": [],
   "source": [
    "#https://www.transfermarkt.com/lionel-messi/torenachminute/spieler/28003/saison//verein/0/liga/0/wettbewerb//pos/0/trainer_id/0/plus/1\n",
    "import pandas as pd\n",
    "import requests # http requests\n",
    "import re # regular expressions\n",
    "from bs4 import BeautifulSoup # xml parsing\n",
    "\n"
   ]
  },
  {
   "cell_type": "code",
   "execution_count": 2,
   "id": "57be79e8",
   "metadata": {},
   "outputs": [],
   "source": [
    "import requests\n",
    "from bs4 import BeautifulSoup\n",
    "import pandas as pd\n",
    "\n",
    "def get_data_from_div(url):\n",
    "    headers = {\n",
    "        'User-Agent': 'Mozilla/5.0 (Windows NT 10.0; Win64; x64) AppleWebKit/537.36 (KHTML, like Gecko) Chrome/94.0.4606.81 Safari/537.36'\n",
    "    }\n",
    "\n",
    "    response = requests.get(url, headers=headers)\n",
    "    data = []\n",
    "    if response.status_code == 200:\n",
    "        soup = BeautifulSoup(response.content, 'html.parser')\n",
    "        \n",
    "        # Find the div with class 'responsive-table'\n",
    "        div = soup.find('div', {'class': 'responsive-table'})\n",
    "        \n",
    "        if div:\n",
    "            # Extract headers\n",
    "            headers = div.find_all('th')\n",
    "            header_texts = [header.get_text(strip=True) for header in headers]\n",
    "            header_texts.append('Club')  # Adding 'Club' as a header\n",
    "            \n",
    "            # Extract contents\n",
    "            rows = div.find_all('tr')\n",
    "            for row in rows[1:]:  # Skipping the first row as it's the header row\n",
    "                player_data = {}\n",
    "                \n",
    "                cells = row.find_all('td')\n",
    "                cell_texts = [cell.get_text(strip=True) for cell in cells]\n",
    "                \n",
    "                # Checking if the row is complete (same length as headers)\n",
    "                if len(cell_texts) == len(header_texts) - 1:\n",
    "                    for index, header in enumerate(header_texts[:-1]):\n",
    "                        player_data[header] = cell_texts[index]\n",
    "                    \n",
    "                    # Extracting the club name from the 'title' attribute\n",
    "                    club_tag = cells[3].find('a')\n",
    "                    if club_tag and 'title' in club_tag.attrs:\n",
    "                        club_name = club_tag['title']\n",
    "                        player_data['Club'] = club_name\n",
    "                    \n",
    "                    data.append(player_data)\n",
    "                \n",
    "        else:\n",
    "            print('Div not found.')\n",
    "    else:\n",
    "        print('Failed to fetch data.')\n",
    "    \n",
    "    return data\n",
    "\n",
    "messi = \"https://www.transfermarkt.com/lionel-messi/torenachminute/spieler/28003/saison//verein/0/liga/0/wettbewerb//pos/0/trainer_id/0/plus/1\"\n",
    "ronaldo = \"https://www.transfermarkt.com/cristiano-ronaldo/torenachminute/spieler/8198/saison//verein/0/liga/0/wettbewerb//pos/0/trainer_id/0/plus/1\"\n",
    "result_messi = get_data_from_div(messi)\n",
    "\n",
    "result_ronaldo = get_data_from_div(ronaldo)\n",
    "\n",
    "# Convert to DataFrame\n",
    "df_messi = pd.DataFrame(result_messi)\n",
    "df_ronaldo = pd.DataFrame(result_ronaldo)\n",
    "\n",
    "#print(df_messi)\n",
    "#print(df_ronaldo)"
   ]
  },
  {
   "cell_type": "code",
   "execution_count": 3,
   "id": "875374c6",
   "metadata": {},
   "outputs": [
    {
     "name": "stdout",
     "output_type": "stream",
     "text": [
      "   Season Competition reihenfolge ASC, saison_id DESC, verein_id ASC  \\\n",
      "0             Total :                                                  \n",
      "1   23/24                                           Saudi Pro League   \n",
      "2   23/24                                       AFC Champions League   \n",
      "3   22/23                                           Saudi Pro League   \n",
      "4   22/23                                              Europa League   \n",
      "..    ...         ...                                            ...   \n",
      "63  04/05                                             Premier League   \n",
      "64  03/04                                                     FA Cup   \n",
      "65  03/04                                             Premier League   \n",
      "66  02/03                                           Taça de Portugal   \n",
      "67  02/03                                              Liga Portugal   \n",
      "\n",
      "                 Club 1 - 15 16 - 30 31 - 45 45+ 46 - 60 61 - 75 76 - 90 90+  \\\n",
      "0                         92     113     112   7     116     117     147  23   \n",
      "1         Al-Nassr FC      2       1       2   -       4       1       4   1   \n",
      "2         Al-Nassr FC      -       -       -   -       -       2       1   -   \n",
      "3         Al-Nassr FC      1       3       3   -       3       2       1   1   \n",
      "4   Manchester United      -       -       1   -       -       -       1   -   \n",
      "..                ...    ...     ...     ...  ..     ...     ...     ...  ..   \n",
      "63  Manchester United      1       1       -   -       2       -       1   -   \n",
      "64  Manchester United      -       -       1   -       -       1       -   -   \n",
      "65  Manchester United      1       -       -   -       1       -       2   -   \n",
      "66        Sporting CP      1       -       -   -       -       1       -   -   \n",
      "67        Sporting CP      -       -       1   -       -       -       1   1   \n",
      "\n",
      "   Extra time Total  \n",
      "0           6   733  \n",
      "1           -    15  \n",
      "2           -     3  \n",
      "3           -    14  \n",
      "4           -     2  \n",
      "..        ...   ...  \n",
      "63          -     5  \n",
      "64          -     2  \n",
      "65          -     4  \n",
      "66          -     2  \n",
      "67          -     3  \n",
      "\n",
      "[68 rows x 14 columns]\n"
     ]
    }
   ],
   "source": [
    "print(df_ronaldo)"
   ]
  },
  {
   "cell_type": "code",
   "execution_count": 45,
   "id": "024a3213",
   "metadata": {},
   "outputs": [
    {
     "name": "stdout",
     "output_type": "stream",
     "text": [
      "['Cristiano Ronaldo' 'Lionel Messi' 'Franck Ribéry' 'Zlatan Ibrahimović'\n",
      " 'Neymar' 'Andrés Iniesta' 'Robin van Persie' 'Arjen Robben' 'Gareth Bale'\n",
      " 'Andrea Pirlo' 'Radamel Falcao' 'Yaya Touré' 'Robert Lewandowski'\n",
      " 'Philipp Lahm' 'Xavi' 'Mesut Özil' 'Bastian Schweinsteiger'\n",
      " 'Thomas Müller' 'Luis Suárez Díaz' 'Edinson Cavani' 'Thiago Silva'\n",
      " 'Eden Hazard' 'Manuel Neuer']\n"
     ]
    }
   ],
   "source": [
    "ballon_dor_df = pd.read_csv(r\"BallonDOr.csv\")\n",
    "#print(ballon_dor_df[\"Year\"]==2013)\n"
   ]
  },
  {
   "cell_type": "code",
   "execution_count": 5,
   "id": "236af550",
   "metadata": {},
   "outputs": [],
   "source": [
    "ronaldo = \"https://www.transfermarkt.com/cristiano-ronaldo/torenachminute/spieler/8198/saison//verein/0/liga/0/wettbewerb//pos/0/trainer_id/0/plus/1\"\n",
    "\n",
    "\n"
   ]
  },
  {
   "cell_type": "code",
   "execution_count": 6,
   "id": "632c69e5",
   "metadata": {},
   "outputs": [
    {
     "name": "stdout",
     "output_type": "stream",
     "text": [
      "['Cristiano Ronaldo' 'Lionel Messi' 'Fernando Torres' 'Iker Casillas'\n",
      " 'Xavi' 'Andrei Arshavin' 'David Villa' 'Kaká' 'Zlatan Ibrahimović'\n",
      " 'Steven Gerrard' 'Marcos Senna' 'Emmanuel Adebayor' 'Wayne Rooney'\n",
      " 'Sergio Agüero' 'Frank Lampard' 'Franck Ribéry' \"Samuel Eto'o\"\n",
      " 'Gianluigi Buffon' 'Cesc Fàbregas' 'Michael Ballack' 'Sergio Ramos'\n",
      " 'Nemanja Vidić' 'Didier Drogba' 'Edwin van der Sar' 'Ruud van Nistelrooy'\n",
      " 'Andrés Iniesta' 'Edin Džeko' 'Ryan Giggs' 'Thierry Henry'\n",
      " 'Luís Fabiano Clemente' 'Diego Forlán' 'Yoann Gourcuff'\n",
      " 'Júlio César Soares Espíndola' 'Maicon' 'Diego Ribas da Cunha'\n",
      " 'John Terry' 'Yaya Touré' 'Wesley Sneijder' 'Xabi Alonso' 'Carles Puyol'\n",
      " 'Mesut Özil' 'Arjen Robben' 'Thomas Müller' 'Bastian Schweinsteiger'\n",
      " 'Asamoah Gyan' 'Júlio César' 'Miroslav Klose' 'Philipp Lahm' 'Dani Alves'\n",
      " 'Luis Suárez Díaz' 'Neymar' 'Éric Abidal' 'Karim Benzema' 'Nani'\n",
      " 'Gerard Piqué' 'Radamel Falcao' 'Andrea Pirlo' 'Robin van Persie'\n",
      " 'Manuel Neuer' 'Sergio Busquets' 'Mario Balotelli' 'Gareth Bale'\n",
      " 'Robert Lewandowski' 'Edinson Cavani' 'Thiago Silva' 'Eden Hazard'\n",
      " 'James Rodríguez' 'Toni Kroos' 'Ángel Di María' 'Diego Costa'\n",
      " 'Mario Götze' 'Javier Mascherano' 'Thibaut Courtois' 'Paul Pogba'\n",
      " 'Alexis Sánchez' 'Arturo Vidal' 'Kevin De Bruyne' 'Ivan Rakitić'\n",
      " 'Antoine Griezmann' 'Riyad Mahrez' 'Jamie Vardy' 'Pepe'\n",
      " 'Pierre-Emerick Aubameyang' 'Rui Patrício' 'Luka Modrić' 'Dimitri Payet'\n",
      " 'Paulo Dybala' 'Diego Godín' 'Gonzalo Higuaín' 'Koke' 'Hugo Lloris'\n",
      " 'Kylian Mbappé' \"N'Golo Kanté\" 'Harry Kane' 'Isco' 'Marcelo'\n",
      " 'David de Gea' 'Leonardo Bonucci' 'Sadio Mané' 'Jan Oblak' 'Mats Hummels'\n",
      " 'Philippe Coutinho' 'Dries Mertens' 'Mohamed Salah' 'Raphaël Varane'\n",
      " 'Roberto Firmino' 'Alisson' 'Mario Mandžukić']\n"
     ]
    }
   ],
   "source": [
    "#print(ballon_dor_df[\"Year\"])\n",
    "ballon_2008_2018 = ballon_dor_df.loc[ballon_dor_df['Year'] >= 2008]\n",
    "\n",
    "p_08_18 = ballon_2008_2018[\"Player\"].unique()\n",
    "print(p_08_18)"
   ]
  },
  {
   "cell_type": "code",
   "execution_count": 12,
   "id": "b9fba35c",
   "metadata": {},
   "outputs": [
    {
     "name": "stdout",
     "output_type": "stream",
     "text": [
      "Zlatan Ibrahimović\n"
     ]
    }
   ],
   "source": [
    "print(p_08_18[8])"
   ]
  },
  {
   "cell_type": "code",
   "execution_count": 13,
   "id": "aaecb943",
   "metadata": {},
   "outputs": [],
   "source": [
    "#!pip install --upgrade Selenium\n",
    "#!pip install --upgrade ChromeDriver"
   ]
  },
  {
   "cell_type": "code",
   "execution_count": 14,
   "id": "6e509b8f",
   "metadata": {},
   "outputs": [
    {
     "name": "stdout",
     "output_type": "stream",
     "text": [
      "zlatan ibrahimović\n"
     ]
    }
   ],
   "source": [
    "print(p_08_18[8].lower())"
   ]
  },
  {
   "cell_type": "code",
   "execution_count": null,
   "id": "b953f298",
   "metadata": {},
   "outputs": [],
   "source": []
  },
  {
   "cell_type": "code",
   "execution_count": 15,
   "id": "1e176027",
   "metadata": {},
   "outputs": [
    {
     "name": "stdout",
     "output_type": "stream",
     "text": [
      "['cristiano ronaldo', 'lionel messi', 'fernando torres', 'iker casillas', 'xavi', 'andrei arshavin', 'david villa', 'kaka', 'zlatan ibrahimovic', 'steven gerrard', 'marcos senna', 'emmanuel adebayor', 'wayne rooney', 'sergio aguero', 'frank lampard', 'franck ribery', \"samuel eto'o\", 'gianluigi buffon', 'cesc fabregas', 'michael ballack', 'sergio ramos', 'nemanja vidic', 'didier drogba', 'edwin van der sar', 'ruud van nistelrooy', 'andres iniesta', 'edin dzeko', 'ryan giggs', 'thierry henry', 'luis fabiano clemente', 'diego forlan', 'yoann gourcuff', 'julio cesar soares espindola', 'maicon', 'diego ribas da cunha', 'john terry', 'yaya toure', 'wesley sneijder', 'xabi alonso', 'carles puyol', 'mesut ozil', 'arjen robben', 'thomas muller', 'bastian schweinsteiger', 'asamoah gyan', 'julio cesar', 'miroslav klose', 'philipp lahm', 'dani alves', 'luis suarez diaz', 'neymar', 'eric abidal', 'karim benzema', 'nani', 'gerard pique', 'radamel falcao', 'andrea pirlo', 'robin van persie', 'manuel neuer', 'sergio busquets', 'mario balotelli', 'gareth bale', 'robert lewandowski', 'edinson cavani', 'thiago silva', 'eden hazard', 'james rodriguez', 'toni kroos', 'angel di maria', 'diego costa', 'mario gotze', 'javier mascherano', 'thibaut courtois', 'paul pogba', 'alexis sanchez', 'arturo vidal', 'kevin de bruyne', 'ivan rakitic', 'antoine griezmann', 'riyad mahrez', 'jamie vardy', 'pepe', 'pierre-emerick aubameyang', 'rui patricio', 'luka modric', 'dimitri payet', 'paulo dybala', 'diego godin', 'gonzalo higuain', 'koke', 'hugo lloris', 'kylian mbappe', \"n'golo kante\", 'harry kane', 'isco', 'marcelo', 'david de gea', 'leonardo bonucci', 'sadio mane', 'jan oblak', 'mats hummels', 'philippe coutinho', 'dries mertens', 'mohamed salah', 'raphael varane', 'roberto firmino', 'alisson', 'mario mandzukic']\n"
     ]
    }
   ],
   "source": [
    "import unicodedata\n",
    "\n",
    "lower_list = []\n",
    "\n",
    "for i in p_08_18:\n",
    "    #j = i.split()\n",
    "    #q = \"-\".join(j)\n",
    "    j = i.lower()\n",
    "    \n",
    "    slug =  unicodedata.normalize('NFD', j).encode('ascii', 'ignore').decode('ascii')\n",
    "    #print(slug)\n",
    "    lower_list.append(slug)\n",
    "    \n",
    "    \n",
    "print(lower_list)"
   ]
  },
  {
   "cell_type": "code",
   "execution_count": 11,
   "id": "0d60dd0c",
   "metadata": {},
   "outputs": [
    {
     "name": "stdout",
     "output_type": "stream",
     "text": [
      "zlatan ibrahimovic\n"
     ]
    }
   ],
   "source": [
    "print(lower_list[8])"
   ]
  },
  {
   "cell_type": "code",
   "execution_count": 59,
   "id": "7e9dbe54",
   "metadata": {},
   "outputs": [],
   "source": [
    "#Player name, player_id\n",
    "#Manually scraped becuase it takes more than 180h+ for jupyter notebook/code and risk of memory error if interent fails \n",
    "my_dict = {\"cristiano ronaldo\": 8198, \"lionel messi\": 28003, \"fernando torres\": 7767, \"iker casillas\": 3979,\"xavi\": 7607, \n",
    "           \"andrei arshavin\":15378, \"david villa\": 7980, \"kaka\": 3366, \"zlatan ibrahimovic\": 3455, \"steven gerrard\":3109,\n",
    "          \"marcos senna\": 7840, \"emmanuel adebayor\":8883, \"wayne rooney\": 3332, \"sergio aguero\": 26399,\n",
    "           \"frank lampard\": 3169,\"franck ribery\":22068, \"samuel eto'o\": 4257, \"gianluigi buffon\": 5023, \n",
    "           \"cesc fabregas\":8806, \"michael ballack\": 63, \"sergio ramos\": 25557, \"nemanja vidic\": 19726, \n",
    "           \"didier drogba\": 3924, \"edwin van der sar\": 3516, \"ruud van nistelrooy\": 3407,\"andres iniesta\": 7600, \n",
    "           \"edin dzeko\":28396, \"ryan giggs\": 3406, \"thierry henry\": 3207, \"luis fabiano clemente\": 19802,\n",
    "           \"diego forlan\": 3408, \"yoann gourcuff\":18912, \"julio cesar soares espindola\": 22412, \"maicon\": 18301,\n",
    "           \"diego ribas da cunha\": 4248, \"john terry\": 3160, \"yaya toure\": 13091,\"wesley sneijder\": 4673, \n",
    "           \"xabi alonso\":7476, \"carles puyol\": 7594, \"mesut ozil\": 35664, \"arjen robben\":4360, \"thomas muller\": 58358,\n",
    "          \"bastian schweinsteiger\": 2514, \"asamoah gyan\": 26802,\"julio cesar\": 22412, \"miroslav klose\": 10,\n",
    "           \"philipp lahm\": 2219, \"dani alves\": 15951,\"luis suarez diaz\":44352,\"neymar\": 68290, \"eric abidal\": 5283, \n",
    "          \"karim benzema\": 18922, \"nani\": 33706, \"gerard pique\": 18944, \"radamel falcao\": 39152, \"andrea pirlo\": 5817,\n",
    "          \"robin van persie\": 4380,\"manuel neuer\": 17259, \"sergio busquets\": 65230, \"mario balotelli\":45416, \n",
    "          \"gareth bale\": 39381, \"robert lewandowski\": 38253, \"edinson cavani\": 48280, \"thiago silva\":29241, \n",
    "          \"eden hazard\": 50202, \"james rodriguez\": 88103, \"toni kroos\": 31909, \"angel di maria\": 45320, \n",
    "           \"diego costa\": 44779, \"mario gotze\": 74842, \"javier mascherano\": 19981,\"thibaut courtois\": 108390, \n",
    "           \"paul pogba\": 122153, \"alexis sanchez\":40433, \"arturo vidal\": 37666, \"kevin de bruyne\": 88755,\n",
    "           \"ivan rakitic\": 32467, \"antoine griezmann\": 125781, \"riyad mahrez\": 171424, \"jamie vardy\":197838,\n",
    "           \"pepe\": 14132, \"pierre-emerick aubameyang\": 58864, \"rui patricio\":45026, \"luka modric\": 27992, \n",
    "           \"dimitri payet\":37647, \"paulo dybala\":206050, \"diego godin\": 54928, \"gonzalo higuain\":39153,\"koke\": 74229,\n",
    "           \"hugo lloris\": 17965, \"kylian mbappe\": 342229, \"n'golo kante\":225083, \"harry kane\":132098,\"isco\":85288,\n",
    "           \"marcelo\": 44501, \"david de gea\": 59377, \"leonardo bonucci\": 39983, \"sadio mane\": 200512, \"jan oblak\": 121483,\n",
    "           \"mats hummels\": 39728, \"philippe coutinho\": 80444, \"dries mertens\": 56416, \"mohamed salah\":148455, \n",
    "           \"raphael varane\": 164770, \"roberto firmino\":131789, \"alisson\": 105470, \"mario mandzukic\":34572\n",
    "          }\n",
    "\n",
    "##Took 1h and 30 min"
   ]
  },
  {
   "cell_type": "code",
   "execution_count": 79,
   "id": "ca5a52fa",
   "metadata": {},
   "outputs": [
    {
     "name": "stdout",
     "output_type": "stream",
     "text": [
      "cristiano ronaldo 8198\n",
      "   Season Competition reihenfolge ASC, saison_id DESC, verein_id ASC  \\\n",
      "0             Total :                                                  \n",
      "1   23/24                                           Saudi Pro League   \n",
      "2   23/24                                       AFC Champions League   \n",
      "3   22/23                                           Saudi Pro League   \n",
      "4   22/23                                              Europa League   \n",
      "..    ...         ...                                            ...   \n",
      "63  04/05                                             Premier League   \n",
      "64  03/04                                                     FA Cup   \n",
      "65  03/04                                             Premier League   \n",
      "66  02/03                                           Taça de Portugal   \n",
      "67  02/03                                              Liga Portugal   \n",
      "\n",
      "                 Club 1 - 15 16 - 30 31 - 45 45+ 46 - 60 61 - 75 76 - 90 90+  \\\n",
      "0                         92     113     112   7     116     117     147  23   \n",
      "1         Al-Nassr FC      2       1       2   -       4       1       4   1   \n",
      "2         Al-Nassr FC      -       -       -   -       -       2       1   -   \n",
      "3         Al-Nassr FC      1       3       3   -       3       2       1   1   \n",
      "4   Manchester United      -       -       1   -       -       -       1   -   \n",
      "..                ...    ...     ...     ...  ..     ...     ...     ...  ..   \n",
      "63  Manchester United      1       1       -   -       2       -       1   -   \n",
      "64  Manchester United      -       -       1   -       -       1       -   -   \n",
      "65  Manchester United      1       -       -   -       1       -       2   -   \n",
      "66        Sporting CP      1       -       -   -       -       1       -   -   \n",
      "67        Sporting CP      -       -       1   -       -       -       1   1   \n",
      "\n",
      "   Extra time Total  \n",
      "0           6   733  \n",
      "1           -    15  \n",
      "2           -     3  \n",
      "3           -    14  \n",
      "4           -     2  \n",
      "..        ...   ...  \n",
      "63          -     5  \n",
      "64          -     2  \n",
      "65          -     4  \n",
      "66          -     2  \n",
      "67          -     3  \n",
      "\n",
      "[68 rows x 14 columns]\n",
      "lionel messi 28003\n",
      "   Season Competition reihenfolge ASC, saison_id DESC, verein_id ASC  \\\n",
      "0             Total :                                                  \n",
      "1    2023                                                        MLS   \n",
      "2    2023                                                Leagues Cup   \n",
      "3   22/23                                                    Ligue 1   \n",
      "4   22/23                                           Champions League   \n",
      "..    ...         ...                                            ...   \n",
      "65  05/06                                                     LaLiga   \n",
      "66  05/06                                               Copa del Rey   \n",
      "67  05/06                                           Champions League   \n",
      "68  04/05                                                     LaLiga   \n",
      "69  04/05                                           2ª B - Grupo III   \n",
      "\n",
      "                   Club 1 - 15 16 - 30 31 - 45 45+ 46 - 60 61 - 75 76 - 90  \\\n",
      "0                           72     120     123   6     102     124     145   \n",
      "1        Inter Miami CF      -       -       -   -       -       -       1   \n",
      "2        Inter Miami CF      3       3       -   -       -       1       2   \n",
      "3   Paris Saint-Germain      2       4       1   -       3       2       3   \n",
      "4   Paris Saint-Germain      -       2       2   -       -       -       -   \n",
      "..                  ...    ...     ...     ...  ..     ...     ...     ...   \n",
      "65         FC Barcelona      -       -       -   -       2       1       3   \n",
      "66         FC Barcelona      -       -       1   -       -       -       -   \n",
      "67         FC Barcelona      -       -       1   -       -       -       -   \n",
      "68         FC Barcelona      -       -       -   -       -       -       -   \n",
      "69       FC Barcelona B      2       1       1   -       -       1       1   \n",
      "\n",
      "   90+ Extra time Total  \n",
      "0   28          1   721  \n",
      "1    -          -     1  \n",
      "2    1          -    10  \n",
      "3    1          -    16  \n",
      "4    -          -     4  \n",
      "..  ..        ...   ...  \n",
      "65   -          -     6  \n",
      "66   -          -     1  \n",
      "67   -          -     1  \n",
      "68   1          -     1  \n",
      "69   -          -     6  \n",
      "\n",
      "[70 rows x 14 columns]\n",
      "luka modric 27992\n",
      "   Season Competition reihenfolge ASC, saison_id DESC, verein_id ASC  \\\n",
      "0             Total :                                                  \n",
      "1   22/23                                                     LaLiga   \n",
      "2   22/23                                           Champions League   \n",
      "3   21/22                                                     LaLiga   \n",
      "4   21/22                                                  Supercopa   \n",
      "5   20/21                                                     LaLiga   \n",
      "6   20/21                                           Champions League   \n",
      "7   19/20                                                  Supercopa   \n",
      "8   19/20                                                     LaLiga   \n",
      "9   19/20                                           Champions League   \n",
      "10  18/19                                                     LaLiga   \n",
      "11  18/19                                             Club World Cup   \n",
      "12  17/18                                                     LaLiga   \n",
      "13  17/18                                           Champions League   \n",
      "14  16/17                                                     LaLiga   \n",
      "15  15/16                                                     LaLiga   \n",
      "16  15/16                                           Champions League   \n",
      "17  14/15                                                     LaLiga   \n",
      "18  13/14                                                     LaLiga   \n",
      "19  13/14                                           Champions League   \n",
      "20  12/13                                                     LaLiga   \n",
      "21  12/13                                           Champions League   \n",
      "22  11/12                                             Premier League   \n",
      "23  11/12                                              Europa League   \n",
      "24  10/11                                             Premier League   \n",
      "25  10/11                                           Champions League   \n",
      "26  09/10                                             Premier League   \n",
      "27  08/09                                             Premier League   \n",
      "28  08/09                                                     FA Cup   \n",
      "29  08/09                                                   UEFA Cup   \n",
      "30  07/08                                             SuperSport HNL   \n",
      "31  07/08                                                   UEFA Cup   \n",
      "32  07/08                                       Champions League Qu.   \n",
      "33  06/07                                             SuperSport HNL   \n",
      "34   2006                                       SuperSport Super Cup   \n",
      "35  05/06                                             SuperSport HNL   \n",
      "\n",
      "                 Club 1 - 15 16 - 30 31 - 45 45+ 46 - 60 61 - 75 76 - 90 90+  \\\n",
      "0                         13      11      17   1      13      14      11   5   \n",
      "1         Real Madrid      1       -       2   -       -       -       1   -   \n",
      "2         Real Madrid      1       -       -   -       1       -       -   -   \n",
      "3         Real Madrid      -       -       1   -       -       -       1   -   \n",
      "4         Real Madrid      -       -       1   -       -       -       -   -   \n",
      "5         Real Madrid      1       2       -   -       -       -       1   1   \n",
      "6         Real Madrid      -       -       -   -       1       -       -   -   \n",
      "7         Real Madrid      -       -       -   -       -       1       -   -   \n",
      "8         Real Madrid      -       -       -   -       -       2       -   1   \n",
      "9         Real Madrid      -       -       -   -       -       -       -   1   \n",
      "10        Real Madrid      1       -       -   -       -       -       1   1   \n",
      "11        Real Madrid      1       -       -   -       -       -       -   -   \n",
      "12        Real Madrid      -       -       -   -       -       1       -   -   \n",
      "13        Real Madrid      -       1       -   -       -       -       -   -   \n",
      "14        Real Madrid      -       -       -   -       -       1       -   -   \n",
      "15        Real Madrid      -       -       -   -       -       -       2   -   \n",
      "16        Real Madrid      -       -       -   -       1       -       -   -   \n",
      "17        Real Madrid      -       -       1   -       -       -       -   -   \n",
      "18        Real Madrid      -       -       -   -       -       1       -   -   \n",
      "19        Real Madrid      -       1       -   -       -       -       -   -   \n",
      "20        Real Madrid      -       -       -   -       1       1       -   1   \n",
      "21        Real Madrid      -       -       -   -       -       1       -   -   \n",
      "22  Tottenham Hotspur      1       -       2   -       1       -       -   -   \n",
      "23  Tottenham Hotspur      -       -       1   -       -       -       -   -   \n",
      "24  Tottenham Hotspur      -       2       -   -       1       -       -   -   \n",
      "25  Tottenham Hotspur      -       -       -   1       -       -       -   -   \n",
      "26  Tottenham Hotspur      1       1       1   -       -       -       -   -   \n",
      "27  Tottenham Hotspur      -       1       1   -       1       -       -   -   \n",
      "28  Tottenham Hotspur      -       -       -   -       -       -       1   -   \n",
      "29  Tottenham Hotspur      -       -       -   -       -       1       -   -   \n",
      "30  GNK Dinamo Zagreb      3       1       4   -       2       1       2   -   \n",
      "31  GNK Dinamo Zagreb      -       -       1   -       -       -       -   -   \n",
      "32  GNK Dinamo Zagreb      -       -       1   -       1       -       -   -   \n",
      "33  GNK Dinamo Zagreb      2       1       -   -       1       1       1   -   \n",
      "34  GNK Dinamo Zagreb      -       -       1   -       -       -       -   -   \n",
      "35  GNK Dinamo Zagreb      1       1       -   -       2       3       1   -   \n",
      "\n",
      "   Total  \n",
      "0     85  \n",
      "1      4  \n",
      "2      2  \n",
      "3      2  \n",
      "4      1  \n",
      "5      5  \n",
      "6      1  \n",
      "7      1  \n",
      "8      3  \n",
      "9      1  \n",
      "10     3  \n",
      "11     1  \n",
      "12     1  \n",
      "13     1  \n",
      "14     1  \n",
      "15     2  \n",
      "16     1  \n",
      "17     1  \n",
      "18     1  \n",
      "19     1  \n",
      "20     3  \n",
      "21     1  \n",
      "22     4  \n",
      "23     1  \n",
      "24     3  \n",
      "25     1  \n",
      "26     3  \n",
      "27     3  \n",
      "28     1  \n",
      "29     1  \n",
      "30    13  \n",
      "31     1  \n",
      "32     2  \n",
      "33     6  \n",
      "34     1  \n",
      "35     8  \n"
     ]
    }
   ],
   "source": [
    "### All the following strings are formatted with player_id in the actual code \n",
    "# Details_stats = \"https://www.transfermarkt.com/lionel-messi/torenachminute/spieler/8198/saison//verein/0/liga/0/wettbewerb//pos/0/trainer_id/0/plus/1\"\n",
    "    #Season, Competition Club, 15min intervals of scored goals, Ekstra time, Total amount of goals \n",
    "    \n",
    "    \n",
    "# Trophies = https://www.transfermarkt.com/mario-mandzukic/erfolge/spieler/34572\n",
    "    # Kind of trophies, which year/season the specific kind of trophy was won in.\n",
    "\n",
    "\n",
    "# National team = https://www.transfermarkt.com/mario-mandzukic/nationalmannschaft/spieler/34572/verein_id/3556/hauptwettbewerb//wettbewerb_id//start/2007-11-17/ende/2018-07-15/nurEinsatz/0/plus/1\n",
    "    #Kind of match in which tournament, Club, Opponant, Date, Result, Goals, Assists, Own goals, \n",
    "    # Minute for what kind of card was given to the player, minutes played of the match\n",
    "\n",
    "# Stats per tournament = https://www.transfermarkt.com/mario-mandzukic/detaillierteleistungsdaten/spieler/34572\n",
    "    #Competition, Club name, appearances for the club, Goals, asissists, cards, Minutes Played\n",
    "    #The aboed are mentioned for each type of legue (National legue, Domestic cups and International cups)\n",
    "\n",
    "# Stats per club = https://www.transfermarkt.com/mario-mandzukic/leistungsdatenverein/spieler/34572\n",
    "    #Club name, appearances for the club, Goals, asissists, cards, Minutes Played, \n",
    "    #The above are mentioned for each league the player played in \n",
    "\n",
    "\n",
    "players = []\n",
    "for year in range(2008,2019): \n",
    "    #print(year)\n",
    "    m = ballon_dor_df.loc[ballon_dor_df[\"Year\"]== year]\n",
    "    \n",
    "    for i in m[\"Player\"].values: \n",
    "        slug =  unicodedata.normalize('NFD', i).encode('ascii', 'ignore').decode('ascii')\n",
    "        lowered = slug.lower()\n",
    "        try: \n",
    "            if lowered not in players:\n",
    "                players.append(lowered)\n",
    "                player_id = my_dict[lowered]\n",
    "                print(lowered, player_id)\n",
    "                new_url = f\"https://www.transfermarkt.com/lionel-messi/torenachminute/spieler/{player_id}/saison//verein/0/liga/0/wettbewerb//pos/0/trainer_id/0/plus/1\"\n",
    "        \n",
    "                #print(lowered, my_dict[lowered])\n",
    "                result_player = get_data_from_div(new_url)\n",
    "                df_player = pd.DataFrame(result_player)\n",
    "                print(df_player)\n",
    "               # break\n",
    "                \n",
    "        except: \n",
    "            pass\n",
    "        break\n",
    "        #result_zlatan = get_data_from_div(zlatan)\n",
    "\n",
    "        # Convert to DataFrame\n",
    "        #df_zlatan = pd.DataFrame(result_zlatan)\n",
    "        "
   ]
  },
  {
   "cell_type": "code",
   "execution_count": 26,
   "id": "0193f889",
   "metadata": {},
   "outputs": [
    {
     "name": "stdout",
     "output_type": "stream",
     "text": [
      "zlatan ibrahimovic\n"
     ]
    }
   ],
   "source": [
    "#Zlatan Ibrahimović\n",
    "base_url = \"https://www.transfermarkt.com/zlatan-ibrahimovic/profil/spieler/1\"\n",
    "p = base_url.split(\"/\")[-4]\n",
    "print(\" \".join(p.split(\"-\")))"
   ]
  },
  {
   "cell_type": "code",
   "execution_count": 27,
   "id": "64197c04",
   "metadata": {},
   "outputs": [
    {
     "data": {
      "text/plain": [
       "6.930555555555555"
      ]
     },
     "execution_count": 27,
     "metadata": {},
     "output_type": "execute_result"
    }
   ],
   "source": [
    "99800/60/24/10"
   ]
  },
  {
   "cell_type": "code",
   "execution_count": 16,
   "id": "6a65d1e5",
   "metadata": {},
   "outputs": [
    {
     "data": {
      "text/plain": [
       "'\\nfrom selenium import webdriver\\n\\nbase_url = \"https://www.transfermarkt.com/silvio-adzic/profil/spieler/\"\\n# Initialize the Chrome WebDriver\\nbrowser = webdriver.Chrome()\\n\\n\\nimportant_player_ids = {}\\n\\nfor player_id in range(0, 99998):\\n    url = base_url + str(player_id)\\n    try:\\n        browser.get(url)\\n        \\n        # Wait for a certain time (you can use other waits if needed)\\n        browser.implicitly_wait(0.1)\\n\\n        # Get the current URL after the delay\\n        final_url = browser.current_url\\n\\n        #print(final_url)\\n        p = final_url.split(\"/\")[-4]\\n        string = \" \".join(p.split(\"-\"))\\n        #print(string, lower_list[8])\\n        \\n        if string in lower_list:\\n            print(string)\\n            # If found, perform actions or extract information here...\\n            \\n            # Stop the loop if Zlatan Ibrahimovic is found\\n            important_player_ids[p] = player_id\\n            \\n        \\n    except Exception as e:\\n        print(\"Exception occurred:\", str(e))\\n    finally:\\n        # Close the browser after all iterations are done\\n        if player_id == 99997:  # Check if it\\'s the last iteration\\n            browser.quit()\\n        # To avoid quitting the browser prematurely in other iterations\\n\\nprint(important_player_ids)\\nprint(lower_list)\\n'"
      ]
     },
     "execution_count": 16,
     "metadata": {},
     "output_type": "execute_result"
    }
   ],
   "source": [
    "\"\"\"\n",
    "from selenium import webdriver\n",
    "\n",
    "base_url = \"https://www.transfermarkt.com/silvio-adzic/profil/spieler/\"\n",
    "# Initialize the Chrome WebDriver\n",
    "browser = webdriver.Chrome()\n",
    "\n",
    "\n",
    "important_player_ids = {}\n",
    "\n",
    "for player_id in range(0, 99998):\n",
    "    url = base_url + str(player_id)\n",
    "    try:\n",
    "        browser.get(url)\n",
    "        \n",
    "        # Wait for a certain time (you can use other waits if needed)\n",
    "        browser.implicitly_wait(0.1)\n",
    "\n",
    "        # Get the current URL after the delay\n",
    "        final_url = browser.current_url\n",
    "\n",
    "        #print(final_url)\n",
    "        p = final_url.split(\"/\")[-4]\n",
    "        string = \" \".join(p.split(\"-\"))\n",
    "        #print(string, lower_list[8])\n",
    "        \n",
    "        if string in lower_list:\n",
    "            print(string)\n",
    "            # If found, perform actions or extract information here...\n",
    "            \n",
    "            # Stop the loop if Zlatan Ibrahimovic is found\n",
    "            important_player_ids[p] = player_id\n",
    "            \n",
    "        \n",
    "    except Exception as e:\n",
    "        print(\"Exception occurred:\", str(e))\n",
    "    finally:\n",
    "        # Close the browser after all iterations are done\n",
    "        if player_id == 99997:  # Check if it's the last iteration\n",
    "            browser.quit()\n",
    "        # To avoid quitting the browser prematurely in other iterations\n",
    "\n",
    "print(important_player_ids)\n",
    "print(lower_list)\n",
    "\"\"\""
   ]
  },
  {
   "cell_type": "code",
   "execution_count": null,
   "id": "40ff2bed",
   "metadata": {},
   "outputs": [],
   "source": []
  },
  {
   "cell_type": "code",
   "execution_count": 14,
   "id": "5640552f",
   "metadata": {},
   "outputs": [
    {
     "name": "stdout",
     "output_type": "stream",
     "text": [
      "https://www.transfermarkt.com/zlatan-ibrahimovic/profil/spieler/3450\n"
     ]
    }
   ],
   "source": []
  },
  {
   "cell_type": "code",
   "execution_count": null,
   "id": "82645160",
   "metadata": {},
   "outputs": [],
   "source": []
  },
  {
   "cell_type": "code",
   "execution_count": null,
   "id": "d3db1fe7",
   "metadata": {},
   "outputs": [],
   "source": [
    "zlatan = \"https://www.transfermarkt.com/Zlatan-Ibrahimović/torenachminute/spieler/28003/saison//verein/0/liga/0/wettbewerb//pos/0/trainer_id/0/plus/1\"\n",
    "\n",
    "result_zlatan = get_data_from_div(zlatan)\n",
    "\n",
    "# Convert to DataFrame\n",
    "df_zlatan = pd.DataFrame(result_zlatan)\n",
    "\n",
    "\n",
    "neymar = \"https://www.transfermarkt.com/Neymar/torenachminute/spieler/28003/saison//verein/0/liga/0/wettbewerb//pos/0/trainer_id/0/plus/1\"\n",
    "\n",
    "result_neymar = get_data_from_div(neymar)\n",
    "\n",
    "# Convert to DataFrame\n",
    "df_neymar = pd.DataFrame(result_neymar)\n",
    "\n",
    "\n"
   ]
  },
  {
   "cell_type": "code",
   "execution_count": null,
   "id": "db7a2ce6",
   "metadata": {},
   "outputs": [],
   "source": [
    "print(df_neymar)"
   ]
  }
 ],
 "metadata": {
  "kernelspec": {
   "display_name": "Python 3 (ipykernel)",
   "language": "python",
   "name": "python3"
  },
  "language_info": {
   "codemirror_mode": {
    "name": "ipython",
    "version": 3
   },
   "file_extension": ".py",
   "mimetype": "text/x-python",
   "name": "python",
   "nbconvert_exporter": "python",
   "pygments_lexer": "ipython3",
   "version": "3.9.12"
  }
 },
 "nbformat": 4,
 "nbformat_minor": 5
}
