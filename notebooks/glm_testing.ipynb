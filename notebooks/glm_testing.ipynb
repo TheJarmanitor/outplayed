{
 "cells": [
  {
   "cell_type": "code",
   "execution_count": 144,
   "metadata": {},
   "outputs": [],
   "source": [
    "import pandas as pd\n",
    "import statsmodels.api as sm\n",
    "import numpy as np\n",
    "import seaborn as sns\n",
    "import matplotlib.pyplot as plt"
   ]
  },
  {
   "cell_type": "code",
   "execution_count": 145,
   "metadata": {},
   "outputs": [],
   "source": [
    "df = pd.read_csv('../data/player_stats_trends.csv')\n",
    "tournament_stats = pd.read_csv('../data/tournament_stats_new.csv')\n",
    "goals = pd.read_csv('../data/goals.csv')\n",
    "awards = pd.read_csv('../data/awards.csv')"
   ]
  },
  {
   "cell_type": "code",
   "execution_count": 146,
   "metadata": {},
   "outputs": [],
   "source": [
    "awards['Year'] = awards['Season'].apply(lambda x: float(str(x)[-2:]))\n",
    "awards = awards.drop(columns=['Season', 'Club/Country'])\n",
    "awards = awards.groupby('Award').filter(lambda x: len(x) >= 5)\n",
    "awards = awards[~awards['Award'].isin([\"Winner Ballon d'Or\", 'Footballer of the Year', 'UEFA Best Player in Europe', \"The Best FIFA Men's Player\", 'Player of the Year', 'Top goal scorer', 'African Footballer of the Year', 'TM-Player of the season'])]\n",
    "\n",
    "\n",
    "awards = pd.get_dummies(awards, columns=['Award'], prefix='', prefix_sep='')\n",
    "\n",
    "for col in awards.columns:\n",
    "    if col not in ['Player', 'Year']:\n",
    "        awards[col] = awards[col].astype(int)\n",
    "awards = awards.groupby(['Player', 'Year']).sum().reset_index()\n"
   ]
  },
  {
   "cell_type": "code",
   "execution_count": 147,
   "metadata": {},
   "outputs": [],
   "source": [
    "def goal_fixer(goals):\n",
    "    try:\n",
    "        return int(goals)\n",
    "    except:\n",
    "        return 0\n",
    "def run_model(X, y):\n",
    "    glm = sm.GLM(endog=y, exog= X, family=sm.families.Gaussian())\n",
    "    X = sm.add_constant(X)\n",
    "    glm_results = glm.fit()\n",
    "    return glm_results\n",
    "def remove_p(X, glm_results, p):\n",
    "    to_remove = []\n",
    "    for i in glm_results.pvalues.index:\n",
    "        if glm_results.pvalues[i] > p:\n",
    "        # print(i)\n",
    "            to_remove.append(i)\n",
    "        elif np.isnan(glm_results.pvalues[i]):\n",
    "        # print(i)\n",
    "            to_remove.append(i)\n",
    "    X = X.drop(columns=to_remove)\n",
    "    return X"
   ]
  },
  {
   "cell_type": "code",
   "execution_count": 148,
   "metadata": {},
   "outputs": [],
   "source": [
    "tournament_stats['Year'] = tournament_stats['Season'].apply(lambda x: float(x[-2:]))\n",
    "tournament_stats = tournament_stats.drop('Season', axis=1)\n",
    "tournament_stats = tournament_stats.query('Year >= 8 & Year <= 23')\n",
    "tournament_stats['Goals'] = tournament_stats['Goals'].apply(lambda x: goal_fixer(x))\n",
    "tournament_stats['Minutes played'] = tournament_stats['Minutes played'].apply(lambda x: goal_fixer(x))\n",
    "\n",
    "comp_goals = tournament_stats.pivot_table(index=['Year', 'Player'], columns='Competition', aggfunc='sum')['Goals'].replace(np.nan, 0).reset_index()\n",
    "comp_goals = comp_goals.rename(columns=lambda x: x + '_Goals')\n",
    "comp_goals.rename(columns={'Year_Goals': 'Year', 'Player_Goals' : 'Player'}, inplace=True)\n",
    "\n",
    "comp_mins = tournament_stats.pivot_table(index=['Year', 'Player'], columns='Competition', aggfunc='sum')['Minutes played'].replace(np.nan, 0).reset_index()\n",
    "comp_mins = comp_mins.rename(columns=lambda x: x + '_Minutes')\n",
    "comp_mins.rename(columns={'Year_Minutes': 'Year', 'Player_Minutes' : 'Player'}, inplace=True)"
   ]
  },
  {
   "cell_type": "code",
   "execution_count": 149,
   "metadata": {},
   "outputs": [],
   "source": [
    "df = df.drop(columns=['P1', 'P2', 'P3', 'P4', 'P5', 'Votes', 'RankPts', 'Percent', 'Voted', 'Season'])"
   ]
  },
  {
   "cell_type": "code",
   "execution_count": 150,
   "metadata": {},
   "outputs": [],
   "source": [
    "for i in df.columns:\n",
    "    if i  not in ['Player', 'Nationality', 'Club']:\n",
    "        df[i] = df[i].astype(float)"
   ]
  },
  {
   "cell_type": "code",
   "execution_count": 151,
   "metadata": {},
   "outputs": [],
   "source": [
    "# df = df.merge(comp_goals, on=['Year', 'Player'], how='left')\n",
    "df = df.merge(awards, on=['Year', 'Player'], how='left')\n",
    "df = df.merge(comp_mins, on=['Year', 'Player'], how='left')\n",
    "\n",
    "\n",
    "df.fillna(0, inplace=True)"
   ]
  },
  {
   "cell_type": "code",
   "execution_count": 152,
   "metadata": {},
   "outputs": [],
   "source": [
    "df.set_index(['Player', 'Year'], inplace=True)\n",
    "X, y = df.drop(columns=['Share', 'Nationality', 'Club', 'Rank', 'Points', 'Month']), df['Share']\n",
    "glm = sm.GLM(endog=y, exog= X, family=sm.families.Gaussian())\n",
    "X = sm.add_constant(X)\n",
    "glm_results = glm.fit()"
   ]
  },
  {
   "cell_type": "code",
   "execution_count": 153,
   "metadata": {},
   "outputs": [],
   "source": [
    "for i in range(3):\n",
    "    X = remove_p(X, glm_results, 0.5)\n",
    "    glm_results = run_model(X, y)\n",
    "for i in range(2):\n",
    "    X = remove_p(X, glm_results, 0.2)\n",
    "    glm_results = run_model(X, y)\n",
    "for i in range(2):\n",
    "    X = remove_p(X, glm_results, 0.05)\n",
    "    glm_results = run_model(X, y)"
   ]
  },
  {
   "cell_type": "code",
   "execution_count": 154,
   "metadata": {},
   "outputs": [
    {
     "data": {
      "text/html": [
       "<table class=\"simpletable\">\n",
       "<caption>Generalized Linear Model Regression Results</caption>\n",
       "<tr>\n",
       "  <th>Dep. Variable:</th>         <td>Share</td>      <th>  No. Observations:  </th>  <td>   365</td>  \n",
       "</tr>\n",
       "<tr>\n",
       "  <th>Model:</th>                  <td>GLM</td>       <th>  Df Residuals:      </th>  <td>   347</td>  \n",
       "</tr>\n",
       "<tr>\n",
       "  <th>Model Family:</th>        <td>Gaussian</td>     <th>  Df Model:          </th>  <td>    17</td>  \n",
       "</tr>\n",
       "<tr>\n",
       "  <th>Link Function:</th>       <td>Identity</td>     <th>  Scale:             </th> <td>0.0035767</td>\n",
       "</tr>\n",
       "<tr>\n",
       "  <th>Method:</th>                <td>IRLS</td>       <th>  Log-Likelihood:    </th> <td>  519.40</td> \n",
       "</tr>\n",
       "<tr>\n",
       "  <th>Date:</th>            <td>Tue, 02 Jan 2024</td> <th>  Deviance:          </th> <td>  1.2411</td> \n",
       "</tr>\n",
       "<tr>\n",
       "  <th>Time:</th>                <td>10:14:26</td>     <th>  Pearson chi2:      </th>  <td>  1.24</td>  \n",
       "</tr>\n",
       "<tr>\n",
       "  <th>No. Iterations:</th>          <td>3</td>        <th>  Pseudo R-squ. (CS):</th>  <td>0.6120</td>  \n",
       "</tr>\n",
       "<tr>\n",
       "  <th>Covariance Type:</th>     <td>nonrobust</td>    <th>                     </th>     <td> </td>    \n",
       "</tr>\n",
       "</table>\n",
       "<table class=\"simpletable\">\n",
       "<tr>\n",
       "                   <td></td>                     <th>coef</th>     <th>std err</th>      <th>z</th>      <th>P>|z|</th>  <th>[0.025</th>    <th>0.975]</th>  \n",
       "</tr>\n",
       "<tr>\n",
       "  <th>const</th>                              <td>   -0.0311</td> <td>    0.006</td> <td>   -4.933</td> <td> 0.000</td> <td>   -0.044</td> <td>   -0.019</td>\n",
       "</tr>\n",
       "<tr>\n",
       "  <th>Goals</th>                              <td>    0.0129</td> <td>    0.001</td> <td>   13.600</td> <td> 0.000</td> <td>    0.011</td> <td>    0.015</td>\n",
       "</tr>\n",
       "<tr>\n",
       "  <th>Assists</th>                            <td>    0.0050</td> <td>    0.002</td> <td>    2.949</td> <td> 0.003</td> <td>    0.002</td> <td>    0.008</td>\n",
       "</tr>\n",
       "<tr>\n",
       "  <th>Goals conceded</th>                     <td>    0.0051</td> <td>    0.001</td> <td>    4.229</td> <td> 0.000</td> <td>    0.003</td> <td>    0.007</td>\n",
       "</tr>\n",
       "<tr>\n",
       "  <th>UEFA_Super_Cup_appearances</th>         <td>   -0.0724</td> <td>    0.029</td> <td>   -2.508</td> <td> 0.012</td> <td>   -0.129</td> <td>   -0.016</td>\n",
       "</tr>\n",
       "<tr>\n",
       "  <th>UEFA-Cup_Qualifikation_appearances</th> <td>-1.187e-05</td> <td>  5.1e-06</td> <td>   -2.325</td> <td> 0.020</td> <td>-2.19e-05</td> <td>-1.86e-06</td>\n",
       "</tr>\n",
       "<tr>\n",
       "  <th>UI_Cup_appearances</th>                 <td>-1.187e-05</td> <td>  5.1e-06</td> <td>   -2.325</td> <td> 0.020</td> <td>-2.19e-05</td> <td>-1.86e-06</td>\n",
       "</tr>\n",
       "<tr>\n",
       "  <th>Champions League winner</th>            <td>    0.0391</td> <td>    0.008</td> <td>    4.651</td> <td> 0.000</td> <td>    0.023</td> <td>    0.056</td>\n",
       "</tr>\n",
       "<tr>\n",
       "  <th>Copa América winner</th>                <td>    0.0519</td> <td>    0.024</td> <td>    2.174</td> <td> 0.030</td> <td>    0.005</td> <td>    0.099</td>\n",
       "</tr>\n",
       "<tr>\n",
       "  <th>Dutch champion</th>                     <td>   -0.0983</td> <td>    0.044</td> <td>   -2.220</td> <td> 0.026</td> <td>   -0.185</td> <td>   -0.012</td>\n",
       "</tr>\n",
       "<tr>\n",
       "  <th>European champion</th>                  <td>    0.0421</td> <td>    0.016</td> <td>    2.605</td> <td> 0.009</td> <td>    0.010</td> <td>    0.074</td>\n",
       "</tr>\n",
       "<tr>\n",
       "  <th>French Super Cup winner</th>            <td>   -0.0384</td> <td>    0.020</td> <td>   -1.969</td> <td> 0.049</td> <td>   -0.077</td> <td>   -0.000</td>\n",
       "</tr>\n",
       "<tr>\n",
       "  <th>German cup winner</th>                  <td>   -0.0275</td> <td>    0.012</td> <td>   -2.212</td> <td> 0.027</td> <td>   -0.052</td> <td>   -0.003</td>\n",
       "</tr>\n",
       "<tr>\n",
       "  <th>Olympic medalist</th>                   <td>    0.1067</td> <td>    0.035</td> <td>    3.041</td> <td> 0.002</td> <td>    0.038</td> <td>    0.175</td>\n",
       "</tr>\n",
       "<tr>\n",
       "  <th>Spanish Super Cup winner</th>           <td>    0.0273</td> <td>    0.011</td> <td>    2.550</td> <td> 0.011</td> <td>    0.006</td> <td>    0.048</td>\n",
       "</tr>\n",
       "<tr>\n",
       "  <th>World Cup winner</th>                   <td>    0.0447</td> <td>    0.016</td> <td>    2.716</td> <td> 0.007</td> <td>    0.012</td> <td>    0.077</td>\n",
       "</tr>\n",
       "<tr>\n",
       "  <th>Europa League_Minutes</th>              <td>-5.569e-05</td> <td> 2.02e-05</td> <td>   -2.762</td> <td> 0.006</td> <td>-9.52e-05</td> <td>-1.62e-05</td>\n",
       "</tr>\n",
       "<tr>\n",
       "  <th>Leagues Cup_Minutes</th>                <td>    0.0005</td> <td>  7.8e-05</td> <td>    6.061</td> <td> 0.000</td> <td>    0.000</td> <td>    0.001</td>\n",
       "</tr>\n",
       "<tr>\n",
       "  <th>UEFA Super Cup_Minutes</th>             <td>    0.0008</td> <td>    0.000</td> <td>    2.495</td> <td> 0.013</td> <td>    0.000</td> <td>    0.001</td>\n",
       "</tr>\n",
       "<tr>\n",
       "  <th>UEFA-Cup Qualifikation_Minutes</th>     <td>   -0.0009</td> <td>    0.000</td> <td>   -2.325</td> <td> 0.020</td> <td>   -0.002</td> <td>   -0.000</td>\n",
       "</tr>\n",
       "<tr>\n",
       "  <th>UI Cup_Minutes</th>                     <td>   -0.0011</td> <td>    0.000</td> <td>   -2.325</td> <td> 0.020</td> <td>   -0.002</td> <td>   -0.000</td>\n",
       "</tr>\n",
       "</table>"
      ],
      "text/latex": [
       "\\begin{center}\n",
       "\\begin{tabular}{lclc}\n",
       "\\toprule\n",
       "\\textbf{Dep. Variable:}                       &      Share       & \\textbf{  No. Observations:  } &      365    \\\\\n",
       "\\textbf{Model:}                               &       GLM        & \\textbf{  Df Residuals:      } &      347    \\\\\n",
       "\\textbf{Model Family:}                        &     Gaussian     & \\textbf{  Df Model:          } &       17    \\\\\n",
       "\\textbf{Link Function:}                       &     Identity     & \\textbf{  Scale:             } & 0.0035767   \\\\\n",
       "\\textbf{Method:}                              &       IRLS       & \\textbf{  Log-Likelihood:    } &    519.40   \\\\\n",
       "\\textbf{Date:}                                & Tue, 02 Jan 2024 & \\textbf{  Deviance:          } &    1.2411   \\\\\n",
       "\\textbf{Time:}                                &     10:14:26     & \\textbf{  Pearson chi2:      } &     1.24    \\\\\n",
       "\\textbf{No. Iterations:}                      &        3         & \\textbf{  Pseudo R-squ. (CS):} &   0.6120    \\\\\n",
       "\\textbf{Covariance Type:}                     &    nonrobust     & \\textbf{                     } &             \\\\\n",
       "\\bottomrule\n",
       "\\end{tabular}\n",
       "\\begin{tabular}{lcccccc}\n",
       "                                              & \\textbf{coef} & \\textbf{std err} & \\textbf{z} & \\textbf{P$> |$z$|$} & \\textbf{[0.025} & \\textbf{0.975]}  \\\\\n",
       "\\midrule\n",
       "\\textbf{const}                                &      -0.0311  &        0.006     &    -4.933  &         0.000        &       -0.044    &       -0.019     \\\\\n",
       "\\textbf{Goals}                                &       0.0129  &        0.001     &    13.600  &         0.000        &        0.011    &        0.015     \\\\\n",
       "\\textbf{Assists}                              &       0.0050  &        0.002     &     2.949  &         0.003        &        0.002    &        0.008     \\\\\n",
       "\\textbf{Goals conceded}                       &       0.0051  &        0.001     &     4.229  &         0.000        &        0.003    &        0.007     \\\\\n",
       "\\textbf{UEFA\\_Super\\_Cup\\_appearances}        &      -0.0724  &        0.029     &    -2.508  &         0.012        &       -0.129    &       -0.016     \\\\\n",
       "\\textbf{UEFA-Cup\\_Qualifikation\\_appearances} &   -1.187e-05  &      5.1e-06     &    -2.325  &         0.020        &    -2.19e-05    &    -1.86e-06     \\\\\n",
       "\\textbf{UI\\_Cup\\_appearances}                 &   -1.187e-05  &      5.1e-06     &    -2.325  &         0.020        &    -2.19e-05    &    -1.86e-06     \\\\\n",
       "\\textbf{Champions League winner}              &       0.0391  &        0.008     &     4.651  &         0.000        &        0.023    &        0.056     \\\\\n",
       "\\textbf{Copa América winner}                  &       0.0519  &        0.024     &     2.174  &         0.030        &        0.005    &        0.099     \\\\\n",
       "\\textbf{Dutch champion}                       &      -0.0983  &        0.044     &    -2.220  &         0.026        &       -0.185    &       -0.012     \\\\\n",
       "\\textbf{European champion}                    &       0.0421  &        0.016     &     2.605  &         0.009        &        0.010    &        0.074     \\\\\n",
       "\\textbf{French Super Cup winner}              &      -0.0384  &        0.020     &    -1.969  &         0.049        &       -0.077    &       -0.000     \\\\\n",
       "\\textbf{German cup winner}                    &      -0.0275  &        0.012     &    -2.212  &         0.027        &       -0.052    &       -0.003     \\\\\n",
       "\\textbf{Olympic medalist}                     &       0.1067  &        0.035     &     3.041  &         0.002        &        0.038    &        0.175     \\\\\n",
       "\\textbf{Spanish Super Cup winner}             &       0.0273  &        0.011     &     2.550  &         0.011        &        0.006    &        0.048     \\\\\n",
       "\\textbf{World Cup winner}                     &       0.0447  &        0.016     &     2.716  &         0.007        &        0.012    &        0.077     \\\\\n",
       "\\textbf{Europa League\\_Minutes}               &   -5.569e-05  &     2.02e-05     &    -2.762  &         0.006        &    -9.52e-05    &    -1.62e-05     \\\\\n",
       "\\textbf{Leagues Cup\\_Minutes}                 &       0.0005  &      7.8e-05     &     6.061  &         0.000        &        0.000    &        0.001     \\\\\n",
       "\\textbf{UEFA Super Cup\\_Minutes}              &       0.0008  &        0.000     &     2.495  &         0.013        &        0.000    &        0.001     \\\\\n",
       "\\textbf{UEFA-Cup Qualifikation\\_Minutes}      &      -0.0009  &        0.000     &    -2.325  &         0.020        &       -0.002    &       -0.000     \\\\\n",
       "\\textbf{UI Cup\\_Minutes}                      &      -0.0011  &        0.000     &    -2.325  &         0.020        &       -0.002    &       -0.000     \\\\\n",
       "\\bottomrule\n",
       "\\end{tabular}\n",
       "%\\caption{Generalized Linear Model Regression Results}\n",
       "\\end{center}"
      ],
      "text/plain": [
       "<class 'statsmodels.iolib.summary.Summary'>\n",
       "\"\"\"\n",
       "                 Generalized Linear Model Regression Results                  \n",
       "==============================================================================\n",
       "Dep. Variable:                  Share   No. Observations:                  365\n",
       "Model:                            GLM   Df Residuals:                      347\n",
       "Model Family:                Gaussian   Df Model:                           17\n",
       "Link Function:               Identity   Scale:                       0.0035767\n",
       "Method:                          IRLS   Log-Likelihood:                 519.40\n",
       "Date:                Tue, 02 Jan 2024   Deviance:                       1.2411\n",
       "Time:                        10:14:26   Pearson chi2:                     1.24\n",
       "No. Iterations:                     3   Pseudo R-squ. (CS):             0.6120\n",
       "Covariance Type:            nonrobust                                         \n",
       "======================================================================================================\n",
       "                                         coef    std err          z      P>|z|      [0.025      0.975]\n",
       "------------------------------------------------------------------------------------------------------\n",
       "const                                 -0.0311      0.006     -4.933      0.000      -0.044      -0.019\n",
       "Goals                                  0.0129      0.001     13.600      0.000       0.011       0.015\n",
       "Assists                                0.0050      0.002      2.949      0.003       0.002       0.008\n",
       "Goals conceded                         0.0051      0.001      4.229      0.000       0.003       0.007\n",
       "UEFA_Super_Cup_appearances            -0.0724      0.029     -2.508      0.012      -0.129      -0.016\n",
       "UEFA-Cup_Qualifikation_appearances -1.187e-05    5.1e-06     -2.325      0.020   -2.19e-05   -1.86e-06\n",
       "UI_Cup_appearances                 -1.187e-05    5.1e-06     -2.325      0.020   -2.19e-05   -1.86e-06\n",
       "Champions League winner                0.0391      0.008      4.651      0.000       0.023       0.056\n",
       "Copa América winner                    0.0519      0.024      2.174      0.030       0.005       0.099\n",
       "Dutch champion                        -0.0983      0.044     -2.220      0.026      -0.185      -0.012\n",
       "European champion                      0.0421      0.016      2.605      0.009       0.010       0.074\n",
       "French Super Cup winner               -0.0384      0.020     -1.969      0.049      -0.077      -0.000\n",
       "German cup winner                     -0.0275      0.012     -2.212      0.027      -0.052      -0.003\n",
       "Olympic medalist                       0.1067      0.035      3.041      0.002       0.038       0.175\n",
       "Spanish Super Cup winner               0.0273      0.011      2.550      0.011       0.006       0.048\n",
       "World Cup winner                       0.0447      0.016      2.716      0.007       0.012       0.077\n",
       "Europa League_Minutes              -5.569e-05   2.02e-05     -2.762      0.006   -9.52e-05   -1.62e-05\n",
       "Leagues Cup_Minutes                    0.0005    7.8e-05      6.061      0.000       0.000       0.001\n",
       "UEFA Super Cup_Minutes                 0.0008      0.000      2.495      0.013       0.000       0.001\n",
       "UEFA-Cup Qualifikation_Minutes        -0.0009      0.000     -2.325      0.020      -0.002      -0.000\n",
       "UI Cup_Minutes                        -0.0011      0.000     -2.325      0.020      -0.002      -0.000\n",
       "======================================================================================================\n",
       "\"\"\""
      ]
     },
     "execution_count": 154,
     "metadata": {},
     "output_type": "execute_result"
    }
   ],
   "source": [
    "glm_results.summary()"
   ]
  },
  {
   "cell_type": "code",
   "execution_count": 155,
   "metadata": {},
   "outputs": [],
   "source": [
    "# to_remove = []\n",
    "# for i in glm_results.pvalues.index:\n",
    "#     if glm_results.pvalues[i] > 0.05:\n",
    "#         # print(i)\n",
    "#         to_remove.append(i)\n",
    "#     elif np.isnan(glm_results.pvalues[i]):\n",
    "#         # print(i)\n",
    "#         to_remove.append(i)\n",
    "# X = X.drop(columns=to_remove)"
   ]
  },
  {
   "cell_type": "code",
   "execution_count": 156,
   "metadata": {},
   "outputs": [],
   "source": [
    "# glm = sm.GLM(endog=y, exog= X, family=sm.families.Gaussian())\n",
    "# X = sm.add_constant(X)\n",
    "# glm_results = glm.fit()\n",
    "# glm_results.summary()"
   ]
  },
  {
   "cell_type": "code",
   "execution_count": 157,
   "metadata": {},
   "outputs": [
    {
     "name": "stdout",
     "output_type": "stream",
     "text": [
      "Predicted Score: 0.015977790939741325 Actual Score:  0.0004\n"
     ]
    }
   ],
   "source": [
    "def predict_season(num):\n",
    "    # print(X.iloc[num])\n",
    "    pred_score = glm_results.predict(X.iloc[num]).values[0]\n",
    "    print('Predicted Score:', pred_score, 'Actual Score: ', y.iloc[num])\n",
    "predict_season(300)"
   ]
  },
  {
   "cell_type": "markdown",
   "metadata": {},
   "source": [
    "# Only using trends data"
   ]
  },
  {
   "cell_type": "code",
   "execution_count": 158,
   "metadata": {},
   "outputs": [],
   "source": [
    "# X, y = df['Trend'], df['Share']\n",
    "# glm = sm.GLM(endog=y, exog= X, family=sm.families.Gaussian())\n",
    "# X = sm.add_constant(X)\n",
    "# glm_results = glm.fit()"
   ]
  },
  {
   "cell_type": "code",
   "execution_count": 159,
   "metadata": {},
   "outputs": [],
   "source": [
    "# glm_results.summary()"
   ]
  },
  {
   "cell_type": "code",
   "execution_count": null,
   "metadata": {},
   "outputs": [],
   "source": []
  }
 ],
 "metadata": {
  "kernelspec": {
   "display_name": "outplayed",
   "language": "python",
   "name": "python3"
  },
  "language_info": {
   "codemirror_mode": {
    "name": "ipython",
    "version": 3
   },
   "file_extension": ".py",
   "mimetype": "text/x-python",
   "name": "python",
   "nbconvert_exporter": "python",
   "pygments_lexer": "ipython3",
   "version": "3.11.0"
  }
 },
 "nbformat": 4,
 "nbformat_minor": 2
}
