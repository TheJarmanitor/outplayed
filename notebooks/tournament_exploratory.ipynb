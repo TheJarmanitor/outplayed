{
 "cells": [
  {
   "cell_type": "code",
   "execution_count": null,
   "metadata": {},
   "outputs": [],
   "source": [
    "import pandas as pd"
   ]
  },
  {
   "cell_type": "code",
   "execution_count": null,
   "metadata": {},
   "outputs": [],
   "source": [
    "stats_df = pd.read_csv(\"../data/tournament_stats_new.csv\")\n",
    "\n",
    "bdo_df = pd.read_csv(\"../data/BallonDOr_combined.csv\")"
   ]
  },
  {
   "cell_type": "code",
   "execution_count": null,
   "metadata": {},
   "outputs": [],
   "source": [
    "year_counts = {}\n",
    "to_inspect = {'Year': [], 'Rank': []}\n",
    "for idx, row in bdo_df.iterrows():\n",
    "    year = row['Year']\n",
    "    \n",
    "    year = str(year)[-2:]\n",
    "    \n",
    "    year = int(year)\n",
    "\n",
    "    if 8 <= year <= 23:\n",
    "        to_inspect['Year'].append(year)\n",
    "        to_inspect['Rank'].append(row['Rank'])\n",
    "        if year not in year_counts.keys():\n",
    "            year_counts[year] = 1\n",
    "\n",
    "        else:\n",
    "            year_counts[year] += 1\n",
    "\n",
    "print(year_counts)\n",
    "balondor_year_ranks = pd.DataFrame(to_inspect)"
   ]
  },
  {
   "cell_type": "code",
   "execution_count": null,
   "metadata": {},
   "outputs": [],
   "source": [
    "balondor_year_ranks[balondor_year_ranks['Year'] == 8]"
   ]
  },
  {
   "cell_type": "code",
   "execution_count": null,
   "metadata": {},
   "outputs": [],
   "source": [
    "bdo_df['Year'] = bdo_df['Year'].apply(lambda x: int(str(x)[-2:]))\n",
    "bdo_df = bdo_df.query('Year >= 8 & Year <=23').infer_objects().drop(columns=[\"Club\"])\n",
    "# ballon_dor['Share'] = np.log(ballon_dor['Share'])\n",
    "\n",
    "stats_df['Season'] = stats_df['Season'].apply(lambda x: int(str(x)[-2:]))\n",
    "stats_df = stats_df.query('Season >= 8 & Season <=23').infer_objects()"
   ]
  },
  {
   "cell_type": "code",
   "execution_count": null,
   "metadata": {},
   "outputs": [],
   "source": [
    "# data still there\n",
    "bdo_df[bdo_df['Year'] == 8.0]"
   ]
  },
  {
   "cell_type": "code",
   "execution_count": null,
   "metadata": {},
   "outputs": [],
   "source": [
    "print(bdo_df.shape)\n",
    "print(stats_df.shape)"
   ]
  },
  {
   "cell_type": "code",
   "execution_count": null,
   "metadata": {},
   "outputs": [],
   "source": [
    "stats_df.head()"
   ]
  },
  {
   "cell_type": "code",
   "execution_count": null,
   "metadata": {},
   "outputs": [],
   "source": [
    "stats_df['Season'].unique()"
   ]
  },
  {
   "cell_type": "code",
   "execution_count": null,
   "metadata": {},
   "outputs": [],
   "source": [
    "pd.get_dummies(stats_df[\"Competition\"])"
   ]
  },
  {
   "cell_type": "code",
   "execution_count": null,
   "metadata": {},
   "outputs": [],
   "source": [
    "bdo_df.head()"
   ]
  },
  {
   "cell_type": "code",
   "execution_count": null,
   "metadata": {},
   "outputs": [],
   "source": [
    "bdo_df[bdo_df[\"Player\"] == \"Cristiano Ronaldo\"]"
   ]
  },
  {
   "cell_type": "code",
   "execution_count": null,
   "metadata": {},
   "outputs": [],
   "source": [
    "bdo_df.columns"
   ]
  },
  {
   "cell_type": "code",
   "execution_count": null,
   "metadata": {},
   "outputs": [],
   "source": [
    "stats_df.columns"
   ]
  },
  {
   "cell_type": "code",
   "execution_count": null,
   "metadata": {},
   "outputs": [],
   "source": [
    "desired_columns = ['Year', 'Rank', 'Player', 'Club', 'Nationality', 'Points', 'P1',\n",
    "                   'P2', 'P3', 'P4', 'P5', 'Votes', 'RankPts', 'Share', 'Percent',\n",
    "                   'Voted', 'Season', 'Goals', 'Assists', 'Yellow Cards', 'Red Cards',\n",
    "                   'Minutes Played', 'Goals conceded', 'Clean sheets']"
   ]
  },
  {
   "cell_type": "code",
   "execution_count": null,
   "metadata": {},
   "outputs": [],
   "source": [
    "y8 = stats_df[stats_df['Season'] == 8]\n",
    "cristiano = y8[y8['Player'] == 'Cristiano Ronaldo']\n",
    "cristiano"
   ]
  },
  {
   "cell_type": "code",
   "execution_count": null,
   "metadata": {},
   "outputs": [],
   "source": [
    "# aidan merge of bdo_df and stats_df\n",
    "\n",
    "# join by going through each year, and for each player getting their details from both datasets\n",
    "# and adding it to a merged row instead\n",
    "\n",
    "merged = dict()\n",
    "for col in desired_columns:\n",
    "    merged[col] = []\n",
    "\n",
    "for year in range(8, 24):\n",
    "    stats_by_year = stats_df[stats_df['Season'] == year]\n",
    "    bdo_by_year = bdo_df[bdo_df['Year'] == year]\n",
    "\n",
    "    balondor_players = bdo_by_year['Player'].unique()\n",
    "    \n",
    "    what_count = 0\n",
    "    for player in balondor_players:\n",
    "        if player not in stats_by_year['Player'].values:\n",
    "            what_count += 1\n",
    "            print(player)\n",
    "    print(what_count)"
   ]
  },
  {
   "cell_type": "code",
   "execution_count": null,
   "metadata": {},
   "outputs": [],
   "source": [
    "df = pd.merge(bdo_df, stats_df, left_on=[\"Player\", \"Year\"], right_on=[\"Player\", \"Season\"]).drop(columns=[\"Second yellow cards\"])\n",
    "df.info()"
   ]
  },
  {
   "cell_type": "code",
   "execution_count": null,
   "metadata": {},
   "outputs": [],
   "source": [
    "merged_y8 = df[df['Year'] == 8.0]\n",
    "merged_y8_rank4 = merged_y8[merged_y8['Rank'] == 4]\n",
    "merged_y8_rank4"
   ]
  },
  {
   "cell_type": "code",
   "execution_count": null,
   "metadata": {},
   "outputs": [],
   "source": [
    "df[\"Share\"]"
   ]
  },
  {
   "cell_type": "code",
   "execution_count": null,
   "metadata": {},
   "outputs": [],
   "source": [
    "df = df.replace('-', 0)\n",
    "for col in df.columns:\n",
    "    try:\n",
    "        df[col] = df[col].astype('float')\n",
    "    except:\n",
    "        continue\n",
    "# df[\"Minutes played\"] = df['Minutes played'].str.removesuffix(\"'\").astype(\"float\")\n",
    "df[\"Minutes played\"] = df['Minutes played'].astype(\"float\")"
   ]
  },
  {
   "cell_type": "code",
   "execution_count": null,
   "metadata": {},
   "outputs": [],
   "source": [
    "df[\"Player\"].value_counts().head(20)"
   ]
  },
  {
   "cell_type": "code",
   "execution_count": null,
   "metadata": {},
   "outputs": [],
   "source": [
    "for competition in df[\"Competition\"].unique():\n",
    "    df[f\"{competition.replace(' ', '_')}_appearances\"] = df[df[\"Competition\"]== competition][\"Appearances\"].fillna(0)\n",
    "    df[f\"{competition.replace(' ', '_')}_appearances\"].fillna(0, inplace=True)"
   ]
  },
  {
   "cell_type": "code",
   "execution_count": null,
   "metadata": {},
   "outputs": [],
   "source": [
    "df.info()"
   ]
  },
  {
   "cell_type": "code",
   "execution_count": null,
   "metadata": {},
   "outputs": [],
   "source": [
    "base_cols = [\"Year\", \"Rank\", \"Player\", \"Club\", \"Nationality\"] \n",
    "df[base_cols]"
   ]
  },
  {
   "cell_type": "code",
   "execution_count": null,
   "metadata": {},
   "outputs": [],
   "source": [
    "df_max = df.iloc[:, :18].drop(columns=[\"Competition\"])\n",
    "df_sum = pd.concat([df[base_cols],df.iloc[:, 19:]], axis=1)"
   ]
  },
  {
   "cell_type": "code",
   "execution_count": null,
   "metadata": {},
   "outputs": [],
   "source": [
    "df[\"Share\"]"
   ]
  },
  {
   "cell_type": "code",
   "execution_count": null,
   "metadata": {},
   "outputs": [],
   "source": [
    "df_sum = df_sum.groupby(base_cols).sum()\n",
    "df_max = df_max.groupby(base_cols).max()\n",
    "\n",
    "df_final = df_max.merge(df_sum, left_index=True, right_index=True)"
   ]
  },
  {
   "cell_type": "code",
   "execution_count": null,
   "metadata": {},
   "outputs": [],
   "source": [
    "# df_final = df_final.rename(columns={\n",
    "    # \"is_national\": \"national_comps\",\n",
    "    # \"is_international\": \"international_comps\",\n",
    "    # \"is_domestic\": \"domestic_comps\"\n",
    "# })"
   ]
  },
  {
   "cell_type": "code",
   "execution_count": null,
   "metadata": {},
   "outputs": [],
   "source": [
    "df_final"
   ]
  },
  {
   "cell_type": "code",
   "execution_count": null,
   "metadata": {},
   "outputs": [],
   "source": [
    "df_final.to_csv('../data/player_stats_new.csv')"
   ]
  },
  {
   "cell_type": "markdown",
   "metadata": {},
   "source": [
    "### Comparing old with new"
   ]
  },
  {
   "cell_type": "code",
   "execution_count": null,
   "metadata": {},
   "outputs": [],
   "source": [
    "df_final = pd.read_csv('../data/player_stats.csv')\n",
    "df_final[df_final['Year'] == 8.0]"
   ]
  },
  {
   "cell_type": "code",
   "execution_count": null,
   "metadata": {},
   "outputs": [],
   "source": [
    "df_final_new = pd.read_csv('../data/player_stats_new.csv')\n",
    "df_final_new[df_final_new['Year'] == 9.0]"
   ]
  }
 ],
 "metadata": {
  "kernelspec": {
   "display_name": "outplayed",
   "language": "python",
   "name": "python3"
  },
  "language_info": {
   "codemirror_mode": {
    "name": "ipython",
    "version": 3
   },
   "file_extension": ".py",
   "mimetype": "text/x-python",
   "name": "python",
   "nbconvert_exporter": "python",
   "pygments_lexer": "ipython3",
   "version": "3.10.12"
  }
 },
 "nbformat": 4,
 "nbformat_minor": 2
}
